{
  "nbformat": 4,
  "nbformat_minor": 0,
  "metadata": {
    "colab": {
      "name": "Insight of Transportation Sales.ipynb",
      "provenance": [],
      "collapsed_sections": [
        "bCJkvMoTvBnB",
        "KmJBT8wYvG2x",
        "FNvq8SxAvS9K",
        "89zAgLv34j2I",
        "T4_GY7dbm_Ra",
        "8S1Ijrv6wpIX",
        "kKQDeq4CrGsI",
        "W4UccjtZw3C0",
        "4qc6yMSDw9UU",
        "nByVC7IX45NP",
        "WGgz7W51x6mM",
        "rW50zOIDyJ8O",
        "KwZLSsgBzDFy",
        "3P1WSMOH0SgD",
        "uUPldgO40xSQ",
        "Cn1-uCVd3T_I",
        "ZmnWd30_Dq4Z",
        "PVjCaGqF8DiG",
        "dh0UIkbv3g4h",
        "6-IoO5XW3qvL",
        "t83kSPGO1rQy",
        "t-n8ulv65Gc3",
        "EnYoYhkw5Oe-",
        "s3SbTdsj5W9C",
        "vfzEnDx_iFXb"
      ]
    },
    "kernelspec": {
      "name": "python3",
      "display_name": "Python 3"
    },
    "language_info": {
      "name": "python"
    }
  },
  "cells": [
    {
      "cell_type": "markdown",
      "metadata": {
        "id": "bCJkvMoTvBnB"
      },
      "source": [
        "# **Importing Libraries**"
      ]
    },
    {
      "cell_type": "code",
      "metadata": {
        "id": "4j0nNFeJft8V"
      },
      "source": [
        "import pandas as pd\n",
        "import numpy as np\n",
        "import seaborn as sns\n",
        "import matplotlib.pyplot as plt\n",
        "from scipy import stats\n",
        "import plotly.express as px"
      ],
      "execution_count": null,
      "outputs": []
    },
    {
      "cell_type": "markdown",
      "metadata": {
        "id": "KmJBT8wYvG2x"
      },
      "source": [
        "# **Loading Dataset**"
      ]
    },
    {
      "cell_type": "code",
      "metadata": {
        "colab": {
          "base_uri": "https://localhost:8080/",
          "height": 669
        },
        "id": "z95Ei7hFhR53",
        "outputId": "75fcae5a-5fef-4d20-feb8-f5fee2f8be90"
      },
      "source": [
        "df = pd.read_csv(\"sales_data_sample.csv\", encoding= 'unicode_escape')\n",
        "df"
      ],
      "execution_count": null,
      "outputs": [
        {
          "output_type": "execute_result",
          "data": {
            "text/html": [
              "<div>\n",
              "<style scoped>\n",
              "    .dataframe tbody tr th:only-of-type {\n",
              "        vertical-align: middle;\n",
              "    }\n",
              "\n",
              "    .dataframe tbody tr th {\n",
              "        vertical-align: top;\n",
              "    }\n",
              "\n",
              "    .dataframe thead th {\n",
              "        text-align: right;\n",
              "    }\n",
              "</style>\n",
              "<table border=\"1\" class=\"dataframe\">\n",
              "  <thead>\n",
              "    <tr style=\"text-align: right;\">\n",
              "      <th></th>\n",
              "      <th>ORDERNUMBER</th>\n",
              "      <th>QUANTITYORDERED</th>\n",
              "      <th>PRICEEACH</th>\n",
              "      <th>ORDERLINENUMBER</th>\n",
              "      <th>SALES</th>\n",
              "      <th>ORDERDATE</th>\n",
              "      <th>STATUS</th>\n",
              "      <th>QTR_ID</th>\n",
              "      <th>MONTH_ID</th>\n",
              "      <th>YEAR_ID</th>\n",
              "      <th>PRODUCTLINE</th>\n",
              "      <th>MSRP</th>\n",
              "      <th>PRODUCTCODE</th>\n",
              "      <th>CUSTOMERNAME</th>\n",
              "      <th>PHONE</th>\n",
              "      <th>ADDRESSLINE1</th>\n",
              "      <th>ADDRESSLINE2</th>\n",
              "      <th>CITY</th>\n",
              "      <th>STATE</th>\n",
              "      <th>POSTALCODE</th>\n",
              "      <th>COUNTRY</th>\n",
              "      <th>TERRITORY</th>\n",
              "      <th>CONTACTLASTNAME</th>\n",
              "      <th>CONTACTFIRSTNAME</th>\n",
              "      <th>DEALSIZE</th>\n",
              "    </tr>\n",
              "  </thead>\n",
              "  <tbody>\n",
              "    <tr>\n",
              "      <th>0</th>\n",
              "      <td>10107</td>\n",
              "      <td>30</td>\n",
              "      <td>95.70</td>\n",
              "      <td>2</td>\n",
              "      <td>2871.00</td>\n",
              "      <td>2/24/2003 0:00</td>\n",
              "      <td>Shipped</td>\n",
              "      <td>1</td>\n",
              "      <td>2</td>\n",
              "      <td>2003</td>\n",
              "      <td>Motorcycles</td>\n",
              "      <td>95</td>\n",
              "      <td>S10_1678</td>\n",
              "      <td>Land of Toys Inc.</td>\n",
              "      <td>2125557818</td>\n",
              "      <td>897 Long Airport Avenue</td>\n",
              "      <td>NaN</td>\n",
              "      <td>NYC</td>\n",
              "      <td>NY</td>\n",
              "      <td>10022</td>\n",
              "      <td>USA</td>\n",
              "      <td>NaN</td>\n",
              "      <td>Yu</td>\n",
              "      <td>Kwai</td>\n",
              "      <td>Small</td>\n",
              "    </tr>\n",
              "    <tr>\n",
              "      <th>1</th>\n",
              "      <td>10121</td>\n",
              "      <td>34</td>\n",
              "      <td>81.35</td>\n",
              "      <td>5</td>\n",
              "      <td>2765.90</td>\n",
              "      <td>5/7/2003 0:00</td>\n",
              "      <td>Shipped</td>\n",
              "      <td>2</td>\n",
              "      <td>5</td>\n",
              "      <td>2003</td>\n",
              "      <td>Motorcycles</td>\n",
              "      <td>95</td>\n",
              "      <td>S10_1678</td>\n",
              "      <td>Reims Collectables</td>\n",
              "      <td>26.47.1555</td>\n",
              "      <td>59 rue de l'Abbaye</td>\n",
              "      <td>NaN</td>\n",
              "      <td>Reims</td>\n",
              "      <td>NaN</td>\n",
              "      <td>51100</td>\n",
              "      <td>France</td>\n",
              "      <td>EMEA</td>\n",
              "      <td>Henriot</td>\n",
              "      <td>Paul</td>\n",
              "      <td>Small</td>\n",
              "    </tr>\n",
              "    <tr>\n",
              "      <th>2</th>\n",
              "      <td>10134</td>\n",
              "      <td>41</td>\n",
              "      <td>94.74</td>\n",
              "      <td>2</td>\n",
              "      <td>3884.34</td>\n",
              "      <td>7/1/2003 0:00</td>\n",
              "      <td>Shipped</td>\n",
              "      <td>3</td>\n",
              "      <td>7</td>\n",
              "      <td>2003</td>\n",
              "      <td>Motorcycles</td>\n",
              "      <td>95</td>\n",
              "      <td>S10_1678</td>\n",
              "      <td>Lyon Souveniers</td>\n",
              "      <td>+33 1 46 62 7555</td>\n",
              "      <td>27 rue du Colonel Pierre Avia</td>\n",
              "      <td>NaN</td>\n",
              "      <td>Paris</td>\n",
              "      <td>NaN</td>\n",
              "      <td>75508</td>\n",
              "      <td>France</td>\n",
              "      <td>EMEA</td>\n",
              "      <td>Da Cunha</td>\n",
              "      <td>Daniel</td>\n",
              "      <td>Medium</td>\n",
              "    </tr>\n",
              "    <tr>\n",
              "      <th>3</th>\n",
              "      <td>10145</td>\n",
              "      <td>45</td>\n",
              "      <td>83.26</td>\n",
              "      <td>6</td>\n",
              "      <td>3746.70</td>\n",
              "      <td>8/25/2003 0:00</td>\n",
              "      <td>Shipped</td>\n",
              "      <td>3</td>\n",
              "      <td>8</td>\n",
              "      <td>2003</td>\n",
              "      <td>Motorcycles</td>\n",
              "      <td>95</td>\n",
              "      <td>S10_1678</td>\n",
              "      <td>Toys4GrownUps.com</td>\n",
              "      <td>6265557265</td>\n",
              "      <td>78934 Hillside Dr.</td>\n",
              "      <td>NaN</td>\n",
              "      <td>Pasadena</td>\n",
              "      <td>CA</td>\n",
              "      <td>90003</td>\n",
              "      <td>USA</td>\n",
              "      <td>NaN</td>\n",
              "      <td>Young</td>\n",
              "      <td>Julie</td>\n",
              "      <td>Medium</td>\n",
              "    </tr>\n",
              "    <tr>\n",
              "      <th>4</th>\n",
              "      <td>10159</td>\n",
              "      <td>49</td>\n",
              "      <td>100.00</td>\n",
              "      <td>14</td>\n",
              "      <td>5205.27</td>\n",
              "      <td>10/10/2003 0:00</td>\n",
              "      <td>Shipped</td>\n",
              "      <td>4</td>\n",
              "      <td>10</td>\n",
              "      <td>2003</td>\n",
              "      <td>Motorcycles</td>\n",
              "      <td>95</td>\n",
              "      <td>S10_1678</td>\n",
              "      <td>Corporate Gift Ideas Co.</td>\n",
              "      <td>6505551386</td>\n",
              "      <td>7734 Strong St.</td>\n",
              "      <td>NaN</td>\n",
              "      <td>San Francisco</td>\n",
              "      <td>CA</td>\n",
              "      <td>NaN</td>\n",
              "      <td>USA</td>\n",
              "      <td>NaN</td>\n",
              "      <td>Brown</td>\n",
              "      <td>Julie</td>\n",
              "      <td>Medium</td>\n",
              "    </tr>\n",
              "    <tr>\n",
              "      <th>...</th>\n",
              "      <td>...</td>\n",
              "      <td>...</td>\n",
              "      <td>...</td>\n",
              "      <td>...</td>\n",
              "      <td>...</td>\n",
              "      <td>...</td>\n",
              "      <td>...</td>\n",
              "      <td>...</td>\n",
              "      <td>...</td>\n",
              "      <td>...</td>\n",
              "      <td>...</td>\n",
              "      <td>...</td>\n",
              "      <td>...</td>\n",
              "      <td>...</td>\n",
              "      <td>...</td>\n",
              "      <td>...</td>\n",
              "      <td>...</td>\n",
              "      <td>...</td>\n",
              "      <td>...</td>\n",
              "      <td>...</td>\n",
              "      <td>...</td>\n",
              "      <td>...</td>\n",
              "      <td>...</td>\n",
              "      <td>...</td>\n",
              "      <td>...</td>\n",
              "    </tr>\n",
              "    <tr>\n",
              "      <th>2818</th>\n",
              "      <td>10350</td>\n",
              "      <td>20</td>\n",
              "      <td>100.00</td>\n",
              "      <td>15</td>\n",
              "      <td>2244.40</td>\n",
              "      <td>12/2/2004 0:00</td>\n",
              "      <td>Shipped</td>\n",
              "      <td>4</td>\n",
              "      <td>12</td>\n",
              "      <td>2004</td>\n",
              "      <td>Ships</td>\n",
              "      <td>54</td>\n",
              "      <td>S72_3212</td>\n",
              "      <td>Euro Shopping Channel</td>\n",
              "      <td>(91) 555 94 44</td>\n",
              "      <td>C/ Moralzarzal, 86</td>\n",
              "      <td>NaN</td>\n",
              "      <td>Madrid</td>\n",
              "      <td>NaN</td>\n",
              "      <td>28034</td>\n",
              "      <td>Spain</td>\n",
              "      <td>EMEA</td>\n",
              "      <td>Freyre</td>\n",
              "      <td>Diego</td>\n",
              "      <td>Small</td>\n",
              "    </tr>\n",
              "    <tr>\n",
              "      <th>2819</th>\n",
              "      <td>10373</td>\n",
              "      <td>29</td>\n",
              "      <td>100.00</td>\n",
              "      <td>1</td>\n",
              "      <td>3978.51</td>\n",
              "      <td>1/31/2005 0:00</td>\n",
              "      <td>Shipped</td>\n",
              "      <td>1</td>\n",
              "      <td>1</td>\n",
              "      <td>2005</td>\n",
              "      <td>Ships</td>\n",
              "      <td>54</td>\n",
              "      <td>S72_3212</td>\n",
              "      <td>Oulu Toy Supplies, Inc.</td>\n",
              "      <td>981-443655</td>\n",
              "      <td>Torikatu 38</td>\n",
              "      <td>NaN</td>\n",
              "      <td>Oulu</td>\n",
              "      <td>NaN</td>\n",
              "      <td>90110</td>\n",
              "      <td>Finland</td>\n",
              "      <td>EMEA</td>\n",
              "      <td>Koskitalo</td>\n",
              "      <td>Pirkko</td>\n",
              "      <td>Medium</td>\n",
              "    </tr>\n",
              "    <tr>\n",
              "      <th>2820</th>\n",
              "      <td>10386</td>\n",
              "      <td>43</td>\n",
              "      <td>100.00</td>\n",
              "      <td>4</td>\n",
              "      <td>5417.57</td>\n",
              "      <td>3/1/2005 0:00</td>\n",
              "      <td>Resolved</td>\n",
              "      <td>1</td>\n",
              "      <td>3</td>\n",
              "      <td>2005</td>\n",
              "      <td>Ships</td>\n",
              "      <td>54</td>\n",
              "      <td>S72_3212</td>\n",
              "      <td>Euro Shopping Channel</td>\n",
              "      <td>(91) 555 94 44</td>\n",
              "      <td>C/ Moralzarzal, 86</td>\n",
              "      <td>NaN</td>\n",
              "      <td>Madrid</td>\n",
              "      <td>NaN</td>\n",
              "      <td>28034</td>\n",
              "      <td>Spain</td>\n",
              "      <td>EMEA</td>\n",
              "      <td>Freyre</td>\n",
              "      <td>Diego</td>\n",
              "      <td>Medium</td>\n",
              "    </tr>\n",
              "    <tr>\n",
              "      <th>2821</th>\n",
              "      <td>10397</td>\n",
              "      <td>34</td>\n",
              "      <td>62.24</td>\n",
              "      <td>1</td>\n",
              "      <td>2116.16</td>\n",
              "      <td>3/28/2005 0:00</td>\n",
              "      <td>Shipped</td>\n",
              "      <td>1</td>\n",
              "      <td>3</td>\n",
              "      <td>2005</td>\n",
              "      <td>Ships</td>\n",
              "      <td>54</td>\n",
              "      <td>S72_3212</td>\n",
              "      <td>Alpha Cognac</td>\n",
              "      <td>61.77.6555</td>\n",
              "      <td>1 rue Alsace-Lorraine</td>\n",
              "      <td>NaN</td>\n",
              "      <td>Toulouse</td>\n",
              "      <td>NaN</td>\n",
              "      <td>31000</td>\n",
              "      <td>France</td>\n",
              "      <td>EMEA</td>\n",
              "      <td>Roulet</td>\n",
              "      <td>Annette</td>\n",
              "      <td>Small</td>\n",
              "    </tr>\n",
              "    <tr>\n",
              "      <th>2822</th>\n",
              "      <td>10414</td>\n",
              "      <td>47</td>\n",
              "      <td>65.52</td>\n",
              "      <td>9</td>\n",
              "      <td>3079.44</td>\n",
              "      <td>5/6/2005 0:00</td>\n",
              "      <td>On Hold</td>\n",
              "      <td>2</td>\n",
              "      <td>5</td>\n",
              "      <td>2005</td>\n",
              "      <td>Ships</td>\n",
              "      <td>54</td>\n",
              "      <td>S72_3212</td>\n",
              "      <td>Gifts4AllAges.com</td>\n",
              "      <td>6175559555</td>\n",
              "      <td>8616 Spinnaker Dr.</td>\n",
              "      <td>NaN</td>\n",
              "      <td>Boston</td>\n",
              "      <td>MA</td>\n",
              "      <td>51003</td>\n",
              "      <td>USA</td>\n",
              "      <td>NaN</td>\n",
              "      <td>Yoshido</td>\n",
              "      <td>Juri</td>\n",
              "      <td>Medium</td>\n",
              "    </tr>\n",
              "  </tbody>\n",
              "</table>\n",
              "<p>2823 rows × 25 columns</p>\n",
              "</div>"
            ],
            "text/plain": [
              "      ORDERNUMBER  QUANTITYORDERED  ...  CONTACTFIRSTNAME  DEALSIZE\n",
              "0           10107               30  ...              Kwai     Small\n",
              "1           10121               34  ...              Paul     Small\n",
              "2           10134               41  ...            Daniel    Medium\n",
              "3           10145               45  ...             Julie    Medium\n",
              "4           10159               49  ...             Julie    Medium\n",
              "...           ...              ...  ...               ...       ...\n",
              "2818        10350               20  ...             Diego     Small\n",
              "2819        10373               29  ...            Pirkko    Medium\n",
              "2820        10386               43  ...             Diego    Medium\n",
              "2821        10397               34  ...           Annette     Small\n",
              "2822        10414               47  ...              Juri    Medium\n",
              "\n",
              "[2823 rows x 25 columns]"
            ]
          },
          "metadata": {},
          "execution_count": 4
        }
      ]
    },
    {
      "cell_type": "markdown",
      "metadata": {
        "id": "FNvq8SxAvS9K"
      },
      "source": [
        "# **Data Pre-processing**"
      ]
    },
    {
      "cell_type": "markdown",
      "metadata": {
        "id": "89zAgLv34j2I"
      },
      "source": [
        "### first, let see the data type of our data"
      ]
    },
    {
      "cell_type": "code",
      "metadata": {
        "id": "IxVlpyI4m4E4",
        "colab": {
          "base_uri": "https://localhost:8080/"
        },
        "outputId": "eae6f4eb-81ca-4681-dde1-59f75c06f19a"
      },
      "source": [
        "df.info()"
      ],
      "execution_count": null,
      "outputs": [
        {
          "output_type": "stream",
          "name": "stdout",
          "text": [
            "<class 'pandas.core.frame.DataFrame'>\n",
            "RangeIndex: 2823 entries, 0 to 2822\n",
            "Data columns (total 25 columns):\n",
            " #   Column            Non-Null Count  Dtype  \n",
            "---  ------            --------------  -----  \n",
            " 0   ORDERNUMBER       2823 non-null   int64  \n",
            " 1   QUANTITYORDERED   2823 non-null   int64  \n",
            " 2   PRICEEACH         2823 non-null   float64\n",
            " 3   ORDERLINENUMBER   2823 non-null   int64  \n",
            " 4   SALES             2823 non-null   float64\n",
            " 5   ORDERDATE         2823 non-null   object \n",
            " 6   STATUS            2823 non-null   object \n",
            " 7   QTR_ID            2823 non-null   int64  \n",
            " 8   MONTH_ID          2823 non-null   int64  \n",
            " 9   YEAR_ID           2823 non-null   int64  \n",
            " 10  PRODUCTLINE       2823 non-null   object \n",
            " 11  MSRP              2823 non-null   int64  \n",
            " 12  PRODUCTCODE       2823 non-null   object \n",
            " 13  CUSTOMERNAME      2823 non-null   object \n",
            " 14  PHONE             2823 non-null   object \n",
            " 15  ADDRESSLINE1      2823 non-null   object \n",
            " 16  ADDRESSLINE2      302 non-null    object \n",
            " 17  CITY              2823 non-null   object \n",
            " 18  STATE             1337 non-null   object \n",
            " 19  POSTALCODE        2747 non-null   object \n",
            " 20  COUNTRY           2823 non-null   object \n",
            " 21  TERRITORY         1749 non-null   object \n",
            " 22  CONTACTLASTNAME   2823 non-null   object \n",
            " 23  CONTACTFIRSTNAME  2823 non-null   object \n",
            " 24  DEALSIZE          2823 non-null   object \n",
            "dtypes: float64(2), int64(7), object(16)\n",
            "memory usage: 551.5+ KB\n"
          ]
        }
      ]
    },
    {
      "cell_type": "markdown",
      "metadata": {
        "id": "T4_GY7dbm_Ra"
      },
      "source": [
        "### Drop Some Columns"
      ]
    },
    {
      "cell_type": "code",
      "metadata": {
        "colab": {
          "base_uri": "https://localhost:8080/",
          "height": 617
        },
        "id": "AJIKnKLCm9Om",
        "outputId": "f425dbed-c5d3-4aa7-8d2f-d3b3057f5978"
      },
      "source": [
        "df = df.drop(['PHONE', 'ADDRESSLINE1', 'ADDRESSLINE2', 'POSTALCODE', 'TERRITORY', 'CONTACTLASTNAME', 'CONTACTFIRSTNAME'], axis=1)\n",
        "df"
      ],
      "execution_count": null,
      "outputs": [
        {
          "output_type": "execute_result",
          "data": {
            "text/html": [
              "<div>\n",
              "<style scoped>\n",
              "    .dataframe tbody tr th:only-of-type {\n",
              "        vertical-align: middle;\n",
              "    }\n",
              "\n",
              "    .dataframe tbody tr th {\n",
              "        vertical-align: top;\n",
              "    }\n",
              "\n",
              "    .dataframe thead th {\n",
              "        text-align: right;\n",
              "    }\n",
              "</style>\n",
              "<table border=\"1\" class=\"dataframe\">\n",
              "  <thead>\n",
              "    <tr style=\"text-align: right;\">\n",
              "      <th></th>\n",
              "      <th>ORDERNUMBER</th>\n",
              "      <th>QUANTITYORDERED</th>\n",
              "      <th>PRICEEACH</th>\n",
              "      <th>ORDERLINENUMBER</th>\n",
              "      <th>SALES</th>\n",
              "      <th>ORDERDATE</th>\n",
              "      <th>STATUS</th>\n",
              "      <th>QTR_ID</th>\n",
              "      <th>MONTH_ID</th>\n",
              "      <th>YEAR_ID</th>\n",
              "      <th>PRODUCTLINE</th>\n",
              "      <th>MSRP</th>\n",
              "      <th>PRODUCTCODE</th>\n",
              "      <th>CUSTOMERNAME</th>\n",
              "      <th>CITY</th>\n",
              "      <th>STATE</th>\n",
              "      <th>COUNTRY</th>\n",
              "      <th>DEALSIZE</th>\n",
              "    </tr>\n",
              "  </thead>\n",
              "  <tbody>\n",
              "    <tr>\n",
              "      <th>0</th>\n",
              "      <td>10107</td>\n",
              "      <td>30</td>\n",
              "      <td>95.70</td>\n",
              "      <td>2</td>\n",
              "      <td>2871.00</td>\n",
              "      <td>2/24/2003 0:00</td>\n",
              "      <td>Shipped</td>\n",
              "      <td>1</td>\n",
              "      <td>2</td>\n",
              "      <td>2003</td>\n",
              "      <td>Motorcycles</td>\n",
              "      <td>95</td>\n",
              "      <td>S10_1678</td>\n",
              "      <td>Land of Toys Inc.</td>\n",
              "      <td>NYC</td>\n",
              "      <td>NY</td>\n",
              "      <td>USA</td>\n",
              "      <td>Small</td>\n",
              "    </tr>\n",
              "    <tr>\n",
              "      <th>1</th>\n",
              "      <td>10121</td>\n",
              "      <td>34</td>\n",
              "      <td>81.35</td>\n",
              "      <td>5</td>\n",
              "      <td>2765.90</td>\n",
              "      <td>5/7/2003 0:00</td>\n",
              "      <td>Shipped</td>\n",
              "      <td>2</td>\n",
              "      <td>5</td>\n",
              "      <td>2003</td>\n",
              "      <td>Motorcycles</td>\n",
              "      <td>95</td>\n",
              "      <td>S10_1678</td>\n",
              "      <td>Reims Collectables</td>\n",
              "      <td>Reims</td>\n",
              "      <td>NaN</td>\n",
              "      <td>France</td>\n",
              "      <td>Small</td>\n",
              "    </tr>\n",
              "    <tr>\n",
              "      <th>2</th>\n",
              "      <td>10134</td>\n",
              "      <td>41</td>\n",
              "      <td>94.74</td>\n",
              "      <td>2</td>\n",
              "      <td>3884.34</td>\n",
              "      <td>7/1/2003 0:00</td>\n",
              "      <td>Shipped</td>\n",
              "      <td>3</td>\n",
              "      <td>7</td>\n",
              "      <td>2003</td>\n",
              "      <td>Motorcycles</td>\n",
              "      <td>95</td>\n",
              "      <td>S10_1678</td>\n",
              "      <td>Lyon Souveniers</td>\n",
              "      <td>Paris</td>\n",
              "      <td>NaN</td>\n",
              "      <td>France</td>\n",
              "      <td>Medium</td>\n",
              "    </tr>\n",
              "    <tr>\n",
              "      <th>3</th>\n",
              "      <td>10145</td>\n",
              "      <td>45</td>\n",
              "      <td>83.26</td>\n",
              "      <td>6</td>\n",
              "      <td>3746.70</td>\n",
              "      <td>8/25/2003 0:00</td>\n",
              "      <td>Shipped</td>\n",
              "      <td>3</td>\n",
              "      <td>8</td>\n",
              "      <td>2003</td>\n",
              "      <td>Motorcycles</td>\n",
              "      <td>95</td>\n",
              "      <td>S10_1678</td>\n",
              "      <td>Toys4GrownUps.com</td>\n",
              "      <td>Pasadena</td>\n",
              "      <td>CA</td>\n",
              "      <td>USA</td>\n",
              "      <td>Medium</td>\n",
              "    </tr>\n",
              "    <tr>\n",
              "      <th>4</th>\n",
              "      <td>10159</td>\n",
              "      <td>49</td>\n",
              "      <td>100.00</td>\n",
              "      <td>14</td>\n",
              "      <td>5205.27</td>\n",
              "      <td>10/10/2003 0:00</td>\n",
              "      <td>Shipped</td>\n",
              "      <td>4</td>\n",
              "      <td>10</td>\n",
              "      <td>2003</td>\n",
              "      <td>Motorcycles</td>\n",
              "      <td>95</td>\n",
              "      <td>S10_1678</td>\n",
              "      <td>Corporate Gift Ideas Co.</td>\n",
              "      <td>San Francisco</td>\n",
              "      <td>CA</td>\n",
              "      <td>USA</td>\n",
              "      <td>Medium</td>\n",
              "    </tr>\n",
              "    <tr>\n",
              "      <th>...</th>\n",
              "      <td>...</td>\n",
              "      <td>...</td>\n",
              "      <td>...</td>\n",
              "      <td>...</td>\n",
              "      <td>...</td>\n",
              "      <td>...</td>\n",
              "      <td>...</td>\n",
              "      <td>...</td>\n",
              "      <td>...</td>\n",
              "      <td>...</td>\n",
              "      <td>...</td>\n",
              "      <td>...</td>\n",
              "      <td>...</td>\n",
              "      <td>...</td>\n",
              "      <td>...</td>\n",
              "      <td>...</td>\n",
              "      <td>...</td>\n",
              "      <td>...</td>\n",
              "    </tr>\n",
              "    <tr>\n",
              "      <th>2818</th>\n",
              "      <td>10350</td>\n",
              "      <td>20</td>\n",
              "      <td>100.00</td>\n",
              "      <td>15</td>\n",
              "      <td>2244.40</td>\n",
              "      <td>12/2/2004 0:00</td>\n",
              "      <td>Shipped</td>\n",
              "      <td>4</td>\n",
              "      <td>12</td>\n",
              "      <td>2004</td>\n",
              "      <td>Ships</td>\n",
              "      <td>54</td>\n",
              "      <td>S72_3212</td>\n",
              "      <td>Euro Shopping Channel</td>\n",
              "      <td>Madrid</td>\n",
              "      <td>NaN</td>\n",
              "      <td>Spain</td>\n",
              "      <td>Small</td>\n",
              "    </tr>\n",
              "    <tr>\n",
              "      <th>2819</th>\n",
              "      <td>10373</td>\n",
              "      <td>29</td>\n",
              "      <td>100.00</td>\n",
              "      <td>1</td>\n",
              "      <td>3978.51</td>\n",
              "      <td>1/31/2005 0:00</td>\n",
              "      <td>Shipped</td>\n",
              "      <td>1</td>\n",
              "      <td>1</td>\n",
              "      <td>2005</td>\n",
              "      <td>Ships</td>\n",
              "      <td>54</td>\n",
              "      <td>S72_3212</td>\n",
              "      <td>Oulu Toy Supplies, Inc.</td>\n",
              "      <td>Oulu</td>\n",
              "      <td>NaN</td>\n",
              "      <td>Finland</td>\n",
              "      <td>Medium</td>\n",
              "    </tr>\n",
              "    <tr>\n",
              "      <th>2820</th>\n",
              "      <td>10386</td>\n",
              "      <td>43</td>\n",
              "      <td>100.00</td>\n",
              "      <td>4</td>\n",
              "      <td>5417.57</td>\n",
              "      <td>3/1/2005 0:00</td>\n",
              "      <td>Resolved</td>\n",
              "      <td>1</td>\n",
              "      <td>3</td>\n",
              "      <td>2005</td>\n",
              "      <td>Ships</td>\n",
              "      <td>54</td>\n",
              "      <td>S72_3212</td>\n",
              "      <td>Euro Shopping Channel</td>\n",
              "      <td>Madrid</td>\n",
              "      <td>NaN</td>\n",
              "      <td>Spain</td>\n",
              "      <td>Medium</td>\n",
              "    </tr>\n",
              "    <tr>\n",
              "      <th>2821</th>\n",
              "      <td>10397</td>\n",
              "      <td>34</td>\n",
              "      <td>62.24</td>\n",
              "      <td>1</td>\n",
              "      <td>2116.16</td>\n",
              "      <td>3/28/2005 0:00</td>\n",
              "      <td>Shipped</td>\n",
              "      <td>1</td>\n",
              "      <td>3</td>\n",
              "      <td>2005</td>\n",
              "      <td>Ships</td>\n",
              "      <td>54</td>\n",
              "      <td>S72_3212</td>\n",
              "      <td>Alpha Cognac</td>\n",
              "      <td>Toulouse</td>\n",
              "      <td>NaN</td>\n",
              "      <td>France</td>\n",
              "      <td>Small</td>\n",
              "    </tr>\n",
              "    <tr>\n",
              "      <th>2822</th>\n",
              "      <td>10414</td>\n",
              "      <td>47</td>\n",
              "      <td>65.52</td>\n",
              "      <td>9</td>\n",
              "      <td>3079.44</td>\n",
              "      <td>5/6/2005 0:00</td>\n",
              "      <td>On Hold</td>\n",
              "      <td>2</td>\n",
              "      <td>5</td>\n",
              "      <td>2005</td>\n",
              "      <td>Ships</td>\n",
              "      <td>54</td>\n",
              "      <td>S72_3212</td>\n",
              "      <td>Gifts4AllAges.com</td>\n",
              "      <td>Boston</td>\n",
              "      <td>MA</td>\n",
              "      <td>USA</td>\n",
              "      <td>Medium</td>\n",
              "    </tr>\n",
              "  </tbody>\n",
              "</table>\n",
              "<p>2823 rows × 18 columns</p>\n",
              "</div>"
            ],
            "text/plain": [
              "      ORDERNUMBER  QUANTITYORDERED  PRICEEACH  ...  STATE  COUNTRY DEALSIZE\n",
              "0           10107               30      95.70  ...     NY      USA    Small\n",
              "1           10121               34      81.35  ...    NaN   France    Small\n",
              "2           10134               41      94.74  ...    NaN   France   Medium\n",
              "3           10145               45      83.26  ...     CA      USA   Medium\n",
              "4           10159               49     100.00  ...     CA      USA   Medium\n",
              "...           ...              ...        ...  ...    ...      ...      ...\n",
              "2818        10350               20     100.00  ...    NaN    Spain    Small\n",
              "2819        10373               29     100.00  ...    NaN  Finland   Medium\n",
              "2820        10386               43     100.00  ...    NaN    Spain   Medium\n",
              "2821        10397               34      62.24  ...    NaN   France    Small\n",
              "2822        10414               47      65.52  ...     MA      USA   Medium\n",
              "\n",
              "[2823 rows x 18 columns]"
            ]
          },
          "metadata": {},
          "execution_count": 6
        }
      ]
    },
    {
      "cell_type": "markdown",
      "metadata": {
        "id": "8S1Ijrv6wpIX"
      },
      "source": [
        "### Checking NA"
      ]
    },
    {
      "cell_type": "code",
      "metadata": {
        "colab": {
          "base_uri": "https://localhost:8080/"
        },
        "id": "mGTKK8TJq1LQ",
        "outputId": "2f5f0ef4-8523-479b-9b3c-7ca625e1734c"
      },
      "source": [
        "df.isna().sum()"
      ],
      "execution_count": null,
      "outputs": [
        {
          "output_type": "execute_result",
          "data": {
            "text/plain": [
              "ORDERNUMBER           0\n",
              "QUANTITYORDERED       0\n",
              "PRICEEACH             0\n",
              "ORDERLINENUMBER       0\n",
              "SALES                 0\n",
              "ORDERDATE             0\n",
              "STATUS                0\n",
              "QTR_ID                0\n",
              "MONTH_ID              0\n",
              "YEAR_ID               0\n",
              "PRODUCTLINE           0\n",
              "MSRP                  0\n",
              "PRODUCTCODE           0\n",
              "CUSTOMERNAME          0\n",
              "CITY                  0\n",
              "STATE              1486\n",
              "COUNTRY               0\n",
              "DEALSIZE              0\n",
              "dtype: int64"
            ]
          },
          "metadata": {},
          "execution_count": 7
        }
      ]
    },
    {
      "cell_type": "markdown",
      "metadata": {
        "id": "kKQDeq4CrGsI"
      },
      "source": [
        "### Since there are many NA in STATE Coloumn, we are going to drop it."
      ]
    },
    {
      "cell_type": "code",
      "metadata": {
        "id": "atvucqJfrOrh"
      },
      "source": [
        "df = df.drop(['STATE'],axis=1)"
      ],
      "execution_count": null,
      "outputs": []
    },
    {
      "cell_type": "markdown",
      "metadata": {
        "id": "W4UccjtZw3C0"
      },
      "source": [
        "### Checking Duplicated Data"
      ]
    },
    {
      "cell_type": "code",
      "metadata": {
        "colab": {
          "base_uri": "https://localhost:8080/"
        },
        "id": "-gv7YzIj2DuY",
        "outputId": "492d9ef6-fe87-45a7-b5cd-f0c45a94bae2"
      },
      "source": [
        "df.duplicated().sum()"
      ],
      "execution_count": null,
      "outputs": [
        {
          "output_type": "execute_result",
          "data": {
            "text/plain": [
              "0"
            ]
          },
          "metadata": {},
          "execution_count": 9
        }
      ]
    },
    {
      "cell_type": "markdown",
      "metadata": {
        "id": "4qc6yMSDw9UU"
      },
      "source": [
        "### Checking Unique Values"
      ]
    },
    {
      "cell_type": "code",
      "metadata": {
        "colab": {
          "base_uri": "https://localhost:8080/"
        },
        "id": "GGHiMszw4I0U",
        "outputId": "5ed37493-f8a2-439e-a6e2-fe398e3a095b"
      },
      "source": [
        "for col in df.columns:\n",
        "    print(f'Number of {col} unique values: {df[col].nunique()}')"
      ],
      "execution_count": null,
      "outputs": [
        {
          "output_type": "stream",
          "name": "stdout",
          "text": [
            "Number of ORDERNUMBER unique values: 307\n",
            "Number of QUANTITYORDERED unique values: 58\n",
            "Number of PRICEEACH unique values: 1016\n",
            "Number of ORDERLINENUMBER unique values: 18\n",
            "Number of SALES unique values: 2763\n",
            "Number of ORDERDATE unique values: 252\n",
            "Number of STATUS unique values: 6\n",
            "Number of QTR_ID unique values: 4\n",
            "Number of MONTH_ID unique values: 12\n",
            "Number of YEAR_ID unique values: 3\n",
            "Number of PRODUCTLINE unique values: 7\n",
            "Number of MSRP unique values: 80\n",
            "Number of PRODUCTCODE unique values: 109\n",
            "Number of CUSTOMERNAME unique values: 92\n",
            "Number of CITY unique values: 73\n",
            "Number of COUNTRY unique values: 19\n",
            "Number of DEALSIZE unique values: 3\n"
          ]
        }
      ]
    },
    {
      "cell_type": "code",
      "metadata": {
        "colab": {
          "base_uri": "https://localhost:8080/"
        },
        "id": "dcB5Y5-XrVw-",
        "outputId": "d1e86bef-ba4a-4178-cfcd-01aeacffd2c6"
      },
      "source": [
        "df['PRODUCTLINE'].unique()"
      ],
      "execution_count": null,
      "outputs": [
        {
          "output_type": "execute_result",
          "data": {
            "text/plain": [
              "array(['Motorcycles', 'Classic Cars', 'Trucks and Buses', 'Vintage Cars',\n",
              "       'Planes', 'Ships', 'Trains'], dtype=object)"
            ]
          },
          "metadata": {},
          "execution_count": 11
        }
      ]
    },
    {
      "cell_type": "code",
      "metadata": {
        "colab": {
          "base_uri": "https://localhost:8080/"
        },
        "id": "-6RuAJ4wzJqH",
        "outputId": "eeeb2761-59e7-4eff-9f61-172066eb8167"
      },
      "source": [
        "df['DEALSIZE'].unique()"
      ],
      "execution_count": null,
      "outputs": [
        {
          "output_type": "execute_result",
          "data": {
            "text/plain": [
              "array(['Small', 'Medium', 'Large'], dtype=object)"
            ]
          },
          "metadata": {},
          "execution_count": 12
        }
      ]
    },
    {
      "cell_type": "markdown",
      "metadata": {
        "id": "xWphwudLxv_f"
      },
      "source": [
        "# **EDA**"
      ]
    },
    {
      "cell_type": "markdown",
      "metadata": {
        "id": "nByVC7IX45NP"
      },
      "source": [
        "### Product that has the most transaction was Classic Car with 967 pieces."
      ]
    },
    {
      "cell_type": "code",
      "metadata": {
        "colab": {
          "base_uri": "https://localhost:8080/",
          "height": 269
        },
        "id": "RHVMvgHv1eIA",
        "outputId": "22f7ff99-0ac9-48ce-af97-5c07004f42cd"
      },
      "source": [
        "most_transaction = df.groupby('PRODUCTLINE')[['QUANTITYORDERED']].count().sort_values('QUANTITYORDERED', ascending=False)\n",
        "most_transaction.reset_index(inplace=True)\n",
        "most_transaction"
      ],
      "execution_count": null,
      "outputs": [
        {
          "output_type": "execute_result",
          "data": {
            "text/html": [
              "<div>\n",
              "<style scoped>\n",
              "    .dataframe tbody tr th:only-of-type {\n",
              "        vertical-align: middle;\n",
              "    }\n",
              "\n",
              "    .dataframe tbody tr th {\n",
              "        vertical-align: top;\n",
              "    }\n",
              "\n",
              "    .dataframe thead th {\n",
              "        text-align: right;\n",
              "    }\n",
              "</style>\n",
              "<table border=\"1\" class=\"dataframe\">\n",
              "  <thead>\n",
              "    <tr style=\"text-align: right;\">\n",
              "      <th></th>\n",
              "      <th>PRODUCTLINE</th>\n",
              "      <th>QUANTITYORDERED</th>\n",
              "    </tr>\n",
              "  </thead>\n",
              "  <tbody>\n",
              "    <tr>\n",
              "      <th>0</th>\n",
              "      <td>Classic Cars</td>\n",
              "      <td>967</td>\n",
              "    </tr>\n",
              "    <tr>\n",
              "      <th>1</th>\n",
              "      <td>Vintage Cars</td>\n",
              "      <td>607</td>\n",
              "    </tr>\n",
              "    <tr>\n",
              "      <th>2</th>\n",
              "      <td>Motorcycles</td>\n",
              "      <td>331</td>\n",
              "    </tr>\n",
              "    <tr>\n",
              "      <th>3</th>\n",
              "      <td>Planes</td>\n",
              "      <td>306</td>\n",
              "    </tr>\n",
              "    <tr>\n",
              "      <th>4</th>\n",
              "      <td>Trucks and Buses</td>\n",
              "      <td>301</td>\n",
              "    </tr>\n",
              "    <tr>\n",
              "      <th>5</th>\n",
              "      <td>Ships</td>\n",
              "      <td>234</td>\n",
              "    </tr>\n",
              "    <tr>\n",
              "      <th>6</th>\n",
              "      <td>Trains</td>\n",
              "      <td>77</td>\n",
              "    </tr>\n",
              "  </tbody>\n",
              "</table>\n",
              "</div>"
            ],
            "text/plain": [
              "        PRODUCTLINE  QUANTITYORDERED\n",
              "0      Classic Cars              967\n",
              "1      Vintage Cars              607\n",
              "2       Motorcycles              331\n",
              "3            Planes              306\n",
              "4  Trucks and Buses              301\n",
              "5             Ships              234\n",
              "6            Trains               77"
            ]
          },
          "metadata": {},
          "execution_count": 79
        }
      ]
    },
    {
      "cell_type": "markdown",
      "metadata": {
        "id": "WGgz7W51x6mM"
      },
      "source": [
        "### The most ordered product was Classic Cars with 33992 cars sold"
      ]
    },
    {
      "cell_type": "code",
      "metadata": {
        "colab": {
          "base_uri": "https://localhost:8080/",
          "height": 269
        },
        "id": "5CcRXVdBR0AL",
        "outputId": "3f583aff-a0b8-412d-e0e5-d4e7bd55aacd"
      },
      "source": [
        "productordered = df.groupby('PRODUCTLINE')[['QUANTITYORDERED']].sum().sort_values('QUANTITYORDERED', ascending=False)\n",
        "productordered.reset_index(inplace=True)\n",
        "productordered"
      ],
      "execution_count": null,
      "outputs": [
        {
          "output_type": "execute_result",
          "data": {
            "text/html": [
              "<div>\n",
              "<style scoped>\n",
              "    .dataframe tbody tr th:only-of-type {\n",
              "        vertical-align: middle;\n",
              "    }\n",
              "\n",
              "    .dataframe tbody tr th {\n",
              "        vertical-align: top;\n",
              "    }\n",
              "\n",
              "    .dataframe thead th {\n",
              "        text-align: right;\n",
              "    }\n",
              "</style>\n",
              "<table border=\"1\" class=\"dataframe\">\n",
              "  <thead>\n",
              "    <tr style=\"text-align: right;\">\n",
              "      <th></th>\n",
              "      <th>PRODUCTLINE</th>\n",
              "      <th>QUANTITYORDERED</th>\n",
              "    </tr>\n",
              "  </thead>\n",
              "  <tbody>\n",
              "    <tr>\n",
              "      <th>0</th>\n",
              "      <td>Classic Cars</td>\n",
              "      <td>33992</td>\n",
              "    </tr>\n",
              "    <tr>\n",
              "      <th>1</th>\n",
              "      <td>Vintage Cars</td>\n",
              "      <td>21069</td>\n",
              "    </tr>\n",
              "    <tr>\n",
              "      <th>2</th>\n",
              "      <td>Motorcycles</td>\n",
              "      <td>11663</td>\n",
              "    </tr>\n",
              "    <tr>\n",
              "      <th>3</th>\n",
              "      <td>Trucks and Buses</td>\n",
              "      <td>10777</td>\n",
              "    </tr>\n",
              "    <tr>\n",
              "      <th>4</th>\n",
              "      <td>Planes</td>\n",
              "      <td>10727</td>\n",
              "    </tr>\n",
              "    <tr>\n",
              "      <th>5</th>\n",
              "      <td>Ships</td>\n",
              "      <td>8127</td>\n",
              "    </tr>\n",
              "    <tr>\n",
              "      <th>6</th>\n",
              "      <td>Trains</td>\n",
              "      <td>2712</td>\n",
              "    </tr>\n",
              "  </tbody>\n",
              "</table>\n",
              "</div>"
            ],
            "text/plain": [
              "        PRODUCTLINE  QUANTITYORDERED\n",
              "0      Classic Cars            33992\n",
              "1      Vintage Cars            21069\n",
              "2       Motorcycles            11663\n",
              "3  Trucks and Buses            10777\n",
              "4            Planes            10727\n",
              "5             Ships             8127\n",
              "6            Trains             2712"
            ]
          },
          "metadata": {},
          "execution_count": 75
        }
      ]
    },
    {
      "cell_type": "code",
      "metadata": {
        "colab": {
          "base_uri": "https://localhost:8080/",
          "height": 542
        },
        "id": "iq5P1hQszT1A",
        "outputId": "db1af23e-c1bd-4a52-9985-4f89de804116"
      },
      "source": [
        "fig = px.pie(df,'PRODUCTLINE','QUANTITYORDERED', title=\"NUMBER OF PRODUCT SOLD\")\n",
        "fig.update_traces(textposition='inside', textinfo='percent+label')"
      ],
      "execution_count": null,
      "outputs": [
        {
          "output_type": "display_data",
          "data": {
            "text/html": [
              "<html>\n",
              "<head><meta charset=\"utf-8\" /></head>\n",
              "<body>\n",
              "    <div>\n",
              "            <script src=\"https://cdnjs.cloudflare.com/ajax/libs/mathjax/2.7.5/MathJax.js?config=TeX-AMS-MML_SVG\"></script><script type=\"text/javascript\">if (window.MathJax) {MathJax.Hub.Config({SVG: {font: \"STIX-Web\"}});}</script>\n",
              "                <script type=\"text/javascript\">window.PlotlyConfig = {MathJaxConfig: 'local'};</script>\n",
              "        <script src=\"https://cdn.plot.ly/plotly-latest.min.js\"></script>    \n",
              "            <div id=\"0d54443c-2302-4472-a9e0-170b788eed03\" class=\"plotly-graph-div\" style=\"height:525px; width:100%;\"></div>\n",
              "            <script type=\"text/javascript\">\n",
              "                \n",
              "                    window.PLOTLYENV=window.PLOTLYENV || {};\n",
              "                    \n",
              "                if (document.getElementById(\"0d54443c-2302-4472-a9e0-170b788eed03\")) {\n",
              "                    Plotly.newPlot(\n",
              "                        '0d54443c-2302-4472-a9e0-170b788eed03',\n",
              "                        [{\"domain\": {\"x\": [0.0, 1.0], \"y\": [0.0, 1.0]}, \"hoverlabel\": {\"namelength\": 0}, \"hovertemplate\": \"PRODUCTLINE=%{label}<br>QUANTITYORDERED=%{value}\", \"labels\": [\"Motorcycles\", \"Motorcycles\", \"Motorcycles\", \"Motorcycles\", \"Motorcycles\", \"Motorcycles\", \"Motorcycles\", \"Motorcycles\", \"Motorcycles\", \"Motorcycles\", \"Motorcycles\", \"Motorcycles\", \"Motorcycles\", \"Motorcycles\", \"Motorcycles\", \"Motorcycles\", \"Motorcycles\", \"Motorcycles\", \"Motorcycles\", \"Motorcycles\", \"Motorcycles\", \"Motorcycles\", \"Motorcycles\", \"Motorcycles\", \"Motorcycles\", \"Motorcycles\", \"Classic Cars\", \"Classic Cars\", \"Classic Cars\", \"Classic Cars\", \"Classic Cars\", \"Classic Cars\", \"Classic Cars\", \"Classic Cars\", \"Classic Cars\", \"Classic Cars\", \"Classic Cars\", \"Classic Cars\", \"Classic Cars\", \"Classic Cars\", \"Classic Cars\", \"Classic Cars\", \"Classic Cars\", \"Classic Cars\", \"Classic Cars\", \"Classic Cars\", \"Classic Cars\", \"Classic Cars\", \"Classic Cars\", \"Classic Cars\", \"Classic Cars\", \"Classic Cars\", \"Classic Cars\", \"Classic Cars\", \"Motorcycles\", \"Motorcycles\", \"Motorcycles\", \"Motorcycles\", \"Motorcycles\", \"Motorcycles\", \"Motorcycles\", \"Motorcycles\", \"Motorcycles\", \"Motorcycles\", \"Motorcycles\", \"Motorcycles\", \"Motorcycles\", \"Motorcycles\", \"Motorcycles\", \"Motorcycles\", \"Motorcycles\", \"Motorcycles\", \"Motorcycles\", \"Motorcycles\", \"Motorcycles\", \"Motorcycles\", \"Motorcycles\", \"Motorcycles\", \"Motorcycles\", \"Motorcycles\", \"Motorcycles\", \"Motorcycles\", \"Motorcycles\", \"Motorcycles\", \"Motorcycles\", \"Motorcycles\", \"Motorcycles\", \"Motorcycles\", \"Motorcycles\", \"Motorcycles\", \"Motorcycles\", \"Motorcycles\", \"Motorcycles\", \"Motorcycles\", \"Motorcycles\", \"Motorcycles\", \"Motorcycles\", \"Motorcycles\", \"Motorcycles\", \"Motorcycles\", \"Motorcycles\", \"Motorcycles\", \"Motorcycles\", \"Motorcycles\", \"Motorcycles\", \"Motorcycles\", \"Classic Cars\", \"Classic Cars\", \"Classic Cars\", \"Classic Cars\", \"Classic Cars\", \"Classic Cars\", \"Classic Cars\", \"Classic Cars\", \"Classic Cars\", \"Classic Cars\", \"Classic Cars\", \"Classic Cars\", \"Classic Cars\", \"Classic Cars\", \"Classic Cars\", \"Classic Cars\", \"Classic Cars\", \"Classic Cars\", \"Classic Cars\", \"Classic Cars\", \"Classic Cars\", \"Classic Cars\", \"Classic Cars\", \"Classic Cars\", \"Classic Cars\", \"Classic Cars\", \"Classic Cars\", \"Classic Cars\", \"Classic Cars\", \"Classic Cars\", \"Classic Cars\", \"Classic Cars\", \"Classic Cars\", \"Classic Cars\", \"Classic Cars\", \"Classic Cars\", \"Classic Cars\", \"Classic Cars\", \"Classic Cars\", \"Classic Cars\", \"Classic Cars\", \"Classic Cars\", \"Classic Cars\", \"Classic Cars\", \"Classic Cars\", \"Classic Cars\", \"Classic Cars\", \"Classic Cars\", \"Classic Cars\", \"Classic Cars\", \"Classic Cars\", \"Classic Cars\", \"Classic Cars\", \"Classic Cars\", \"Classic Cars\", \"Classic Cars\", \"Classic Cars\", \"Classic Cars\", \"Classic Cars\", \"Classic Cars\", \"Classic Cars\", \"Classic Cars\", \"Classic Cars\", \"Classic Cars\", \"Classic Cars\", \"Classic Cars\", \"Classic Cars\", \"Classic Cars\", \"Classic Cars\", \"Classic Cars\", \"Classic Cars\", \"Classic Cars\", \"Classic Cars\", \"Classic Cars\", \"Classic Cars\", \"Classic Cars\", \"Classic Cars\", \"Classic Cars\", \"Classic Cars\", \"Classic Cars\", \"Classic Cars\", \"Classic Cars\", \"Classic Cars\", \"Classic Cars\", \"Classic Cars\", \"Classic Cars\", \"Classic Cars\", \"Classic Cars\", \"Classic Cars\", \"Classic Cars\", \"Classic Cars\", \"Classic Cars\", \"Classic Cars\", \"Classic Cars\", \"Classic Cars\", \"Classic Cars\", \"Classic Cars\", \"Classic Cars\", \"Classic Cars\", \"Classic Cars\", \"Classic Cars\", \"Classic Cars\", \"Classic Cars\", \"Classic Cars\", \"Classic Cars\", \"Classic Cars\", \"Trucks and Buses\", \"Trucks and Buses\", \"Trucks and Buses\", \"Trucks and Buses\", \"Trucks and Buses\", \"Trucks and Buses\", \"Trucks and Buses\", \"Trucks and Buses\", \"Trucks and Buses\", \"Trucks and Buses\", \"Trucks and Buses\", \"Trucks and Buses\", \"Trucks and Buses\", \"Trucks and Buses\", \"Trucks and Buses\", \"Trucks and Buses\", \"Trucks and Buses\", \"Trucks and Buses\", \"Trucks and Buses\", \"Trucks and Buses\", \"Trucks and Buses\", \"Trucks and Buses\", \"Trucks and Buses\", \"Trucks and Buses\", \"Trucks and Buses\", \"Trucks and Buses\", \"Trucks and Buses\", \"Trucks and Buses\", \"Motorcycles\", \"Motorcycles\", \"Motorcycles\", \"Motorcycles\", \"Motorcycles\", \"Motorcycles\", \"Motorcycles\", \"Motorcycles\", \"Motorcycles\", \"Motorcycles\", \"Motorcycles\", \"Motorcycles\", \"Motorcycles\", \"Motorcycles\", \"Motorcycles\", \"Motorcycles\", \"Motorcycles\", \"Motorcycles\", \"Motorcycles\", \"Motorcycles\", \"Motorcycles\", \"Motorcycles\", \"Motorcycles\", \"Motorcycles\", \"Motorcycles\", \"Motorcycles\", \"Classic Cars\", \"Classic Cars\", \"Classic Cars\", \"Classic Cars\", \"Classic Cars\", \"Classic Cars\", \"Classic Cars\", \"Classic Cars\", \"Classic Cars\", \"Classic Cars\", \"Classic Cars\", \"Classic Cars\", \"Classic Cars\", \"Classic Cars\", \"Classic Cars\", \"Classic Cars\", \"Classic Cars\", \"Classic Cars\", \"Classic Cars\", \"Classic Cars\", \"Classic Cars\", \"Classic Cars\", \"Classic Cars\", \"Classic Cars\", \"Classic Cars\", \"Classic Cars\", \"Classic Cars\", \"Classic Cars\", \"Classic Cars\", \"Classic Cars\", \"Classic Cars\", \"Classic Cars\", \"Classic Cars\", \"Classic Cars\", \"Classic Cars\", \"Classic Cars\", \"Classic Cars\", \"Classic Cars\", \"Classic Cars\", \"Classic Cars\", \"Classic Cars\", \"Classic Cars\", \"Classic Cars\", \"Classic Cars\", \"Classic Cars\", \"Classic Cars\", \"Classic Cars\", \"Classic Cars\", \"Classic Cars\", \"Classic Cars\", \"Classic Cars\", \"Classic Cars\", \"Classic Cars\", \"Classic Cars\", \"Classic Cars\", \"Classic Cars\", \"Classic Cars\", \"Classic Cars\", \"Classic Cars\", \"Classic Cars\", \"Classic Cars\", \"Classic Cars\", \"Classic Cars\", \"Classic Cars\", \"Classic Cars\", \"Classic Cars\", \"Classic Cars\", \"Classic Cars\", \"Classic Cars\", \"Classic Cars\", \"Classic Cars\", \"Classic Cars\", \"Classic Cars\", \"Classic Cars\", \"Classic Cars\", \"Classic Cars\", \"Classic Cars\", \"Classic Cars\", \"Classic Cars\", \"Classic Cars\", \"Classic Cars\", \"Classic Cars\", \"Classic Cars\", \"Classic Cars\", \"Classic Cars\", \"Classic Cars\", \"Classic Cars\", \"Classic Cars\", \"Classic Cars\", \"Classic Cars\", \"Classic Cars\", \"Classic Cars\", \"Classic Cars\", \"Classic Cars\", \"Classic Cars\", \"Classic Cars\", \"Classic Cars\", \"Classic Cars\", \"Classic Cars\", \"Classic Cars\", \"Classic Cars\", \"Trucks and Buses\", \"Trucks and Buses\", \"Trucks and Buses\", \"Trucks and Buses\", \"Trucks and Buses\", \"Trucks and Buses\", \"Trucks and Buses\", \"Trucks and Buses\", \"Trucks and Buses\", \"Trucks and Buses\", \"Trucks and Buses\", \"Trucks and Buses\", \"Trucks and Buses\", \"Trucks and Buses\", \"Trucks and Buses\", \"Trucks and Buses\", \"Trucks and Buses\", \"Trucks and Buses\", \"Trucks and Buses\", \"Trucks and Buses\", \"Trucks and Buses\", \"Trucks and Buses\", \"Trucks and Buses\", \"Trucks and Buses\", \"Trucks and Buses\", \"Trucks and Buses\", \"Trucks and Buses\", \"Classic Cars\", \"Classic Cars\", \"Classic Cars\", \"Classic Cars\", \"Classic Cars\", \"Classic Cars\", \"Classic Cars\", \"Classic Cars\", \"Classic Cars\", \"Classic Cars\", \"Classic Cars\", \"Classic Cars\", \"Classic Cars\", \"Classic Cars\", \"Classic Cars\", \"Classic Cars\", \"Classic Cars\", \"Classic Cars\", \"Classic Cars\", \"Classic Cars\", \"Classic Cars\", \"Classic Cars\", \"Classic Cars\", \"Classic Cars\", \"Classic Cars\", \"Classic Cars\", \"Trucks and Buses\", \"Trucks and Buses\", \"Trucks and Buses\", \"Trucks and Buses\", \"Trucks and Buses\", \"Trucks and Buses\", \"Trucks and Buses\", \"Trucks and Buses\", \"Trucks and Buses\", \"Trucks and Buses\", \"Trucks and Buses\", \"Trucks and Buses\", \"Trucks and Buses\", \"Trucks and Buses\", \"Trucks and Buses\", \"Trucks and Buses\", \"Trucks and Buses\", \"Trucks and Buses\", \"Trucks and Buses\", \"Trucks and Buses\", \"Trucks and Buses\", \"Trucks and Buses\", \"Trucks and Buses\", \"Trucks and Buses\", \"Trucks and Buses\", \"Trucks and Buses\", \"Trucks and Buses\", \"Trucks and Buses\", \"Classic Cars\", \"Classic Cars\", \"Classic Cars\", \"Classic Cars\", \"Classic Cars\", \"Classic Cars\", \"Classic Cars\", \"Classic Cars\", \"Classic Cars\", \"Classic Cars\", \"Classic Cars\", \"Classic Cars\", \"Classic Cars\", \"Classic Cars\", \"Classic Cars\", \"Classic Cars\", \"Classic Cars\", \"Classic Cars\", \"Classic Cars\", \"Classic Cars\", \"Classic Cars\", \"Classic Cars\", \"Classic Cars\", \"Classic Cars\", \"Classic Cars\", \"Classic Cars\", \"Classic Cars\", \"Vintage Cars\", \"Vintage Cars\", \"Vintage Cars\", \"Vintage Cars\", \"Vintage Cars\", \"Vintage Cars\", \"Vintage Cars\", \"Vintage Cars\", \"Vintage Cars\", \"Vintage Cars\", \"Vintage Cars\", \"Vintage Cars\", \"Vintage Cars\", \"Vintage Cars\", \"Vintage Cars\", \"Vintage Cars\", \"Vintage Cars\", \"Vintage Cars\", \"Vintage Cars\", \"Vintage Cars\", \"Vintage Cars\", \"Vintage Cars\", \"Vintage Cars\", \"Vintage Cars\", \"Vintage Cars\", \"Vintage Cars\", \"Vintage Cars\", \"Vintage Cars\", \"Vintage Cars\", \"Vintage Cars\", \"Vintage Cars\", \"Vintage Cars\", \"Vintage Cars\", \"Vintage Cars\", \"Vintage Cars\", \"Vintage Cars\", \"Vintage Cars\", \"Vintage Cars\", \"Vintage Cars\", \"Vintage Cars\", \"Vintage Cars\", \"Vintage Cars\", \"Vintage Cars\", \"Vintage Cars\", \"Vintage Cars\", \"Vintage Cars\", \"Vintage Cars\", \"Vintage Cars\", \"Vintage Cars\", \"Vintage Cars\", \"Vintage Cars\", \"Vintage Cars\", \"Classic Cars\", \"Classic Cars\", \"Classic Cars\", \"Classic Cars\", \"Classic Cars\", \"Classic Cars\", \"Classic Cars\", \"Classic Cars\", \"Classic Cars\", \"Classic Cars\", \"Classic Cars\", \"Classic Cars\", \"Classic Cars\", \"Classic Cars\", \"Classic Cars\", \"Classic Cars\", \"Classic Cars\", \"Classic Cars\", \"Classic Cars\", \"Classic Cars\", \"Classic Cars\", \"Classic Cars\", \"Classic Cars\", \"Classic Cars\", \"Classic Cars\", \"Planes\", \"Planes\", \"Planes\", \"Planes\", \"Planes\", \"Planes\", \"Planes\", \"Planes\", \"Planes\", \"Planes\", \"Planes\", \"Planes\", \"Planes\", \"Planes\", \"Planes\", \"Planes\", \"Planes\", \"Planes\", \"Planes\", \"Planes\", \"Planes\", \"Planes\", \"Planes\", \"Planes\", \"Planes\", \"Planes\", \"Vintage Cars\", \"Vintage Cars\", \"Vintage Cars\", \"Vintage Cars\", \"Vintage Cars\", \"Vintage Cars\", \"Vintage Cars\", \"Vintage Cars\", \"Vintage Cars\", \"Vintage Cars\", \"Vintage Cars\", \"Vintage Cars\", \"Vintage Cars\", \"Vintage Cars\", \"Vintage Cars\", \"Vintage Cars\", \"Vintage Cars\", \"Vintage Cars\", \"Vintage Cars\", \"Vintage Cars\", \"Vintage Cars\", \"Vintage Cars\", \"Classic Cars\", \"Classic Cars\", \"Classic Cars\", \"Classic Cars\", \"Classic Cars\", \"Classic Cars\", \"Classic Cars\", \"Classic Cars\", \"Classic Cars\", \"Classic Cars\", \"Classic Cars\", \"Classic Cars\", \"Classic Cars\", \"Classic Cars\", \"Classic Cars\", \"Classic Cars\", \"Classic Cars\", \"Classic Cars\", \"Classic Cars\", \"Classic Cars\", \"Classic Cars\", \"Classic Cars\", \"Classic Cars\", \"Classic Cars\", \"Classic Cars\", \"Classic Cars\", \"Classic Cars\", \"Classic Cars\", \"Classic Cars\", \"Classic Cars\", \"Classic Cars\", \"Classic Cars\", \"Classic Cars\", \"Classic Cars\", \"Classic Cars\", \"Classic Cars\", \"Classic Cars\", \"Classic Cars\", \"Classic Cars\", \"Classic Cars\", \"Classic Cars\", \"Classic Cars\", \"Classic Cars\", \"Classic Cars\", \"Classic Cars\", \"Classic Cars\", \"Classic Cars\", \"Classic Cars\", \"Classic Cars\", \"Classic Cars\", \"Classic Cars\", \"Classic Cars\", \"Classic Cars\", \"Classic Cars\", \"Classic Cars\", \"Classic Cars\", \"Classic Cars\", \"Classic Cars\", \"Classic Cars\", \"Classic Cars\", \"Classic Cars\", \"Classic Cars\", \"Classic Cars\", \"Classic Cars\", \"Classic Cars\", \"Classic Cars\", \"Classic Cars\", \"Classic Cars\", \"Classic Cars\", \"Classic Cars\", \"Classic Cars\", \"Classic Cars\", \"Classic Cars\", \"Classic Cars\", \"Classic Cars\", \"Classic Cars\", \"Classic Cars\", \"Classic Cars\", \"Classic Cars\", \"Classic Cars\", \"Vintage Cars\", \"Vintage Cars\", \"Vintage Cars\", \"Vintage Cars\", \"Vintage Cars\", \"Vintage Cars\", \"Vintage Cars\", \"Vintage Cars\", \"Vintage Cars\", \"Vintage Cars\", \"Vintage Cars\", \"Vintage Cars\", \"Vintage Cars\", \"Vintage Cars\", \"Vintage Cars\", \"Vintage Cars\", \"Vintage Cars\", \"Vintage Cars\", \"Vintage Cars\", \"Vintage Cars\", \"Vintage Cars\", \"Vintage Cars\", \"Trucks and Buses\", \"Trucks and Buses\", \"Trucks and Buses\", \"Trucks and Buses\", \"Trucks and Buses\", \"Trucks and Buses\", \"Trucks and Buses\", \"Trucks and Buses\", \"Trucks and Buses\", \"Trucks and Buses\", \"Trucks and Buses\", \"Trucks and Buses\", \"Trucks and Buses\", \"Trucks and Buses\", \"Trucks and Buses\", \"Trucks and Buses\", \"Trucks and Buses\", \"Trucks and Buses\", \"Trucks and Buses\", \"Trucks and Buses\", \"Trucks and Buses\", \"Trucks and Buses\", \"Trucks and Buses\", \"Trucks and Buses\", \"Trucks and Buses\", \"Trucks and Buses\", \"Vintage Cars\", \"Vintage Cars\", \"Vintage Cars\", \"Vintage Cars\", \"Vintage Cars\", \"Vintage Cars\", \"Vintage Cars\", \"Vintage Cars\", \"Vintage Cars\", \"Vintage Cars\", \"Vintage Cars\", \"Vintage Cars\", \"Vintage Cars\", \"Vintage Cars\", \"Vintage Cars\", \"Vintage Cars\", \"Vintage Cars\", \"Vintage Cars\", \"Vintage Cars\", \"Vintage Cars\", \"Vintage Cars\", \"Vintage Cars\", \"Vintage Cars\", \"Vintage Cars\", \"Vintage Cars\", \"Trucks and Buses\", \"Trucks and Buses\", \"Trucks and Buses\", \"Trucks and Buses\", \"Trucks and Buses\", \"Trucks and Buses\", \"Trucks and Buses\", \"Trucks and Buses\", \"Trucks and Buses\", \"Trucks and Buses\", \"Trucks and Buses\", \"Trucks and Buses\", \"Trucks and Buses\", \"Trucks and Buses\", \"Trucks and Buses\", \"Trucks and Buses\", \"Trucks and Buses\", \"Trucks and Buses\", \"Trucks and Buses\", \"Trucks and Buses\", \"Trucks and Buses\", \"Trucks and Buses\", \"Trucks and Buses\", \"Trucks and Buses\", \"Trucks and Buses\", \"Trucks and Buses\", \"Trucks and Buses\", \"Trucks and Buses\", \"Planes\", \"Planes\", \"Planes\", \"Planes\", \"Planes\", \"Planes\", \"Planes\", \"Planes\", \"Planes\", \"Planes\", \"Planes\", \"Planes\", \"Planes\", \"Planes\", \"Planes\", \"Planes\", \"Planes\", \"Planes\", \"Planes\", \"Planes\", \"Planes\", \"Planes\", \"Planes\", \"Motorcycles\", \"Motorcycles\", \"Motorcycles\", \"Motorcycles\", \"Motorcycles\", \"Motorcycles\", \"Motorcycles\", \"Motorcycles\", \"Motorcycles\", \"Motorcycles\", \"Motorcycles\", \"Motorcycles\", \"Motorcycles\", \"Motorcycles\", \"Motorcycles\", \"Motorcycles\", \"Motorcycles\", \"Motorcycles\", \"Motorcycles\", \"Motorcycles\", \"Motorcycles\", \"Motorcycles\", \"Motorcycles\", \"Motorcycles\", \"Motorcycles\", \"Motorcycles\", \"Vintage Cars\", \"Vintage Cars\", \"Vintage Cars\", \"Vintage Cars\", \"Vintage Cars\", \"Vintage Cars\", \"Vintage Cars\", \"Vintage Cars\", \"Vintage Cars\", \"Vintage Cars\", \"Vintage Cars\", \"Vintage Cars\", \"Vintage Cars\", \"Vintage Cars\", \"Vintage Cars\", \"Vintage Cars\", \"Vintage Cars\", \"Vintage Cars\", \"Vintage Cars\", \"Vintage Cars\", \"Vintage Cars\", \"Vintage Cars\", \"Vintage Cars\", \"Vintage Cars\", \"Vintage Cars\", \"Vintage Cars\", \"Classic Cars\", \"Classic Cars\", \"Classic Cars\", \"Classic Cars\", \"Classic Cars\", \"Classic Cars\", \"Classic Cars\", \"Classic Cars\", \"Classic Cars\", \"Classic Cars\", \"Classic Cars\", \"Classic Cars\", \"Classic Cars\", \"Classic Cars\", \"Classic Cars\", \"Classic Cars\", \"Classic Cars\", \"Classic Cars\", \"Classic Cars\", \"Classic Cars\", \"Classic Cars\", \"Classic Cars\", \"Classic Cars\", \"Classic Cars\", \"Classic Cars\", \"Vintage Cars\", \"Vintage Cars\", \"Vintage Cars\", \"Vintage Cars\", \"Vintage Cars\", \"Vintage Cars\", \"Vintage Cars\", \"Vintage Cars\", \"Vintage Cars\", \"Vintage Cars\", \"Vintage Cars\", \"Vintage Cars\", \"Vintage Cars\", \"Vintage Cars\", \"Vintage Cars\", \"Vintage Cars\", \"Vintage Cars\", \"Vintage Cars\", \"Vintage Cars\", \"Vintage Cars\", \"Vintage Cars\", \"Vintage Cars\", \"Vintage Cars\", \"Vintage Cars\", \"Vintage Cars\", \"Vintage Cars\", \"Vintage Cars\", \"Vintage Cars\", \"Vintage Cars\", \"Vintage Cars\", \"Vintage Cars\", \"Vintage Cars\", \"Vintage Cars\", \"Vintage Cars\", \"Vintage Cars\", \"Vintage Cars\", \"Vintage Cars\", \"Vintage Cars\", \"Vintage Cars\", \"Vintage Cars\", \"Vintage Cars\", \"Vintage Cars\", \"Vintage Cars\", \"Vintage Cars\", \"Vintage Cars\", \"Vintage Cars\", \"Vintage Cars\", \"Vintage Cars\", \"Vintage Cars\", \"Vintage Cars\", \"Vintage Cars\", \"Vintage Cars\", \"Vintage Cars\", \"Vintage Cars\", \"Ships\", \"Ships\", \"Ships\", \"Ships\", \"Ships\", \"Ships\", \"Ships\", \"Ships\", \"Ships\", \"Ships\", \"Ships\", \"Ships\", \"Ships\", \"Ships\", \"Ships\", \"Ships\", \"Ships\", \"Ships\", \"Ships\", \"Ships\", \"Ships\", \"Ships\", \"Ships\", \"Ships\", \"Ships\", \"Ships\", \"Vintage Cars\", \"Vintage Cars\", \"Vintage Cars\", \"Vintage Cars\", \"Vintage Cars\", \"Vintage Cars\", \"Vintage Cars\", \"Vintage Cars\", \"Vintage Cars\", \"Vintage Cars\", \"Vintage Cars\", \"Vintage Cars\", \"Vintage Cars\", \"Vintage Cars\", \"Vintage Cars\", \"Vintage Cars\", \"Vintage Cars\", \"Vintage Cars\", \"Vintage Cars\", \"Vintage Cars\", \"Vintage Cars\", \"Vintage Cars\", \"Vintage Cars\", \"Vintage Cars\", \"Vintage Cars\", \"Vintage Cars\", \"Vintage Cars\", \"Vintage Cars\", \"Vintage Cars\", \"Vintage Cars\", \"Vintage Cars\", \"Vintage Cars\", \"Vintage Cars\", \"Vintage Cars\", \"Vintage Cars\", \"Vintage Cars\", \"Vintage Cars\", \"Vintage Cars\", \"Vintage Cars\", \"Vintage Cars\", \"Vintage Cars\", \"Vintage Cars\", \"Vintage Cars\", \"Vintage Cars\", \"Vintage Cars\", \"Vintage Cars\", \"Vintage Cars\", \"Vintage Cars\", \"Vintage Cars\", \"Vintage Cars\", \"Vintage Cars\", \"Vintage Cars\", \"Classic Cars\", \"Classic Cars\", \"Classic Cars\", \"Classic Cars\", \"Classic Cars\", \"Classic Cars\", \"Classic Cars\", \"Classic Cars\", \"Classic Cars\", \"Classic Cars\", \"Classic Cars\", \"Classic Cars\", \"Classic Cars\", \"Classic Cars\", \"Classic Cars\", \"Classic Cars\", \"Classic Cars\", \"Classic Cars\", \"Classic Cars\", \"Classic Cars\", \"Classic Cars\", \"Classic Cars\", \"Classic Cars\", \"Classic Cars\", \"Classic Cars\", \"Classic Cars\", \"Classic Cars\", \"Classic Cars\", \"Classic Cars\", \"Classic Cars\", \"Classic Cars\", \"Classic Cars\", \"Classic Cars\", \"Classic Cars\", \"Classic Cars\", \"Classic Cars\", \"Classic Cars\", \"Classic Cars\", \"Classic Cars\", \"Classic Cars\", \"Classic Cars\", \"Classic Cars\", \"Classic Cars\", \"Classic Cars\", \"Classic Cars\", \"Classic Cars\", \"Classic Cars\", \"Classic Cars\", \"Classic Cars\", \"Classic Cars\", \"Classic Cars\", \"Classic Cars\", \"Trains\", \"Trains\", \"Trains\", \"Trains\", \"Trains\", \"Trains\", \"Trains\", \"Trains\", \"Trains\", \"Trains\", \"Trains\", \"Trains\", \"Trains\", \"Trains\", \"Trains\", \"Trains\", \"Trains\", \"Trains\", \"Trains\", \"Trains\", \"Trains\", \"Trains\", \"Trains\", \"Trains\", \"Trains\", \"Classic Cars\", \"Classic Cars\", \"Classic Cars\", \"Classic Cars\", \"Classic Cars\", \"Classic Cars\", \"Classic Cars\", \"Classic Cars\", \"Classic Cars\", \"Classic Cars\", \"Classic Cars\", \"Classic Cars\", \"Classic Cars\", \"Classic Cars\", \"Classic Cars\", \"Classic Cars\", \"Classic Cars\", \"Classic Cars\", \"Classic Cars\", \"Classic Cars\", \"Classic Cars\", \"Classic Cars\", \"Classic Cars\", \"Classic Cars\", \"Vintage Cars\", \"Vintage Cars\", \"Vintage Cars\", \"Vintage Cars\", \"Vintage Cars\", \"Vintage Cars\", \"Vintage Cars\", \"Vintage Cars\", \"Vintage Cars\", \"Vintage Cars\", \"Vintage Cars\", \"Vintage Cars\", \"Vintage Cars\", \"Vintage Cars\", \"Vintage Cars\", \"Vintage Cars\", \"Vintage Cars\", \"Vintage Cars\", \"Vintage Cars\", \"Vintage Cars\", \"Vintage Cars\", \"Vintage Cars\", \"Vintage Cars\", \"Vintage Cars\", \"Vintage Cars\", \"Vintage Cars\", \"Classic Cars\", \"Classic Cars\", \"Classic Cars\", \"Classic Cars\", \"Classic Cars\", \"Classic Cars\", \"Classic Cars\", \"Classic Cars\", \"Classic Cars\", \"Classic Cars\", \"Classic Cars\", \"Classic Cars\", \"Classic Cars\", \"Classic Cars\", \"Classic Cars\", \"Classic Cars\", \"Classic Cars\", \"Classic Cars\", \"Classic Cars\", \"Classic Cars\", \"Classic Cars\", \"Classic Cars\", \"Classic Cars\", \"Classic Cars\", \"Classic Cars\", \"Classic Cars\", \"Classic Cars\", \"Classic Cars\", \"Classic Cars\", \"Classic Cars\", \"Classic Cars\", \"Classic Cars\", \"Classic Cars\", \"Classic Cars\", \"Classic Cars\", \"Classic Cars\", \"Classic Cars\", \"Classic Cars\", \"Classic Cars\", \"Classic Cars\", \"Classic Cars\", \"Classic Cars\", \"Classic Cars\", \"Classic Cars\", \"Classic Cars\", \"Classic Cars\", \"Classic Cars\", \"Classic Cars\", \"Classic Cars\", \"Classic Cars\", \"Motorcycles\", \"Motorcycles\", \"Motorcycles\", \"Motorcycles\", \"Motorcycles\", \"Motorcycles\", \"Motorcycles\", \"Motorcycles\", \"Motorcycles\", \"Motorcycles\", \"Motorcycles\", \"Motorcycles\", \"Motorcycles\", \"Motorcycles\", \"Motorcycles\", \"Motorcycles\", \"Motorcycles\", \"Motorcycles\", \"Motorcycles\", \"Motorcycles\", \"Motorcycles\", \"Motorcycles\", \"Motorcycles\", \"Motorcycles\", \"Motorcycles\", \"Vintage Cars\", \"Vintage Cars\", \"Vintage Cars\", \"Vintage Cars\", \"Vintage Cars\", \"Vintage Cars\", \"Vintage Cars\", \"Vintage Cars\", \"Vintage Cars\", \"Vintage Cars\", \"Vintage Cars\", \"Vintage Cars\", \"Vintage Cars\", \"Vintage Cars\", \"Vintage Cars\", \"Vintage Cars\", \"Vintage Cars\", \"Vintage Cars\", \"Vintage Cars\", \"Vintage Cars\", \"Vintage Cars\", \"Vintage Cars\", \"Vintage Cars\", \"Vintage Cars\", \"Vintage Cars\", \"Vintage Cars\", \"Classic Cars\", \"Classic Cars\", \"Classic Cars\", \"Classic Cars\", \"Classic Cars\", \"Classic Cars\", \"Classic Cars\", \"Classic Cars\", \"Classic Cars\", \"Classic Cars\", \"Classic Cars\", \"Classic Cars\", \"Classic Cars\", \"Classic Cars\", \"Classic Cars\", \"Classic Cars\", \"Classic Cars\", \"Classic Cars\", \"Classic Cars\", \"Classic Cars\", \"Classic Cars\", \"Classic Cars\", \"Classic Cars\", \"Classic Cars\", \"Classic Cars\", \"Classic Cars\", \"Vintage Cars\", \"Vintage Cars\", \"Vintage Cars\", \"Vintage Cars\", \"Vintage Cars\", \"Vintage Cars\", \"Vintage Cars\", \"Vintage Cars\", \"Vintage Cars\", \"Vintage Cars\", \"Vintage Cars\", \"Vintage Cars\", \"Vintage Cars\", \"Vintage Cars\", \"Vintage Cars\", \"Vintage Cars\", \"Vintage Cars\", \"Vintage Cars\", \"Vintage Cars\", \"Vintage Cars\", \"Vintage Cars\", \"Vintage Cars\", \"Vintage Cars\", \"Vintage Cars\", \"Vintage Cars\", \"Vintage Cars\", \"Vintage Cars\", \"Vintage Cars\", \"Vintage Cars\", \"Vintage Cars\", \"Vintage Cars\", \"Vintage Cars\", \"Vintage Cars\", \"Vintage Cars\", \"Vintage Cars\", \"Vintage Cars\", \"Vintage Cars\", \"Vintage Cars\", \"Vintage Cars\", \"Vintage Cars\", \"Vintage Cars\", \"Vintage Cars\", \"Vintage Cars\", \"Vintage Cars\", \"Vintage Cars\", \"Vintage Cars\", \"Vintage Cars\", \"Vintage Cars\", \"Trucks and Buses\", \"Trucks and Buses\", \"Trucks and Buses\", \"Trucks and Buses\", \"Trucks and Buses\", \"Trucks and Buses\", \"Trucks and Buses\", \"Trucks and Buses\", \"Trucks and Buses\", \"Trucks and Buses\", \"Trucks and Buses\", \"Trucks and Buses\", \"Trucks and Buses\", \"Trucks and Buses\", \"Trucks and Buses\", \"Trucks and Buses\", \"Trucks and Buses\", \"Trucks and Buses\", \"Trucks and Buses\", \"Trucks and Buses\", \"Trucks and Buses\", \"Trucks and Buses\", \"Trucks and Buses\", \"Trucks and Buses\", \"Trucks and Buses\", \"Trucks and Buses\", \"Trucks and Buses\", \"Vintage Cars\", \"Vintage Cars\", \"Vintage Cars\", \"Vintage Cars\", \"Vintage Cars\", \"Vintage Cars\", \"Vintage Cars\", \"Vintage Cars\", \"Vintage Cars\", \"Vintage Cars\", \"Vintage Cars\", \"Vintage Cars\", \"Vintage Cars\", \"Vintage Cars\", \"Vintage Cars\", \"Vintage Cars\", \"Vintage Cars\", \"Vintage Cars\", \"Vintage Cars\", \"Vintage Cars\", \"Vintage Cars\", \"Vintage Cars\", \"Vintage Cars\", \"Vintage Cars\", \"Vintage Cars\", \"Vintage Cars\", \"Vintage Cars\", \"Classic Cars\", \"Classic Cars\", \"Classic Cars\", \"Classic Cars\", \"Classic Cars\", \"Classic Cars\", \"Classic Cars\", \"Classic Cars\", \"Classic Cars\", \"Classic Cars\", \"Classic Cars\", \"Classic Cars\", \"Classic Cars\", \"Classic Cars\", \"Classic Cars\", \"Classic Cars\", \"Classic Cars\", \"Classic Cars\", \"Classic Cars\", \"Classic Cars\", \"Classic Cars\", \"Classic Cars\", \"Classic Cars\", \"Classic Cars\", \"Classic Cars\", \"Classic Cars\", \"Classic Cars\", \"Classic Cars\", \"Classic Cars\", \"Classic Cars\", \"Classic Cars\", \"Classic Cars\", \"Classic Cars\", \"Classic Cars\", \"Classic Cars\", \"Classic Cars\", \"Classic Cars\", \"Classic Cars\", \"Classic Cars\", \"Classic Cars\", \"Classic Cars\", \"Classic Cars\", \"Classic Cars\", \"Classic Cars\", \"Classic Cars\", \"Classic Cars\", \"Classic Cars\", \"Classic Cars\", \"Classic Cars\", \"Classic Cars\", \"Classic Cars\", \"Classic Cars\", \"Classic Cars\", \"Classic Cars\", \"Classic Cars\", \"Classic Cars\", \"Classic Cars\", \"Classic Cars\", \"Classic Cars\", \"Classic Cars\", \"Classic Cars\", \"Classic Cars\", \"Classic Cars\", \"Classic Cars\", \"Classic Cars\", \"Classic Cars\", \"Classic Cars\", \"Classic Cars\", \"Classic Cars\", \"Classic Cars\", \"Classic Cars\", \"Classic Cars\", \"Classic Cars\", \"Classic Cars\", \"Classic Cars\", \"Classic Cars\", \"Classic Cars\", \"Classic Cars\", \"Classic Cars\", \"Classic Cars\", \"Classic Cars\", \"Classic Cars\", \"Classic Cars\", \"Classic Cars\", \"Classic Cars\", \"Classic Cars\", \"Classic Cars\", \"Classic Cars\", \"Classic Cars\", \"Classic Cars\", \"Classic Cars\", \"Classic Cars\", \"Classic Cars\", \"Classic Cars\", \"Classic Cars\", \"Classic Cars\", \"Classic Cars\", \"Motorcycles\", \"Motorcycles\", \"Motorcycles\", \"Motorcycles\", \"Motorcycles\", \"Motorcycles\", \"Motorcycles\", \"Motorcycles\", \"Motorcycles\", \"Motorcycles\", \"Motorcycles\", \"Motorcycles\", \"Motorcycles\", \"Motorcycles\", \"Motorcycles\", \"Motorcycles\", \"Motorcycles\", \"Motorcycles\", \"Motorcycles\", \"Motorcycles\", \"Motorcycles\", \"Motorcycles\", \"Motorcycles\", \"Motorcycles\", \"Motorcycles\", \"Motorcycles\", \"Classic Cars\", \"Classic Cars\", \"Classic Cars\", \"Classic Cars\", \"Classic Cars\", \"Classic Cars\", \"Classic Cars\", \"Classic Cars\", \"Classic Cars\", \"Classic Cars\", \"Classic Cars\", \"Classic Cars\", \"Classic Cars\", \"Classic Cars\", \"Classic Cars\", \"Classic Cars\", \"Classic Cars\", \"Classic Cars\", \"Classic Cars\", \"Classic Cars\", \"Classic Cars\", \"Classic Cars\", \"Classic Cars\", \"Classic Cars\", \"Planes\", \"Planes\", \"Planes\", \"Planes\", \"Planes\", \"Planes\", \"Planes\", \"Planes\", \"Planes\", \"Planes\", \"Planes\", \"Planes\", \"Planes\", \"Planes\", \"Planes\", \"Planes\", \"Planes\", \"Planes\", \"Planes\", \"Planes\", \"Planes\", \"Planes\", \"Planes\", \"Vintage Cars\", \"Vintage Cars\", \"Vintage Cars\", \"Vintage Cars\", \"Vintage Cars\", \"Vintage Cars\", \"Vintage Cars\", \"Vintage Cars\", \"Vintage Cars\", \"Vintage Cars\", \"Vintage Cars\", \"Vintage Cars\", \"Vintage Cars\", \"Vintage Cars\", \"Vintage Cars\", \"Vintage Cars\", \"Vintage Cars\", \"Vintage Cars\", \"Vintage Cars\", \"Vintage Cars\", \"Vintage Cars\", \"Vintage Cars\", \"Vintage Cars\", \"Vintage Cars\", \"Vintage Cars\", \"Motorcycles\", \"Motorcycles\", \"Motorcycles\", \"Motorcycles\", \"Motorcycles\", \"Motorcycles\", \"Motorcycles\", \"Motorcycles\", \"Motorcycles\", \"Motorcycles\", \"Motorcycles\", \"Motorcycles\", \"Motorcycles\", \"Motorcycles\", \"Motorcycles\", \"Motorcycles\", \"Motorcycles\", \"Motorcycles\", \"Motorcycles\", \"Motorcycles\", \"Motorcycles\", \"Motorcycles\", \"Motorcycles\", \"Motorcycles\", \"Motorcycles\", \"Motorcycles\", \"Ships\", \"Ships\", \"Ships\", \"Ships\", \"Ships\", \"Ships\", \"Ships\", \"Ships\", \"Ships\", \"Ships\", \"Ships\", \"Ships\", \"Ships\", \"Ships\", \"Ships\", \"Ships\", \"Ships\", \"Ships\", \"Ships\", \"Ships\", \"Ships\", \"Ships\", \"Ships\", \"Ships\", \"Ships\", \"Ships\", \"Vintage Cars\", \"Vintage Cars\", \"Vintage Cars\", \"Vintage Cars\", \"Vintage Cars\", \"Vintage Cars\", \"Vintage Cars\", \"Vintage Cars\", \"Vintage Cars\", \"Vintage Cars\", \"Vintage Cars\", \"Vintage Cars\", \"Vintage Cars\", \"Vintage Cars\", \"Vintage Cars\", \"Vintage Cars\", \"Vintage Cars\", \"Vintage Cars\", \"Vintage Cars\", \"Vintage Cars\", \"Vintage Cars\", \"Vintage Cars\", \"Vintage Cars\", \"Vintage Cars\", \"Vintage Cars\", \"Trucks and Buses\", \"Trucks and Buses\", \"Trucks and Buses\", \"Trucks and Buses\", \"Trucks and Buses\", \"Trucks and Buses\", \"Trucks and Buses\", \"Trucks and Buses\", \"Trucks and Buses\", \"Trucks and Buses\", \"Trucks and Buses\", \"Trucks and Buses\", \"Trucks and Buses\", \"Trucks and Buses\", \"Trucks and Buses\", \"Trucks and Buses\", \"Trucks and Buses\", \"Trucks and Buses\", \"Trucks and Buses\", \"Trucks and Buses\", \"Trucks and Buses\", \"Trucks and Buses\", \"Trucks and Buses\", \"Trucks and Buses\", \"Trucks and Buses\", \"Trucks and Buses\", \"Trucks and Buses\", \"Motorcycles\", \"Motorcycles\", \"Motorcycles\", \"Motorcycles\", \"Motorcycles\", \"Motorcycles\", \"Motorcycles\", \"Motorcycles\", \"Motorcycles\", \"Motorcycles\", \"Motorcycles\", \"Motorcycles\", \"Motorcycles\", \"Motorcycles\", \"Motorcycles\", \"Motorcycles\", \"Motorcycles\", \"Motorcycles\", \"Motorcycles\", \"Motorcycles\", \"Motorcycles\", \"Motorcycles\", \"Motorcycles\", \"Motorcycles\", \"Motorcycles\", \"Classic Cars\", \"Classic Cars\", \"Classic Cars\", \"Classic Cars\", \"Classic Cars\", \"Classic Cars\", \"Classic Cars\", \"Classic Cars\", \"Classic Cars\", \"Classic Cars\", \"Classic Cars\", \"Classic Cars\", \"Classic Cars\", \"Classic Cars\", \"Classic Cars\", \"Classic Cars\", \"Classic Cars\", \"Classic Cars\", \"Classic Cars\", \"Classic Cars\", \"Classic Cars\", \"Classic Cars\", \"Classic Cars\", \"Classic Cars\", \"Classic Cars\", \"Classic Cars\", \"Classic Cars\", \"Classic Cars\", \"Classic Cars\", \"Classic Cars\", \"Classic Cars\", \"Classic Cars\", \"Classic Cars\", \"Classic Cars\", \"Classic Cars\", \"Classic Cars\", \"Classic Cars\", \"Classic Cars\", \"Classic Cars\", \"Classic Cars\", \"Classic Cars\", \"Classic Cars\", \"Classic Cars\", \"Classic Cars\", \"Classic Cars\", \"Classic Cars\", \"Classic Cars\", \"Classic Cars\", \"Classic Cars\", \"Classic Cars\", \"Classic Cars\", \"Planes\", \"Planes\", \"Planes\", \"Planes\", \"Planes\", \"Planes\", \"Planes\", \"Planes\", \"Planes\", \"Planes\", \"Planes\", \"Planes\", \"Planes\", \"Planes\", \"Planes\", \"Planes\", \"Planes\", \"Planes\", \"Planes\", \"Planes\", \"Planes\", \"Planes\", \"Planes\", \"Planes\", \"Planes\", \"Planes\", \"Classic Cars\", \"Classic Cars\", \"Classic Cars\", \"Classic Cars\", \"Classic Cars\", \"Classic Cars\", \"Classic Cars\", \"Classic Cars\", \"Classic Cars\", \"Classic Cars\", \"Classic Cars\", \"Classic Cars\", \"Classic Cars\", \"Classic Cars\", \"Classic Cars\", \"Classic Cars\", \"Classic Cars\", \"Classic Cars\", \"Classic Cars\", \"Classic Cars\", \"Classic Cars\", \"Classic Cars\", \"Classic Cars\", \"Classic Cars\", \"Classic Cars\", \"Classic Cars\", \"Classic Cars\", \"Classic Cars\", \"Classic Cars\", \"Classic Cars\", \"Classic Cars\", \"Classic Cars\", \"Classic Cars\", \"Classic Cars\", \"Classic Cars\", \"Classic Cars\", \"Classic Cars\", \"Classic Cars\", \"Classic Cars\", \"Classic Cars\", \"Classic Cars\", \"Classic Cars\", \"Classic Cars\", \"Classic Cars\", \"Classic Cars\", \"Classic Cars\", \"Classic Cars\", \"Classic Cars\", \"Classic Cars\", \"Vintage Cars\", \"Vintage Cars\", \"Vintage Cars\", \"Vintage Cars\", \"Vintage Cars\", \"Vintage Cars\", \"Vintage Cars\", \"Vintage Cars\", \"Vintage Cars\", \"Vintage Cars\", \"Vintage Cars\", \"Vintage Cars\", \"Vintage Cars\", \"Vintage Cars\", \"Vintage Cars\", \"Vintage Cars\", \"Vintage Cars\", \"Vintage Cars\", \"Vintage Cars\", \"Vintage Cars\", \"Vintage Cars\", \"Vintage Cars\", \"Vintage Cars\", \"Vintage Cars\", \"Vintage Cars\", \"Vintage Cars\", \"Classic Cars\", \"Classic Cars\", \"Classic Cars\", \"Classic Cars\", \"Classic Cars\", \"Classic Cars\", \"Classic Cars\", \"Classic Cars\", \"Classic Cars\", \"Classic Cars\", \"Classic Cars\", \"Classic Cars\", \"Classic Cars\", \"Classic Cars\", \"Classic Cars\", \"Classic Cars\", \"Classic Cars\", \"Classic Cars\", \"Classic Cars\", \"Classic Cars\", \"Classic Cars\", \"Classic Cars\", \"Classic Cars\", \"Classic Cars\", \"Classic Cars\", \"Classic Cars\", \"Classic Cars\", \"Classic Cars\", \"Classic Cars\", \"Classic Cars\", \"Classic Cars\", \"Classic Cars\", \"Classic Cars\", \"Classic Cars\", \"Classic Cars\", \"Classic Cars\", \"Classic Cars\", \"Classic Cars\", \"Classic Cars\", \"Classic Cars\", \"Classic Cars\", \"Classic Cars\", \"Classic Cars\", \"Classic Cars\", \"Classic Cars\", \"Classic Cars\", \"Classic Cars\", \"Classic Cars\", \"Classic Cars\", \"Vintage Cars\", \"Vintage Cars\", \"Vintage Cars\", \"Vintage Cars\", \"Vintage Cars\", \"Vintage Cars\", \"Vintage Cars\", \"Vintage Cars\", \"Vintage Cars\", \"Vintage Cars\", \"Vintage Cars\", \"Vintage Cars\", \"Vintage Cars\", \"Vintage Cars\", \"Vintage Cars\", \"Vintage Cars\", \"Vintage Cars\", \"Vintage Cars\", \"Vintage Cars\", \"Vintage Cars\", \"Vintage Cars\", \"Vintage Cars\", \"Vintage Cars\", \"Vintage Cars\", \"Vintage Cars\", \"Vintage Cars\", \"Vintage Cars\", \"Classic Cars\", \"Classic Cars\", \"Classic Cars\", \"Classic Cars\", \"Classic Cars\", \"Classic Cars\", \"Classic Cars\", \"Classic Cars\", \"Classic Cars\", \"Classic Cars\", \"Classic Cars\", \"Classic Cars\", \"Classic Cars\", \"Classic Cars\", \"Classic Cars\", \"Classic Cars\", \"Classic Cars\", \"Classic Cars\", \"Classic Cars\", \"Classic Cars\", \"Classic Cars\", \"Classic Cars\", \"Classic Cars\", \"Vintage Cars\", \"Vintage Cars\", \"Vintage Cars\", \"Vintage Cars\", \"Vintage Cars\", \"Vintage Cars\", \"Vintage Cars\", \"Vintage Cars\", \"Vintage Cars\", \"Vintage Cars\", \"Vintage Cars\", \"Vintage Cars\", \"Vintage Cars\", \"Vintage Cars\", \"Vintage Cars\", \"Vintage Cars\", \"Vintage Cars\", \"Vintage Cars\", \"Vintage Cars\", \"Vintage Cars\", \"Vintage Cars\", \"Vintage Cars\", \"Vintage Cars\", \"Vintage Cars\", \"Vintage Cars\", \"Vintage Cars\", \"Classic Cars\", \"Classic Cars\", \"Classic Cars\", \"Classic Cars\", \"Classic Cars\", \"Classic Cars\", \"Classic Cars\", \"Classic Cars\", \"Classic Cars\", \"Classic Cars\", \"Classic Cars\", \"Classic Cars\", \"Classic Cars\", \"Classic Cars\", \"Classic Cars\", \"Classic Cars\", \"Classic Cars\", \"Classic Cars\", \"Classic Cars\", \"Classic Cars\", \"Classic Cars\", \"Classic Cars\", \"Classic Cars\", \"Classic Cars\", \"Classic Cars\", \"Classic Cars\", \"Classic Cars\", \"Planes\", \"Planes\", \"Planes\", \"Planes\", \"Planes\", \"Planes\", \"Planes\", \"Planes\", \"Planes\", \"Planes\", \"Planes\", \"Planes\", \"Planes\", \"Planes\", \"Planes\", \"Planes\", \"Planes\", \"Planes\", \"Planes\", \"Planes\", \"Planes\", \"Planes\", \"Planes\", \"Planes\", \"Planes\", \"Planes\", \"Planes\", \"Vintage Cars\", \"Vintage Cars\", \"Vintage Cars\", \"Vintage Cars\", \"Vintage Cars\", \"Vintage Cars\", \"Vintage Cars\", \"Vintage Cars\", \"Vintage Cars\", \"Vintage Cars\", \"Vintage Cars\", \"Vintage Cars\", \"Vintage Cars\", \"Vintage Cars\", \"Vintage Cars\", \"Vintage Cars\", \"Vintage Cars\", \"Vintage Cars\", \"Vintage Cars\", \"Vintage Cars\", \"Vintage Cars\", \"Vintage Cars\", \"Classic Cars\", \"Classic Cars\", \"Classic Cars\", \"Classic Cars\", \"Classic Cars\", \"Classic Cars\", \"Classic Cars\", \"Classic Cars\", \"Classic Cars\", \"Classic Cars\", \"Classic Cars\", \"Classic Cars\", \"Classic Cars\", \"Classic Cars\", \"Classic Cars\", \"Classic Cars\", \"Classic Cars\", \"Classic Cars\", \"Classic Cars\", \"Classic Cars\", \"Classic Cars\", \"Classic Cars\", \"Classic Cars\", \"Classic Cars\", \"Classic Cars\", \"Classic Cars\", \"Vintage Cars\", \"Vintage Cars\", \"Vintage Cars\", \"Vintage Cars\", \"Vintage Cars\", \"Vintage Cars\", \"Vintage Cars\", \"Vintage Cars\", \"Vintage Cars\", \"Vintage Cars\", \"Vintage Cars\", \"Vintage Cars\", \"Vintage Cars\", \"Vintage Cars\", \"Vintage Cars\", \"Vintage Cars\", \"Vintage Cars\", \"Vintage Cars\", \"Vintage Cars\", \"Vintage Cars\", \"Vintage Cars\", \"Vintage Cars\", \"Vintage Cars\", \"Vintage Cars\", \"Vintage Cars\", \"Vintage Cars\", \"Planes\", \"Planes\", \"Planes\", \"Planes\", \"Planes\", \"Planes\", \"Planes\", \"Planes\", \"Planes\", \"Planes\", \"Planes\", \"Planes\", \"Planes\", \"Planes\", \"Planes\", \"Planes\", \"Planes\", \"Planes\", \"Planes\", \"Planes\", \"Planes\", \"Planes\", \"Planes\", \"Planes\", \"Classic Cars\", \"Classic Cars\", \"Classic Cars\", \"Classic Cars\", \"Classic Cars\", \"Classic Cars\", \"Classic Cars\", \"Classic Cars\", \"Classic Cars\", \"Classic Cars\", \"Classic Cars\", \"Classic Cars\", \"Classic Cars\", \"Classic Cars\", \"Classic Cars\", \"Classic Cars\", \"Classic Cars\", \"Classic Cars\", \"Classic Cars\", \"Classic Cars\", \"Classic Cars\", \"Classic Cars\", \"Classic Cars\", \"Classic Cars\", \"Trucks and Buses\", \"Trucks and Buses\", \"Trucks and Buses\", \"Trucks and Buses\", \"Trucks and Buses\", \"Trucks and Buses\", \"Trucks and Buses\", \"Trucks and Buses\", \"Trucks and Buses\", \"Trucks and Buses\", \"Trucks and Buses\", \"Trucks and Buses\", \"Trucks and Buses\", \"Trucks and Buses\", \"Trucks and Buses\", \"Trucks and Buses\", \"Trucks and Buses\", \"Trucks and Buses\", \"Trucks and Buses\", \"Trucks and Buses\", \"Trucks and Buses\", \"Trucks and Buses\", \"Trucks and Buses\", \"Trucks and Buses\", \"Trucks and Buses\", \"Trucks and Buses\", \"Trucks and Buses\", \"Motorcycles\", \"Motorcycles\", \"Motorcycles\", \"Motorcycles\", \"Motorcycles\", \"Motorcycles\", \"Motorcycles\", \"Motorcycles\", \"Motorcycles\", \"Motorcycles\", \"Motorcycles\", \"Motorcycles\", \"Motorcycles\", \"Motorcycles\", \"Motorcycles\", \"Motorcycles\", \"Motorcycles\", \"Motorcycles\", \"Motorcycles\", \"Motorcycles\", \"Motorcycles\", \"Motorcycles\", \"Motorcycles\", \"Motorcycles\", \"Motorcycles\", \"Motorcycles\", \"Motorcycles\", \"Motorcycles\", \"Motorcycles\", \"Motorcycles\", \"Motorcycles\", \"Motorcycles\", \"Motorcycles\", \"Motorcycles\", \"Motorcycles\", \"Motorcycles\", \"Motorcycles\", \"Motorcycles\", \"Motorcycles\", \"Motorcycles\", \"Motorcycles\", \"Motorcycles\", \"Motorcycles\", \"Motorcycles\", \"Motorcycles\", \"Motorcycles\", \"Motorcycles\", \"Motorcycles\", \"Motorcycles\", \"Trucks and Buses\", \"Trucks and Buses\", \"Trucks and Buses\", \"Trucks and Buses\", \"Trucks and Buses\", \"Trucks and Buses\", \"Trucks and Buses\", \"Trucks and Buses\", \"Trucks and Buses\", \"Trucks and Buses\", \"Trucks and Buses\", \"Trucks and Buses\", \"Trucks and Buses\", \"Trucks and Buses\", \"Trucks and Buses\", \"Trucks and Buses\", \"Trucks and Buses\", \"Trucks and Buses\", \"Trucks and Buses\", \"Trucks and Buses\", \"Trucks and Buses\", \"Trucks and Buses\", \"Trucks and Buses\", \"Trucks and Buses\", \"Trucks and Buses\", \"Trucks and Buses\", \"Trucks and Buses\", \"Trucks and Buses\", \"Trains\", \"Trains\", \"Trains\", \"Trains\", \"Trains\", \"Trains\", \"Trains\", \"Trains\", \"Trains\", \"Trains\", \"Trains\", \"Trains\", \"Trains\", \"Trains\", \"Trains\", \"Trains\", \"Trains\", \"Trains\", \"Trains\", \"Trains\", \"Trains\", \"Trains\", \"Trains\", \"Trains\", \"Trains\", \"Trains\", \"Trucks and Buses\", \"Trucks and Buses\", \"Trucks and Buses\", \"Trucks and Buses\", \"Trucks and Buses\", \"Trucks and Buses\", \"Trucks and Buses\", \"Trucks and Buses\", \"Trucks and Buses\", \"Trucks and Buses\", \"Trucks and Buses\", \"Trucks and Buses\", \"Trucks and Buses\", \"Trucks and Buses\", \"Trucks and Buses\", \"Trucks and Buses\", \"Trucks and Buses\", \"Trucks and Buses\", \"Trucks and Buses\", \"Trucks and Buses\", \"Trucks and Buses\", \"Trucks and Buses\", \"Trucks and Buses\", \"Trucks and Buses\", \"Trucks and Buses\", \"Trucks and Buses\", \"Trucks and Buses\", \"Vintage Cars\", \"Vintage Cars\", \"Vintage Cars\", \"Vintage Cars\", \"Vintage Cars\", \"Vintage Cars\", \"Vintage Cars\", \"Vintage Cars\", \"Vintage Cars\", \"Vintage Cars\", \"Vintage Cars\", \"Vintage Cars\", \"Vintage Cars\", \"Vintage Cars\", \"Vintage Cars\", \"Vintage Cars\", \"Vintage Cars\", \"Vintage Cars\", \"Vintage Cars\", \"Vintage Cars\", \"Vintage Cars\", \"Vintage Cars\", \"Vintage Cars\", \"Vintage Cars\", \"Motorcycles\", \"Motorcycles\", \"Motorcycles\", \"Motorcycles\", \"Motorcycles\", \"Motorcycles\", \"Motorcycles\", \"Motorcycles\", \"Motorcycles\", \"Motorcycles\", \"Motorcycles\", \"Motorcycles\", \"Motorcycles\", \"Motorcycles\", \"Motorcycles\", \"Motorcycles\", \"Motorcycles\", \"Motorcycles\", \"Motorcycles\", \"Motorcycles\", \"Motorcycles\", \"Motorcycles\", \"Motorcycles\", \"Motorcycles\", \"Motorcycles\", \"Vintage Cars\", \"Vintage Cars\", \"Vintage Cars\", \"Vintage Cars\", \"Vintage Cars\", \"Vintage Cars\", \"Vintage Cars\", \"Vintage Cars\", \"Vintage Cars\", \"Vintage Cars\", \"Vintage Cars\", \"Vintage Cars\", \"Vintage Cars\", \"Vintage Cars\", \"Vintage Cars\", \"Vintage Cars\", \"Vintage Cars\", \"Vintage Cars\", \"Vintage Cars\", \"Vintage Cars\", \"Vintage Cars\", \"Vintage Cars\", \"Vintage Cars\", \"Vintage Cars\", \"Vintage Cars\", \"Vintage Cars\", \"Trucks and Buses\", \"Trucks and Buses\", \"Trucks and Buses\", \"Trucks and Buses\", \"Trucks and Buses\", \"Trucks and Buses\", \"Trucks and Buses\", \"Trucks and Buses\", \"Trucks and Buses\", \"Trucks and Buses\", \"Trucks and Buses\", \"Trucks and Buses\", \"Trucks and Buses\", \"Trucks and Buses\", \"Trucks and Buses\", \"Trucks and Buses\", \"Trucks and Buses\", \"Trucks and Buses\", \"Trucks and Buses\", \"Trucks and Buses\", \"Trucks and Buses\", \"Trucks and Buses\", \"Trucks and Buses\", \"Trucks and Buses\", \"Trucks and Buses\", \"Trucks and Buses\", \"Trucks and Buses\", \"Trucks and Buses\", \"Trains\", \"Trains\", \"Trains\", \"Trains\", \"Trains\", \"Trains\", \"Trains\", \"Trains\", \"Trains\", \"Trains\", \"Trains\", \"Trains\", \"Trains\", \"Trains\", \"Trains\", \"Trains\", \"Trains\", \"Trains\", \"Trains\", \"Trains\", \"Trains\", \"Trains\", \"Trains\", \"Trains\", \"Trains\", \"Trains\", \"Motorcycles\", \"Motorcycles\", \"Motorcycles\", \"Motorcycles\", \"Motorcycles\", \"Motorcycles\", \"Motorcycles\", \"Motorcycles\", \"Motorcycles\", \"Motorcycles\", \"Motorcycles\", \"Motorcycles\", \"Motorcycles\", \"Motorcycles\", \"Motorcycles\", \"Motorcycles\", \"Motorcycles\", \"Motorcycles\", \"Motorcycles\", \"Motorcycles\", \"Motorcycles\", \"Motorcycles\", \"Motorcycles\", \"Motorcycles\", \"Motorcycles\", \"Ships\", \"Ships\", \"Ships\", \"Ships\", \"Ships\", \"Ships\", \"Ships\", \"Ships\", \"Ships\", \"Ships\", \"Ships\", \"Ships\", \"Ships\", \"Ships\", \"Ships\", \"Ships\", \"Ships\", \"Ships\", \"Ships\", \"Ships\", \"Ships\", \"Ships\", \"Ships\", \"Ships\", \"Ships\", \"Ships\", \"Planes\", \"Planes\", \"Planes\", \"Planes\", \"Planes\", \"Planes\", \"Planes\", \"Planes\", \"Planes\", \"Planes\", \"Planes\", \"Planes\", \"Planes\", \"Planes\", \"Planes\", \"Planes\", \"Planes\", \"Planes\", \"Planes\", \"Planes\", \"Planes\", \"Planes\", \"Planes\", \"Planes\", \"Planes\", \"Planes\", \"Ships\", \"Ships\", \"Ships\", \"Ships\", \"Ships\", \"Ships\", \"Ships\", \"Ships\", \"Ships\", \"Ships\", \"Ships\", \"Ships\", \"Ships\", \"Ships\", \"Ships\", \"Ships\", \"Ships\", \"Ships\", \"Ships\", \"Ships\", \"Ships\", \"Ships\", \"Ships\", \"Ships\", \"Ships\", \"Ships\", \"Ships\", \"Ships\", \"Ships\", \"Ships\", \"Ships\", \"Ships\", \"Ships\", \"Ships\", \"Ships\", \"Ships\", \"Ships\", \"Ships\", \"Ships\", \"Ships\", \"Ships\", \"Ships\", \"Ships\", \"Ships\", \"Ships\", \"Ships\", \"Ships\", \"Ships\", \"Ships\", \"Ships\", \"Ships\", \"Ships\", \"Planes\", \"Planes\", \"Planes\", \"Planes\", \"Planes\", \"Planes\", \"Planes\", \"Planes\", \"Planes\", \"Planes\", \"Planes\", \"Planes\", \"Planes\", \"Planes\", \"Planes\", \"Planes\", \"Planes\", \"Planes\", \"Planes\", \"Planes\", \"Planes\", \"Planes\", \"Planes\", \"Planes\", \"Planes\", \"Planes\", \"Planes\", \"Ships\", \"Ships\", \"Ships\", \"Ships\", \"Ships\", \"Ships\", \"Ships\", \"Ships\", \"Ships\", \"Ships\", \"Ships\", \"Ships\", \"Ships\", \"Ships\", \"Ships\", \"Ships\", \"Ships\", \"Ships\", \"Ships\", \"Ships\", \"Ships\", \"Ships\", \"Ships\", \"Ships\", \"Ships\", \"Ships\", \"Classic Cars\", \"Classic Cars\", \"Classic Cars\", \"Classic Cars\", \"Classic Cars\", \"Classic Cars\", \"Classic Cars\", \"Classic Cars\", \"Classic Cars\", \"Classic Cars\", \"Classic Cars\", \"Classic Cars\", \"Classic Cars\", \"Classic Cars\", \"Classic Cars\", \"Classic Cars\", \"Classic Cars\", \"Classic Cars\", \"Classic Cars\", \"Classic Cars\", \"Classic Cars\", \"Classic Cars\", \"Classic Cars\", \"Classic Cars\", \"Classic Cars\", \"Classic Cars\", \"Classic Cars\", \"Planes\", \"Planes\", \"Planes\", \"Planes\", \"Planes\", \"Planes\", \"Planes\", \"Planes\", \"Planes\", \"Planes\", \"Planes\", \"Planes\", \"Planes\", \"Planes\", \"Planes\", \"Planes\", \"Planes\", \"Planes\", \"Planes\", \"Planes\", \"Planes\", \"Planes\", \"Planes\", \"Planes\", \"Planes\", \"Planes\", \"Planes\", \"Planes\", \"Planes\", \"Planes\", \"Planes\", \"Planes\", \"Planes\", \"Planes\", \"Planes\", \"Planes\", \"Planes\", \"Planes\", \"Planes\", \"Planes\", \"Planes\", \"Planes\", \"Planes\", \"Planes\", \"Planes\", \"Planes\", \"Planes\", \"Planes\", \"Planes\", \"Planes\", \"Ships\", \"Ships\", \"Ships\", \"Ships\", \"Ships\", \"Ships\", \"Ships\", \"Ships\", \"Ships\", \"Ships\", \"Ships\", \"Ships\", \"Ships\", \"Ships\", \"Ships\", \"Ships\", \"Ships\", \"Ships\", \"Ships\", \"Ships\", \"Ships\", \"Ships\", \"Ships\", \"Ships\", \"Ships\", \"Ships\", \"Ships\", \"Ships\", \"Ships\", \"Ships\", \"Ships\", \"Ships\", \"Ships\", \"Ships\", \"Ships\", \"Ships\", \"Ships\", \"Ships\", \"Ships\", \"Ships\", \"Ships\", \"Ships\", \"Ships\", \"Ships\", \"Ships\", \"Ships\", \"Ships\", \"Ships\", \"Ships\", \"Ships\", \"Ships\", \"Ships\", \"Planes\", \"Planes\", \"Planes\", \"Planes\", \"Planes\", \"Planes\", \"Planes\", \"Planes\", \"Planes\", \"Planes\", \"Planes\", \"Planes\", \"Planes\", \"Planes\", \"Planes\", \"Planes\", \"Planes\", \"Planes\", \"Planes\", \"Planes\", \"Planes\", \"Planes\", \"Planes\", \"Planes\", \"Planes\", \"Planes\", \"Planes\", \"Planes\", \"Planes\", \"Planes\", \"Planes\", \"Planes\", \"Planes\", \"Planes\", \"Planes\", \"Planes\", \"Planes\", \"Planes\", \"Planes\", \"Planes\", \"Planes\", \"Planes\", \"Planes\", \"Planes\", \"Planes\", \"Planes\", \"Planes\", \"Planes\", \"Planes\", \"Planes\", \"Planes\", \"Planes\", \"Planes\", \"Planes\", \"Ships\", \"Ships\", \"Ships\", \"Ships\", \"Ships\", \"Ships\", \"Ships\", \"Ships\", \"Ships\", \"Ships\", \"Ships\", \"Ships\", \"Ships\", \"Ships\", \"Ships\", \"Ships\", \"Ships\", \"Ships\", \"Ships\", \"Ships\", \"Ships\", \"Ships\", \"Ships\", \"Ships\", \"Ships\", \"Ships\"], \"legendgroup\": \"\", \"name\": \"\", \"showlegend\": true, \"textinfo\": \"percent+label\", \"textposition\": \"inside\", \"type\": \"pie\", \"values\": [30, 34, 41, 45, 49, 36, 29, 48, 22, 41, 37, 23, 28, 34, 45, 36, 23, 41, 46, 42, 41, 20, 21, 42, 24, 66, 26, 29, 38, 37, 45, 21, 34, 23, 42, 47, 35, 29, 34, 32, 21, 34, 37, 47, 48, 40, 26, 30, 32, 41, 36, 24, 23, 50, 39, 29, 27, 37, 37, 27, 42, 38, 24, 23, 47, 22, 44, 40, 22, 47, 39, 34, 45, 20, 40, 26, 39, 50, 45, 45, 27, 46, 31, 33, 22, 20, 41, 45, 49, 34, 49, 39, 43, 41, 36, 27, 29, 20, 37, 26, 39, 22, 22, 21, 66, 56, 50, 46, 33, 49, 32, 44, 24, 26, 45, 39, 49, 20, 27, 30, 25, 24, 22, 33, 47, 25, 26, 48, 39, 34, 32, 64, 19, 42, 31, 22, 26, 20, 21, 33, 28, 26, 31, 48, 50, 28, 26, 32, 44, 30, 38, 40, 46, 26, 27, 43, 35, 37, 37, 27, 38, 33, 42, 42, 48, 41, 30, 27, 21, 20, 41, 27, 28, 24, 44, 50, 21, 33, 33, 31, 41, 45, 33, 45, 26, 12, 41, 33, 46, 33, 20, 44, 33, 21, 47, 46, 32, 42, 44, 35, 41, 46, 31, 38, 42, 33, 48, 42, 32, 34, 33, 36, 27, 21, 21, 38, 30, 49, 43, 41, 38, 28, 43, 25, 38, 41, 28, 25, 41, 39, 21, 27, 33, 29, 49, 49, 20, 39, 40, 49, 21, 50, 20, 49, 38, 35, 40, 28, 25, 36, 43, 32, 46, 48, 43, 49, 24, 26, 30, 24, 55, 22, 49, 44, 66, 21, 34, 43, 46, 33, 42, 34, 47, 33, 24, 26, 30, 43, 25, 27, 27, 24, 34, 46, 27, 33, 47, 49, 40, 37, 47, 45, 37, 48, 31, 46, 47, 28, 40, 20, 39, 25, 29, 22, 22, 47, 45, 29, 24, 35, 46, 44, 34, 35, 25, 10, 29, 39, 42, 46, 49, 27, 50, 43, 38, 20, 27, 49, 27, 39, 24, 45, 20, 36, 24, 49, 26, 49, 34, 34, 33, 22, 39, 32, 24, 21, 24, 36, 20, 30, 44, 28, 37, 20, 25, 35, 38, 41, 22, 49, 38, 33, 36, 34, 24, 36, 34, 41, 46, 24, 21, 24, 48, 26, 37, 49, 34, 48, 36, 46, 46, 31, 41, 21, 38, 45, 26, 38, 48, 42, 49, 32, 54, 33, 36, 20, 29, 33, 50, 41, 36, 27, 47, 33, 21, 21, 41, 40, 28, 23, 23, 25, 24, 39, 55, 46, 50, 47, 97, 32, 35, 49, 38, 32, 34, 36, 48, 21, 21, 34, 46, 32, 29, 41, 43, 24, 41, 46, 32, 22, 29, 42, 39, 27, 48, 29, 27, 54, 26, 34, 25, 23, 28, 35, 44, 22, 42, 29, 32, 41, 26, 21, 34, 41, 37, 37, 41, 46, 40, 43, 30, 35, 36, 61, 38, 39, 33, 32, 31, 50, 48, 43, 25, 28, 36, 27, 25, 40, 34, 50, 38, 37, 43, 43, 46, 42, 50, 44, 27, 35, 51, 41, 48, 42, 49, 30, 45, 48, 32, 46, 48, 33, 31, 20, 29, 27, 24, 37, 25, 41, 27, 21, 22, 32, 25, 42, 25, 37, 26, 44, 47, 43, 42, 42, 29, 40, 38, 38, 21, 24, 36, 23, 20, 32, 29, 44, 44, 36, 49, 34, 59, 37, 36, 43, 21, 32, 38, 43, 42, 32, 42, 31, 49, 45, 49, 41, 45, 36, 39, 27, 25, 41, 39, 28, 25, 33, 34, 24, 30, 42, 21, 34, 29, 24, 44, 21, 33, 30, 26, 41, 26, 32, 43, 48, 44, 45, 37, 39, 76, 37, 38, 43, 48, 26, 38, 20, 22, 45, 45, 20, 47, 46, 23, 33, 29, 44, 41, 20, 37, 29, 55, 22, 31, 49, 61, 39, 38, 31, 36, 25, 48, 35, 21, 47, 38, 41, 24, 37, 33, 49, 29, 24, 47, 24, 25, 30, 22, 27, 34, 36, 34, 48, 34, 24, 46, 45, 39, 43, 29, 20, 46, 27, 44, 43, 49, 40, 30, 50, 23, 26, 27, 42, 47, 49, 38, 20, 25, 25, 41, 28, 50, 32, 42, 24, 27, 26, 38, 42, 23, 21, 28, 33, 25, 28, 46, 30, 38, 40, 45, 27, 42, 36, 29, 39, 45, 47, 49, 46, 48, 46, 35, 43, 26, 22, 34, 50, 48, 41, 36, 29, 33, 46, 38, 20, 22, 27, 56, 38, 25, 33, 42, 33, 38, 31, 20, 44, 26, 27, 46, 47, 37, 31, 24, 31, 50, 35, 30, 29, 27, 40, 31, 6, 45, 22, 45, 43, 46, 39, 31, 41, 44, 45, 37, 35, 28, 30, 30, 25, 29, 26, 41, 34, 35, 34, 50, 41, 22, 35, 44, 47, 19, 34, 29, 49, 30, 21, 50, 47, 24, 27, 33, 35, 31, 25, 27, 31, 45, 27, 27, 42, 21, 34, 42, 15, 29, 46, 30, 30, 42, 46, 25, 32, 30, 40, 28, 23, 29, 34, 37, 20, 32, 34, 42, 38, 30, 23, 22, 39, 55, 36, 26, 31, 34, 41, 23, 48, 22, 21, 22, 40, 50, 29, 43, 24, 22, 43, 20, 25, 36, 24, 21, 30, 32, 21, 26, 35, 26, 46, 37, 27, 23, 39, 27, 38, 27, 40, 24, 44, 37, 20, 39, 44, 22, 43, 27, 26, 25, 49, 29, 41, 55, 27, 23, 31, 46, 47, 31, 46, 37, 28, 37, 49, 24, 30, 50, 31, 46, 47, 46, 37, 33, 31, 48, 41, 42, 41, 32, 10, 35, 28, 46, 20, 30, 48, 28, 39, 24, 28, 31, 45, 24, 49, 32, 43, 37, 24, 35, 41, 26, 34, 49, 28, 40, 37, 31, 41, 21, 40, 46, 44, 46, 41, 32, 46, 28, 49, 21, 32, 34, 21, 21, 31, 21, 25, 28, 43, 22, 37, 28, 30, 44, 25, 43, 30, 20, 26, 40, 31, 22, 23, 30, 49, 31, 29, 37, 38, 29, 23, 26, 38, 48, 40, 45, 44, 21, 35, 29, 21, 22, 26, 41, 47, 31, 43, 23, 28, 49, 24, 33, 22, 32, 40, 43, 24, 32, 20, 24, 48, 44, 28, 24, 33, 41, 23, 46, 48, 25, 22, 41, 34, 32, 21, 20, 47, 39, 29, 45, 28, 26, 50, 48, 25, 40, 43, 22, 47, 36, 40, 27, 29, 20, 42, 25, 36, 21, 23, 37, 48, 25, 33, 27, 27, 20, 30, 48, 32, 34, 27, 39, 47, 22, 55, 60, 35, 28, 38, 21, 41, 22, 29, 50, 29, 49, 35, 48, 23, 48, 42, 47, 36, 22, 40, 23, 32, 21, 41, 25, 26, 24, 48, 26, 21, 45, 36, 21, 32, 30, 36, 33, 35, 37, 41, 20, 45, 38, 43, 49, 27, 46, 38, 25, 46, 22, 40, 46, 39, 38, 30, 42, 43, 29, 33, 32, 28, 41, 33, 36, 26, 34, 26, 38, 33, 33, 46, 26, 25, 45, 50, 36, 21, 29, 21, 42, 37, 25, 36, 22, 23, 32, 28, 27, 49, 41, 49, 30, 40, 23, 49, 25, 37, 55, 23, 24, 43, 50, 47, 34, 31, 28, 36, 48, 39, 45, 35, 45, 46, 37, 31, 33, 31, 27, 39, 32, 28, 26, 44, 46, 32, 65, 43, 43, 35, 45, 47, 21, 38, 21, 43, 46, 38, 26, 31, 48, 33, 38, 39, 42, 44, 29, 26, 31, 32, 28, 36, 36, 41, 27, 33, 34, 29, 34, 48, 46, 22, 20, 45, 46, 34, 50, 46, 22, 48, 47, 34, 45, 20, 50, 22, 45, 58, 51, 38, 22, 25, 24, 35, 28, 36, 39, 27, 40, 50, 42, 48, 25, 31, 44, 23, 29, 49, 36, 34, 25, 48, 38, 37, 49, 22, 28, 36, 34, 39, 21, 36, 24, 29, 38, 34, 42, 35, 35, 38, 41, 50, 21, 43, 32, 6, 66, 41, 23, 43, 24, 22, 26, 35, 47, 50, 45, 39, 23, 42, 20, 33, 34, 49, 39, 36, 50, 29, 30, 41, 28, 45, 16, 36, 41, 50, 40, 49, 45, 47, 21, 32, 47, 38, 41, 21, 41, 38, 25, 48, 22, 28, 47, 49, 45, 28, 29, 39, 46, 38, 41, 50, 43, 29, 30, 25, 49, 40, 41, 21, 46, 39, 45, 21, 44, 44, 29, 34, 39, 38, 24, 29, 30, 20, 39, 35, 26, 44, 28, 31, 29, 32, 33, 44, 32, 41, 35, 44, 26, 20, 48, 34, 49, 40, 45, 50, 38, 25, 28, 49, 49, 42, 23, 29, 25, 39, 44, 25, 45, 25, 37, 30, 36, 26, 23, 23, 25, 21, 26, 44, 24, 66, 36, 36, 22, 25, 37, 32, 47, 37, 20, 41, 21, 22, 40, 32, 36, 27, 26, 30, 23, 29, 21, 34, 26, 60, 35, 47, 20, 20, 25, 25, 27, 31, 44, 49, 26, 36, 44, 28, 45, 29, 40, 45, 44, 25, 45, 48, 44, 25, 22, 31, 21, 55, 25, 35, 35, 43, 44, 50, 48, 25, 39, 25, 32, 20, 26, 42, 21, 34, 47, 21, 48, 30, 27, 50, 38, 45, 46, 35, 29, 50, 26, 47, 23, 34, 34, 47, 45, 45, 36, 21, 28, 35, 50, 22, 45, 48, 20, 27, 38, 32, 64, 37, 28, 39, 41, 40, 49, 27, 34, 23, 31, 34, 25, 22, 32, 31, 25, 47, 21, 28, 46, 33, 43, 38, 47, 45, 20, 45, 36, 37, 31, 39, 26, 32, 20, 42, 33, 20, 29, 23, 39, 20, 45, 20, 48, 23, 32, 33, 61, 45, 38, 34, 43, 47, 22, 29, 28, 40, 25, 30, 38, 36, 32, 37, 30, 39, 32, 47, 26, 37, 55, 21, 23, 49, 59, 32, 43, 41, 45, 33, 40, 33, 50, 30, 41, 35, 49, 46, 48, 36, 22, 42, 21, 29, 35, 41, 29, 34, 37, 28, 49, 23, 46, 39, 22, 49, 43, 27, 31, 20, 24, 49, 24, 39, 37, 45, 45, 44, 23, 30, 26, 43, 26, 28, 27, 24, 40, 36, 21, 27, 47, 42, 32, 28, 24, 49, 46, 28, 48, 29, 47, 43, 25, 48, 24, 42, 31, 42, 37, 41, 20, 20, 70, 49, 35, 32, 29, 27, 27, 38, 35, 42, 21, 37, 26, 47, 37, 46, 38, 33, 24, 31, 42, 32, 41, 43, 20, 35, 27, 43, 32, 21, 20, 22, 36, 46, 47, 45, 47, 47, 38, 49, 35, 49, 28, 30, 39, 25, 40, 36, 76, 39, 44, 24, 39, 21, 30, 27, 37, 42, 32, 42, 21, 33, 49, 31, 38, 20, 39, 48, 39, 30, 33, 36, 36, 45, 40, 46, 30, 31, 49, 41, 35, 27, 23, 21, 34, 22, 48, 43, 32, 20, 24, 40, 30, 21, 25, 34, 48, 55, 25, 38, 39, 28, 24, 21, 46, 25, 34, 25, 23, 20, 23, 42, 27, 33, 28, 43, 48, 48, 45, 43, 44, 24, 31, 44, 59, 55, 29, 39, 20, 25, 42, 36, 37, 30, 21, 34, 42, 20, 40, 34, 31, 36, 48, 33, 37, 27, 39, 36, 36, 41, 37, 47, 15, 44, 35, 41, 49, 31, 20, 45, 33, 47, 20, 47, 40, 30, 22, 27, 34, 46, 31, 24, 41, 55, 30, 33, 43, 27, 60, 27, 49, 31, 20, 24, 33, 32, 40, 27, 40, 26, 44, 33, 34, 48, 25, 39, 45, 24, 46, 44, 13, 35, 30, 34, 27, 30, 50, 34, 23, 48, 34, 48, 24, 47, 24, 47, 20, 20, 31, 38, 26, 25, 48, 44, 21, 46, 46, 55, 31, 20, 29, 33, 34, 32, 27, 21, 27, 36, 43, 25, 46, 24, 39, 31, 22, 47, 20, 29, 38, 34, 46, 35, 34, 38, 18, 37, 43, 27, 30, 22, 49, 46, 48, 46, 48, 27, 43, 48, 41, 22, 46, 21, 31, 26, 20, 34, 43, 26, 50, 35, 50, 23, 37, 29, 21, 36, 22, 22, 46, 23, 49, 48, 33, 22, 22, 25, 20, 42, 25, 23, 37, 37, 42, 51, 40, 43, 47, 23, 35, 34, 25, 45, 47, 49, 40, 29, 39, 24, 25, 36, 50, 45, 26, 21, 42, 32, 31, 33, 45, 76, 70, 50, 28, 50, 28, 44, 27, 30, 43, 29, 48, 33, 40, 48, 41, 21, 32, 43, 30, 35, 45, 34, 26, 39, 41, 41, 64, 18, 49, 48, 46, 26, 37, 35, 23, 22, 39, 44, 27, 46, 33, 33, 24, 31, 41, 22, 46, 43, 15, 15, 26, 44, 20, 40, 23, 24, 29, 49, 34, 28, 37, 45, 46, 22, 39, 27, 36, 38, 44, 31, 23, 22, 28, 21, 37, 31, 25, 26, 34, 29, 20, 42, 22, 47, 20, 33, 39, 33, 40, 46, 48, 21, 45, 33, 44, 33, 39, 39, 41, 40, 33, 28, 26, 29, 46, 33, 48, 40, 23, 40, 37, 24, 27, 21, 23, 44, 35, 43, 40, 35, 25, 43, 50, 45, 52, 48, 31, 29, 23, 31, 23, 24, 28, 44, 22, 46, 22, 38, 47, 48, 40, 32, 49, 43, 41, 30, 28, 43, 41, 30, 31, 32, 43, 26, 27, 24, 22, 46, 37, 49, 21, 25, 37, 45, 32, 29, 26, 28, 27, 20, 44, 42, 41, 26, 26, 26, 41, 20, 22, 23, 33, 28, 44, 46, 21, 41, 31, 31, 23, 37, 26, 24, 47, 45, 55, 46, 50, 37, 44, 49, 45, 27, 31, 33, 31, 35, 26, 34, 46, 41, 43, 26, 36, 20, 27, 37, 24, 36, 29, 28, 29, 38, 48, 40, 41, 30, 35, 28, 45, 24, 41, 48, 50, 33, 32, 27, 35, 23, 35, 40, 35, 31, 50, 40, 38, 38, 40, 33, 36, 20, 32, 36, 19, 11, 49, 27, 29, 42, 33, 44, 22, 48, 33, 45, 20, 46, 40, 45, 36, 31, 46, 35, 28, 31, 27, 22, 30, 44, 30, 24, 45, 23, 26, 28, 49, 49, 29, 49, 39, 36, 39, 30, 44, 20, 21, 36, 32, 36, 34, 48, 33, 31, 36, 25, 48, 27, 44, 33, 29, 49, 20, 31, 39, 20, 34, 50, 40, 28, 50, 28, 46, 24, 24, 39, 40, 49, 44, 35, 22, 62, 26, 31, 25, 30, 27, 23, 34, 22, 42, 37, 30, 27, 25, 34, 38, 26, 38, 50, 22, 32, 31, 40, 22, 41, 45, 45, 39, 49, 27, 34, 20, 48, 29, 43, 41, 41, 36, 49, 38, 33, 26, 47, 34, 34, 40, 40, 33, 49, 27, 49, 56, 37, 33, 27, 46, 44, 26, 48, 23, 45, 49, 28, 37, 34, 22, 29, 34, 38, 41, 42, 28, 38, 23, 31, 46, 48, 29, 46, 26, 18, 32, 21, 46, 42, 31, 38, 38, 20, 46, 30, 30, 43, 49, 43, 37, 35, 34, 38, 44, 21, 44, 25, 24, 38, 45, 51, 34, 44, 44, 38, 31, 48, 21, 40, 40, 50, 20, 48, 47, 21, 39, 44, 28, 45, 20, 38, 26, 44, 49, 22, 31, 41, 25, 31, 41, 43, 43, 24, 21, 23, 38, 31, 36, 36, 34, 21, 45, 26, 50, 41, 39, 22, 46, 44, 25, 39, 37, 31, 47, 24, 36, 48, 28, 48, 21, 25, 25, 31, 40, 32, 24, 42, 21, 34, 27, 30, 39, 20, 37, 46, 47, 11, 23, 29, 38, 32, 43, 31, 29, 31, 30, 50, 40, 23, 26, 40, 21, 43, 29, 38, 23, 20, 36, 28, 44, 49, 32, 34, 30, 29, 22, 26, 32, 29, 34, 24, 24, 33, 26, 40, 44, 24, 20, 34, 34, 45, 41, 55, 23, 24, 32, 29, 36, 46, 32, 34, 24, 40, 26, 20, 31, 22, 42, 26, 37, 38, 35, 33, 39, 45, 24, 35, 23, 37, 55, 49, 26, 33, 37, 22, 85, 22, 31, 38, 45, 31, 36, 46, 32, 39, 50, 46, 36, 29, 32, 44, 42, 47, 44, 43, 48, 21, 50, 29, 41, 37, 22, 31, 42, 42, 45, 36, 20, 39, 42, 23, 26, 33, 31, 50, 44, 45, 46, 27, 28, 40, 30, 34, 46, 32, 27, 34, 34, 34, 46, 32, 24, 27, 20, 36, 29, 25, 29, 25, 44, 47, 48, 45, 35, 31, 50, 33, 29, 48, 44, 25, 50, 23, 21, 41, 44, 43, 28, 43, 48, 38, 31, 26, 32, 44, 27, 43, 25, 22, 21, 48, 33, 34, 43, 44, 44, 32, 29, 77, 39, 39, 36, 42, 21, 50, 24, 44, 37, 27, 37, 38, 48, 30, 25, 40, 22, 34, 32, 31, 43, 31, 31, 34, 45, 48, 28, 22, 45, 30, 38, 20, 28, 24, 22, 35, 33, 31, 35, 35, 50, 26, 38, 45, 30, 37, 37, 36, 25, 37, 30, 36, 27, 48, 26, 26, 34, 44, 39, 45, 40, 42, 43, 34, 38, 35, 31, 32, 47, 39, 44, 39, 50, 22, 35, 45, 44, 36, 28, 43, 48, 28, 21, 37, 34, 40, 45, 28, 29, 48, 31, 32, 21, 32, 43, 21, 34, 34, 44, 27, 49, 23, 25, 50, 34, 20, 42, 25, 50, 32, 39, 50, 38, 40, 28, 42, 42, 36, 24, 23, 29, 37, 33, 32, 35, 40, 37, 42, 20, 29, 43, 34, 47]}],\n",
              "                        {\"legend\": {\"tracegroupgap\": 0}, \"template\": {\"data\": {\"bar\": [{\"error_x\": {\"color\": \"#2a3f5f\"}, \"error_y\": {\"color\": \"#2a3f5f\"}, \"marker\": {\"line\": {\"color\": \"#E5ECF6\", \"width\": 0.5}}, \"type\": \"bar\"}], \"barpolar\": [{\"marker\": {\"line\": {\"color\": \"#E5ECF6\", \"width\": 0.5}}, \"type\": \"barpolar\"}], \"carpet\": [{\"aaxis\": {\"endlinecolor\": \"#2a3f5f\", \"gridcolor\": \"white\", \"linecolor\": \"white\", \"minorgridcolor\": \"white\", \"startlinecolor\": \"#2a3f5f\"}, \"baxis\": {\"endlinecolor\": \"#2a3f5f\", \"gridcolor\": \"white\", \"linecolor\": \"white\", \"minorgridcolor\": \"white\", \"startlinecolor\": \"#2a3f5f\"}, \"type\": \"carpet\"}], \"choropleth\": [{\"colorbar\": {\"outlinewidth\": 0, \"ticks\": \"\"}, \"type\": \"choropleth\"}], \"contour\": [{\"colorbar\": {\"outlinewidth\": 0, \"ticks\": \"\"}, \"colorscale\": [[0.0, \"#0d0887\"], [0.1111111111111111, \"#46039f\"], [0.2222222222222222, \"#7201a8\"], [0.3333333333333333, \"#9c179e\"], [0.4444444444444444, \"#bd3786\"], [0.5555555555555556, \"#d8576b\"], [0.6666666666666666, \"#ed7953\"], [0.7777777777777778, \"#fb9f3a\"], [0.8888888888888888, \"#fdca26\"], [1.0, \"#f0f921\"]], \"type\": \"contour\"}], \"contourcarpet\": [{\"colorbar\": {\"outlinewidth\": 0, \"ticks\": \"\"}, \"type\": \"contourcarpet\"}], \"heatmap\": [{\"colorbar\": {\"outlinewidth\": 0, \"ticks\": \"\"}, \"colorscale\": [[0.0, \"#0d0887\"], [0.1111111111111111, \"#46039f\"], [0.2222222222222222, \"#7201a8\"], [0.3333333333333333, \"#9c179e\"], [0.4444444444444444, \"#bd3786\"], [0.5555555555555556, \"#d8576b\"], [0.6666666666666666, \"#ed7953\"], [0.7777777777777778, \"#fb9f3a\"], [0.8888888888888888, \"#fdca26\"], [1.0, \"#f0f921\"]], \"type\": \"heatmap\"}], \"heatmapgl\": [{\"colorbar\": {\"outlinewidth\": 0, \"ticks\": \"\"}, \"colorscale\": [[0.0, \"#0d0887\"], [0.1111111111111111, \"#46039f\"], [0.2222222222222222, \"#7201a8\"], [0.3333333333333333, \"#9c179e\"], [0.4444444444444444, \"#bd3786\"], [0.5555555555555556, \"#d8576b\"], [0.6666666666666666, \"#ed7953\"], [0.7777777777777778, \"#fb9f3a\"], [0.8888888888888888, \"#fdca26\"], [1.0, \"#f0f921\"]], \"type\": \"heatmapgl\"}], \"histogram\": [{\"marker\": {\"colorbar\": {\"outlinewidth\": 0, \"ticks\": \"\"}}, \"type\": \"histogram\"}], \"histogram2d\": [{\"colorbar\": {\"outlinewidth\": 0, \"ticks\": \"\"}, \"colorscale\": [[0.0, \"#0d0887\"], [0.1111111111111111, \"#46039f\"], [0.2222222222222222, \"#7201a8\"], [0.3333333333333333, \"#9c179e\"], [0.4444444444444444, \"#bd3786\"], [0.5555555555555556, \"#d8576b\"], [0.6666666666666666, \"#ed7953\"], [0.7777777777777778, \"#fb9f3a\"], [0.8888888888888888, \"#fdca26\"], [1.0, \"#f0f921\"]], \"type\": \"histogram2d\"}], \"histogram2dcontour\": [{\"colorbar\": {\"outlinewidth\": 0, \"ticks\": \"\"}, \"colorscale\": [[0.0, \"#0d0887\"], [0.1111111111111111, \"#46039f\"], [0.2222222222222222, \"#7201a8\"], [0.3333333333333333, \"#9c179e\"], [0.4444444444444444, \"#bd3786\"], [0.5555555555555556, \"#d8576b\"], [0.6666666666666666, \"#ed7953\"], [0.7777777777777778, \"#fb9f3a\"], [0.8888888888888888, \"#fdca26\"], [1.0, \"#f0f921\"]], \"type\": \"histogram2dcontour\"}], \"mesh3d\": [{\"colorbar\": {\"outlinewidth\": 0, \"ticks\": \"\"}, \"type\": \"mesh3d\"}], \"parcoords\": [{\"line\": {\"colorbar\": {\"outlinewidth\": 0, \"ticks\": \"\"}}, \"type\": \"parcoords\"}], \"pie\": [{\"automargin\": true, \"type\": \"pie\"}], \"scatter\": [{\"marker\": {\"colorbar\": {\"outlinewidth\": 0, \"ticks\": \"\"}}, \"type\": \"scatter\"}], \"scatter3d\": [{\"line\": {\"colorbar\": {\"outlinewidth\": 0, \"ticks\": \"\"}}, \"marker\": {\"colorbar\": {\"outlinewidth\": 0, \"ticks\": \"\"}}, \"type\": \"scatter3d\"}], \"scattercarpet\": [{\"marker\": {\"colorbar\": {\"outlinewidth\": 0, \"ticks\": \"\"}}, \"type\": \"scattercarpet\"}], \"scattergeo\": [{\"marker\": {\"colorbar\": {\"outlinewidth\": 0, \"ticks\": \"\"}}, \"type\": \"scattergeo\"}], \"scattergl\": [{\"marker\": {\"colorbar\": {\"outlinewidth\": 0, \"ticks\": \"\"}}, \"type\": \"scattergl\"}], \"scattermapbox\": [{\"marker\": {\"colorbar\": {\"outlinewidth\": 0, \"ticks\": \"\"}}, \"type\": \"scattermapbox\"}], \"scatterpolar\": [{\"marker\": {\"colorbar\": {\"outlinewidth\": 0, \"ticks\": \"\"}}, \"type\": \"scatterpolar\"}], \"scatterpolargl\": [{\"marker\": {\"colorbar\": {\"outlinewidth\": 0, \"ticks\": \"\"}}, \"type\": \"scatterpolargl\"}], \"scatterternary\": [{\"marker\": {\"colorbar\": {\"outlinewidth\": 0, \"ticks\": \"\"}}, \"type\": \"scatterternary\"}], \"surface\": [{\"colorbar\": {\"outlinewidth\": 0, \"ticks\": \"\"}, \"colorscale\": [[0.0, \"#0d0887\"], [0.1111111111111111, \"#46039f\"], [0.2222222222222222, \"#7201a8\"], [0.3333333333333333, \"#9c179e\"], [0.4444444444444444, \"#bd3786\"], [0.5555555555555556, \"#d8576b\"], [0.6666666666666666, \"#ed7953\"], [0.7777777777777778, \"#fb9f3a\"], [0.8888888888888888, \"#fdca26\"], [1.0, \"#f0f921\"]], \"type\": \"surface\"}], \"table\": [{\"cells\": {\"fill\": {\"color\": \"#EBF0F8\"}, \"line\": {\"color\": \"white\"}}, \"header\": {\"fill\": {\"color\": \"#C8D4E3\"}, \"line\": {\"color\": \"white\"}}, \"type\": \"table\"}]}, \"layout\": {\"annotationdefaults\": {\"arrowcolor\": \"#2a3f5f\", \"arrowhead\": 0, \"arrowwidth\": 1}, \"coloraxis\": {\"colorbar\": {\"outlinewidth\": 0, \"ticks\": \"\"}}, \"colorscale\": {\"diverging\": [[0, \"#8e0152\"], [0.1, \"#c51b7d\"], [0.2, \"#de77ae\"], [0.3, \"#f1b6da\"], [0.4, \"#fde0ef\"], [0.5, \"#f7f7f7\"], [0.6, \"#e6f5d0\"], [0.7, \"#b8e186\"], [0.8, \"#7fbc41\"], [0.9, \"#4d9221\"], [1, \"#276419\"]], \"sequential\": [[0.0, \"#0d0887\"], [0.1111111111111111, \"#46039f\"], [0.2222222222222222, \"#7201a8\"], [0.3333333333333333, \"#9c179e\"], [0.4444444444444444, \"#bd3786\"], [0.5555555555555556, \"#d8576b\"], [0.6666666666666666, \"#ed7953\"], [0.7777777777777778, \"#fb9f3a\"], [0.8888888888888888, \"#fdca26\"], [1.0, \"#f0f921\"]], \"sequentialminus\": [[0.0, \"#0d0887\"], [0.1111111111111111, \"#46039f\"], [0.2222222222222222, \"#7201a8\"], [0.3333333333333333, \"#9c179e\"], [0.4444444444444444, \"#bd3786\"], [0.5555555555555556, \"#d8576b\"], [0.6666666666666666, \"#ed7953\"], [0.7777777777777778, \"#fb9f3a\"], [0.8888888888888888, \"#fdca26\"], [1.0, \"#f0f921\"]]}, \"colorway\": [\"#636efa\", \"#EF553B\", \"#00cc96\", \"#ab63fa\", \"#FFA15A\", \"#19d3f3\", \"#FF6692\", \"#B6E880\", \"#FF97FF\", \"#FECB52\"], \"font\": {\"color\": \"#2a3f5f\"}, \"geo\": {\"bgcolor\": \"white\", \"lakecolor\": \"white\", \"landcolor\": \"#E5ECF6\", \"showlakes\": true, \"showland\": true, \"subunitcolor\": \"white\"}, \"hoverlabel\": {\"align\": \"left\"}, \"hovermode\": \"closest\", \"mapbox\": {\"style\": \"light\"}, \"paper_bgcolor\": \"white\", \"plot_bgcolor\": \"#E5ECF6\", \"polar\": {\"angularaxis\": {\"gridcolor\": \"white\", \"linecolor\": \"white\", \"ticks\": \"\"}, \"bgcolor\": \"#E5ECF6\", \"radialaxis\": {\"gridcolor\": \"white\", \"linecolor\": \"white\", \"ticks\": \"\"}}, \"scene\": {\"xaxis\": {\"backgroundcolor\": \"#E5ECF6\", \"gridcolor\": \"white\", \"gridwidth\": 2, \"linecolor\": \"white\", \"showbackground\": true, \"ticks\": \"\", \"zerolinecolor\": \"white\"}, \"yaxis\": {\"backgroundcolor\": \"#E5ECF6\", \"gridcolor\": \"white\", \"gridwidth\": 2, \"linecolor\": \"white\", \"showbackground\": true, \"ticks\": \"\", \"zerolinecolor\": \"white\"}, \"zaxis\": {\"backgroundcolor\": \"#E5ECF6\", \"gridcolor\": \"white\", \"gridwidth\": 2, \"linecolor\": \"white\", \"showbackground\": true, \"ticks\": \"\", \"zerolinecolor\": \"white\"}}, \"shapedefaults\": {\"line\": {\"color\": \"#2a3f5f\"}}, \"ternary\": {\"aaxis\": {\"gridcolor\": \"white\", \"linecolor\": \"white\", \"ticks\": \"\"}, \"baxis\": {\"gridcolor\": \"white\", \"linecolor\": \"white\", \"ticks\": \"\"}, \"bgcolor\": \"#E5ECF6\", \"caxis\": {\"gridcolor\": \"white\", \"linecolor\": \"white\", \"ticks\": \"\"}}, \"title\": {\"x\": 0.05}, \"xaxis\": {\"automargin\": true, \"gridcolor\": \"white\", \"linecolor\": \"white\", \"ticks\": \"\", \"title\": {\"standoff\": 15}, \"zerolinecolor\": \"white\", \"zerolinewidth\": 2}, \"yaxis\": {\"automargin\": true, \"gridcolor\": \"white\", \"linecolor\": \"white\", \"ticks\": \"\", \"title\": {\"standoff\": 15}, \"zerolinecolor\": \"white\", \"zerolinewidth\": 2}}}, \"title\": {\"text\": \"NUMBER OF PRODUCT SOLD\"}},\n",
              "                        {\"responsive\": true}\n",
              "                    ).then(function(){\n",
              "                            \n",
              "var gd = document.getElementById('0d54443c-2302-4472-a9e0-170b788eed03');\n",
              "var x = new MutationObserver(function (mutations, observer) {{\n",
              "        var display = window.getComputedStyle(gd).display;\n",
              "        if (!display || display === 'none') {{\n",
              "            console.log([gd, 'removed!']);\n",
              "            Plotly.purge(gd);\n",
              "            observer.disconnect();\n",
              "        }}\n",
              "}});\n",
              "\n",
              "// Listen for the removal of the full notebook cells\n",
              "var notebookContainer = gd.closest('#notebook-container');\n",
              "if (notebookContainer) {{\n",
              "    x.observe(notebookContainer, {childList: true});\n",
              "}}\n",
              "\n",
              "// Listen for the clearing of the current output cell\n",
              "var outputEl = gd.closest('.output');\n",
              "if (outputEl) {{\n",
              "    x.observe(outputEl, {childList: true});\n",
              "}}\n",
              "\n",
              "                        })\n",
              "                };\n",
              "                \n",
              "            </script>\n",
              "        </div>\n",
              "</body>\n",
              "</html>"
            ]
          },
          "metadata": {}
        }
      ]
    },
    {
      "cell_type": "markdown",
      "metadata": {
        "id": "rW50zOIDyJ8O"
      },
      "source": [
        "### Checking Outliers"
      ]
    },
    {
      "cell_type": "code",
      "metadata": {
        "colab": {
          "base_uri": "https://localhost:8080/",
          "height": 351
        },
        "id": "CTCmi70eDsef",
        "outputId": "c7eecf02-c49b-4ad4-c915-f534753d7ba2"
      },
      "source": [
        "plt.figure(figsize=(15,5))\n",
        "sns.boxplot(data=df, x='PRODUCTLINE', y='PRICEEACH')"
      ],
      "execution_count": null,
      "outputs": [
        {
          "output_type": "execute_result",
          "data": {
            "text/plain": [
              "<matplotlib.axes._subplots.AxesSubplot at 0x7f4ffe106e90>"
            ]
          },
          "metadata": {},
          "execution_count": 16
        },
        {
          "output_type": "display_data",
          "data": {
            "image/png": "[encoded data removed]",
            "text/plain": [
              "<Figure size 1080x360 with 1 Axes>"
            ]
          },
          "metadata": {
            "needs_background": "light"
          }
        }
      ]
    },
    {
      "cell_type": "markdown",
      "metadata": {
        "id": "g6DR2uXvyplv"
      },
      "source": [
        "since there are many outliers, we used median to see each price of products"
      ]
    },
    {
      "cell_type": "code",
      "metadata": {
        "colab": {
          "base_uri": "https://localhost:8080/",
          "height": 300
        },
        "id": "4qA5jHxQDN0h",
        "outputId": "77bdde9d-7d81-4c38-b88f-645e4b0a1a0e"
      },
      "source": [
        "eachprice = df.groupby(['PRODUCTLINE'])[['PRICEEACH']].median().sort_values('PRODUCTLINE')\n",
        "eachprice"
      ],
      "execution_count": null,
      "outputs": [
        {
          "output_type": "execute_result",
          "data": {
            "text/html": [
              "<div>\n",
              "<style scoped>\n",
              "    .dataframe tbody tr th:only-of-type {\n",
              "        vertical-align: middle;\n",
              "    }\n",
              "\n",
              "    .dataframe tbody tr th {\n",
              "        vertical-align: top;\n",
              "    }\n",
              "\n",
              "    .dataframe thead th {\n",
              "        text-align: right;\n",
              "    }\n",
              "</style>\n",
              "<table border=\"1\" class=\"dataframe\">\n",
              "  <thead>\n",
              "    <tr style=\"text-align: right;\">\n",
              "      <th></th>\n",
              "      <th>PRICEEACH</th>\n",
              "    </tr>\n",
              "    <tr>\n",
              "      <th>PRODUCTLINE</th>\n",
              "      <th></th>\n",
              "    </tr>\n",
              "  </thead>\n",
              "  <tbody>\n",
              "    <tr>\n",
              "      <th>Classic Cars</th>\n",
              "      <td>100.00</td>\n",
              "    </tr>\n",
              "    <tr>\n",
              "      <th>Motorcycles</th>\n",
              "      <td>93.90</td>\n",
              "    </tr>\n",
              "    <tr>\n",
              "      <th>Planes</th>\n",
              "      <td>83.22</td>\n",
              "    </tr>\n",
              "    <tr>\n",
              "      <th>Ships</th>\n",
              "      <td>87.61</td>\n",
              "    </tr>\n",
              "    <tr>\n",
              "      <th>Trains</th>\n",
              "      <td>67.73</td>\n",
              "    </tr>\n",
              "    <tr>\n",
              "      <th>Trucks and Buses</th>\n",
              "      <td>100.00</td>\n",
              "    </tr>\n",
              "    <tr>\n",
              "      <th>Vintage Cars</th>\n",
              "      <td>86.01</td>\n",
              "    </tr>\n",
              "  </tbody>\n",
              "</table>\n",
              "</div>"
            ],
            "text/plain": [
              "                  PRICEEACH\n",
              "PRODUCTLINE                \n",
              "Classic Cars         100.00\n",
              "Motorcycles           93.90\n",
              "Planes                83.22\n",
              "Ships                 87.61\n",
              "Trains                67.73\n",
              "Trucks and Buses     100.00\n",
              "Vintage Cars          86.01"
            ]
          },
          "metadata": {},
          "execution_count": 17
        }
      ]
    },
    {
      "cell_type": "markdown",
      "metadata": {
        "id": "KwZLSsgBzDFy"
      },
      "source": [
        "### Number of product sold base on the DealSize"
      ]
    },
    {
      "cell_type": "code",
      "metadata": {
        "colab": {
          "base_uri": "https://localhost:8080/",
          "height": 175
        },
        "id": "2Hdiio_gEIrS",
        "outputId": "93464443-cc5f-4288-f98d-27178e7b92d5"
      },
      "source": [
        "df.groupby(['DEALSIZE'])[['QUANTITYORDERED']].sum('QUANTITYORDERED')"
      ],
      "execution_count": null,
      "outputs": [
        {
          "output_type": "execute_result",
          "data": {
            "text/html": [
              "<div>\n",
              "<style scoped>\n",
              "    .dataframe tbody tr th:only-of-type {\n",
              "        vertical-align: middle;\n",
              "    }\n",
              "\n",
              "    .dataframe tbody tr th {\n",
              "        vertical-align: top;\n",
              "    }\n",
              "\n",
              "    .dataframe thead th {\n",
              "        text-align: right;\n",
              "    }\n",
              "</style>\n",
              "<table border=\"1\" class=\"dataframe\">\n",
              "  <thead>\n",
              "    <tr style=\"text-align: right;\">\n",
              "      <th></th>\n",
              "      <th>QUANTITYORDERED</th>\n",
              "    </tr>\n",
              "    <tr>\n",
              "      <th>DEALSIZE</th>\n",
              "      <th></th>\n",
              "    </tr>\n",
              "  </thead>\n",
              "  <tbody>\n",
              "    <tr>\n",
              "      <th>Large</th>\n",
              "      <td>7414</td>\n",
              "    </tr>\n",
              "    <tr>\n",
              "      <th>Medium</th>\n",
              "      <td>52519</td>\n",
              "    </tr>\n",
              "    <tr>\n",
              "      <th>Small</th>\n",
              "      <td>39134</td>\n",
              "    </tr>\n",
              "  </tbody>\n",
              "</table>\n",
              "</div>"
            ],
            "text/plain": [
              "          QUANTITYORDERED\n",
              "DEALSIZE                 \n",
              "Large                7414\n",
              "Medium              52519\n",
              "Small               39134"
            ]
          },
          "metadata": {},
          "execution_count": 18
        }
      ]
    },
    {
      "cell_type": "code",
      "metadata": {
        "colab": {
          "base_uri": "https://localhost:8080/",
          "height": 542
        },
        "id": "oAj4b1JhKZGA",
        "outputId": "7ac2471e-9758-4a79-cb55-6b5e85741a0e"
      },
      "source": [
        "fig = px.pie(df,'DEALSIZE','QUANTITYORDERED', title=\"NUMBER OF PRODUCT SOLD BASED ON DEALSIZE\")\n",
        "fig.update_traces(textposition='inside', textinfo='percent+label')"
      ],
      "execution_count": null,
      "outputs": [
        {
          "output_type": "display_data",
          "data": {
            "text/html": [
              "<html>\n",
              "<head><meta charset=\"utf-8\" /></head>\n",
              "<body>\n",
              "    <div>\n",
              "            <script src=\"https://cdnjs.cloudflare.com/ajax/libs/mathjax/2.7.5/MathJax.js?config=TeX-AMS-MML_SVG\"></script><script type=\"text/javascript\">if (window.MathJax) {MathJax.Hub.Config({SVG: {font: \"STIX-Web\"}});}</script>\n",
              "                <script type=\"text/javascript\">window.PlotlyConfig = {MathJaxConfig: 'local'};</script>\n",
              "        <script src=\"https://cdn.plot.ly/plotly-latest.min.js\"></script>    \n",
              "            <div id=\"26f1c5ad-9b71-4063-88e7-572060714bb4\" class=\"plotly-graph-div\" style=\"height:525px; width:100%;\"></div>\n",
              "            <script type=\"text/javascript\">\n",
              "                \n",
              "                    window.PLOTLYENV=window.PLOTLYENV || {};\n",
              "                    \n",
              "                if (document.getElementById(\"26f1c5ad-9b71-4063-88e7-572060714bb4\")) {\n",
              "                    Plotly.newPlot(\n",
              "                        '26f1c5ad-9b71-4063-88e7-572060714bb4',\n",
              "                        [{\"domain\": {\"x\": [0.0, 1.0], \"y\": [0.0, 1.0]}, \"hoverlabel\": {\"namelength\": 0}, \"hovertemplate\": \"DEALSIZE=%{label}<br>QUANTITYORDERED=%{value}\", \"labels\": [\"Small\", \"Small\", \"Medium\", \"Medium\", \"Medium\", \"Medium\", \"Small\", \"Medium\", \"Small\", \"Medium\", \"Medium\", \"Small\", \"Medium\", \"Medium\", \"Medium\", \"Medium\", \"Small\", \"Medium\", \"Medium\", \"Medium\", \"Large\", \"Small\", \"Small\", \"Medium\", \"Small\", \"Large\", \"Medium\", \"Large\", \"Large\", \"Large\", \"Large\", \"Medium\", \"Large\", \"Medium\", \"Large\", \"Large\", \"Medium\", \"Medium\", \"Medium\", \"Large\", \"Medium\", \"Large\", \"Large\", \"Large\", \"Large\", \"Medium\", \"Medium\", \"Medium\", \"Medium\", \"Medium\", \"Large\", \"Small\", \"Medium\", \"Large\", \"Medium\", \"Small\", \"Medium\", \"Medium\", \"Medium\", \"Medium\", \"Medium\", \"Medium\", \"Medium\", \"Medium\", \"Medium\", \"Small\", \"Medium\", \"Medium\", \"Small\", \"Medium\", \"Medium\", \"Medium\", \"Medium\", \"Medium\", \"Small\", \"Small\", \"Medium\", \"Small\", \"Medium\", \"Medium\", \"Medium\", \"Large\", \"Large\", \"Medium\", \"Medium\", \"Medium\", \"Large\", \"Large\", \"Large\", \"Medium\", \"Large\", \"Large\", \"Large\", \"Large\", \"Medium\", \"Medium\", \"Medium\", \"Medium\", \"Large\", \"Medium\", \"Small\", \"Medium\", \"Medium\", \"Small\", \"Large\", \"Large\", \"Large\", \"Medium\", \"Medium\", \"Medium\", \"Medium\", \"Medium\", \"Medium\", \"Medium\", \"Medium\", \"Medium\", \"Medium\", \"Small\", \"Medium\", \"Medium\", \"Small\", \"Medium\", \"Small\", \"Medium\", \"Medium\", \"Small\", \"Small\", \"Small\", \"Medium\", \"Medium\", \"Medium\", \"Large\", \"Small\", \"Medium\", \"Medium\", \"Medium\", \"Medium\", \"Medium\", \"Medium\", \"Medium\", \"Medium\", \"Medium\", \"Medium\", \"Large\", \"Medium\", \"Medium\", \"Medium\", \"Medium\", \"Large\", \"Medium\", \"Medium\", \"Medium\", \"Small\", \"Medium\", \"Medium\", \"Medium\", \"Small\", \"Medium\", \"Small\", \"Medium\", \"Medium\", \"Medium\", \"Large\", \"Large\", \"Large\", \"Large\", \"Medium\", \"Medium\", \"Medium\", \"Medium\", \"Large\", \"Medium\", \"Medium\", \"Medium\", \"Large\", \"Large\", \"Medium\", \"Medium\", \"Medium\", \"Medium\", \"Small\", \"Medium\", \"Small\", \"Medium\", \"Small\", \"Small\", \"Large\", \"Medium\", \"Large\", \"Large\", \"Medium\", \"Large\", \"Large\", \"Medium\", \"Large\", \"Large\", \"Large\", \"Large\", \"Large\", \"Medium\", \"Large\", \"Large\", \"Medium\", \"Large\", \"Small\", \"Small\", \"Small\", \"Medium\", \"Medium\", \"Medium\", \"Small\", \"Large\", \"Medium\", \"Medium\", \"Small\", \"Medium\", \"Medium\", \"Medium\", \"Medium\", \"Medium\", \"Medium\", \"Medium\", \"Medium\", \"Medium\", \"Medium\", \"Medium\", \"Medium\", \"Small\", \"Medium\", \"Medium\", \"Small\", \"Medium\", \"Medium\", \"Medium\", \"Medium\", \"Large\", \"Small\", \"Small\", \"Medium\", \"Large\", \"Medium\", \"Large\", \"Small\", \"Large\", \"Medium\", \"Medium\", \"Medium\", \"Medium\", \"Medium\", \"Medium\", \"Medium\", \"Medium\", \"Large\", \"Medium\", \"Medium\", \"Medium\", \"Medium\", \"Medium\", \"Medium\", \"Medium\", \"Large\", \"Medium\", \"Medium\", \"Medium\", \"Large\", \"Medium\", \"Medium\", \"Medium\", \"Large\", \"Medium\", \"Medium\", \"Medium\", \"Large\", \"Medium\", \"Medium\", \"Medium\", \"Medium\", \"Large\", \"Medium\", \"Medium\", \"Medium\", \"Medium\", \"Medium\", \"Medium\", \"Small\", \"Medium\", \"Medium\", \"Small\", \"Medium\", \"Medium\", \"Large\", \"Medium\", \"Medium\", \"Medium\", \"Medium\", \"Medium\", \"Medium\", \"Small\", \"Medium\", \"Small\", \"Medium\", \"Small\", \"Medium\", \"Small\", \"Small\", \"Medium\", \"Medium\", \"Medium\", \"Medium\", \"Medium\", \"Medium\", \"Medium\", \"Medium\", \"Medium\", \"Small\", \"Small\", \"Medium\", \"Medium\", \"Large\", \"Large\", \"Large\", \"Medium\", \"Large\", \"Large\", \"Large\", \"Medium\", \"Medium\", \"Medium\", \"Medium\", \"Large\", \"Medium\", \"Large\", \"Medium\", \"Medium\", \"Small\", \"Medium\", \"Medium\", \"Medium\", \"Medium\", \"Medium\", \"Medium\", \"Medium\", \"Medium\", \"Small\", \"Small\", \"Small\", \"Small\", \"Small\", \"Small\", \"Small\", \"Medium\", \"Small\", \"Small\", \"Small\", \"Small\", \"Small\", \"Medium\", \"Small\", \"Small\", \"Medium\", \"Small\", \"Medium\", \"Medium\", \"Small\", \"Small\", \"Small\", \"Medium\", \"Medium\", \"Medium\", \"Small\", \"Small\", \"Medium\", \"Medium\", \"Medium\", \"Medium\", \"Medium\", \"Medium\", \"Medium\", \"Medium\", \"Medium\", \"Medium\", \"Medium\", \"Medium\", \"Small\", \"Medium\", \"Medium\", \"Small\", \"Medium\", \"Medium\", \"Small\", \"Small\", \"Small\", \"Medium\", \"Medium\", \"Medium\", \"Small\", \"Small\", \"Medium\", \"Medium\", \"Medium\", \"Medium\", \"Medium\", \"Medium\", \"Medium\", \"Small\", \"Small\", \"Medium\", \"Medium\", \"Medium\", \"Small\", \"Small\", \"Small\", \"Small\", \"Small\", \"Medium\", \"Medium\", \"Medium\", \"Medium\", \"Large\", \"Medium\", \"Medium\", \"Medium\", \"Medium\", \"Medium\", \"Medium\", \"Medium\", \"Medium\", \"Small\", \"Small\", \"Medium\", \"Medium\", \"Medium\", \"Medium\", \"Medium\", \"Medium\", \"Small\", \"Medium\", \"Medium\", \"Medium\", \"Small\", \"Small\", \"Small\", \"Medium\", \"Medium\", \"Medium\", \"Small\", \"Medium\", \"Large\", \"Medium\", \"Medium\", \"Medium\", \"Small\", \"Medium\", \"Medium\", \"Medium\", \"Medium\", \"Medium\", \"Medium\", \"Medium\", \"Medium\", \"Medium\", \"Small\", \"Medium\", \"Medium\", \"Medium\", \"Medium\", \"Medium\", \"Medium\", \"Medium\", \"Medium\", \"Small\", \"Medium\", \"Medium\", \"Large\", \"Medium\", \"Medium\", \"Medium\", \"Medium\", \"Medium\", \"Medium\", \"Medium\", \"Medium\", \"Small\", \"Medium\", \"Medium\", \"Small\", \"Small\", \"Medium\", \"Medium\", \"Medium\", \"Medium\", \"Medium\", \"Medium\", \"Medium\", \"Medium\", \"Small\", \"Small\", \"Large\", \"Small\", \"Medium\", \"Medium\", \"Small\", \"Small\", \"Small\", \"Small\", \"Small\", \"Small\", \"Small\", \"Small\", \"Small\", \"Medium\", \"Small\", \"Small\", \"Small\", \"Small\", \"Small\", \"Small\", \"Small\", \"Small\", \"Small\", \"Small\", \"Small\", \"Small\", \"Medium\", \"Small\", \"Medium\", \"Small\", \"Medium\", \"Medium\", \"Medium\", \"Medium\", \"Medium\", \"Medium\", \"Medium\", \"Medium\", \"Medium\", \"Medium\", \"Medium\", \"Small\", \"Medium\", \"Medium\", \"Small\", \"Small\", \"Medium\", \"Small\", \"Medium\", \"Medium\", \"Medium\", \"Small\", \"Small\", \"Large\", \"Medium\", \"Medium\", \"Medium\", \"Small\", \"Medium\", \"Medium\", \"Medium\", \"Medium\", \"Medium\", \"Large\", \"Medium\", \"Medium\", \"Large\", \"Medium\", \"Medium\", \"Medium\", \"Medium\", \"Large\", \"Medium\", \"Small\", \"Medium\", \"Medium\", \"Small\", \"Small\", \"Medium\", \"Medium\", \"Medium\", \"Medium\", \"Medium\", \"Small\", \"Medium\", \"Medium\", \"Medium\", \"Large\", \"Medium\", \"Medium\", \"Medium\", \"Medium\", \"Large\", \"Medium\", \"Medium\", \"Large\", \"Large\", \"Medium\", \"Large\", \"Medium\", \"Medium\", \"Large\", \"Medium\", \"Medium\", \"Medium\", \"Medium\", \"Small\", \"Medium\", \"Small\", \"Small\", \"Medium\", \"Medium\", \"Small\", \"Medium\", \"Medium\", \"Small\", \"Small\", \"Small\", \"Medium\", \"Medium\", \"Small\", \"Small\", \"Small\", \"Medium\", \"Medium\", \"Small\", \"Medium\", \"Medium\", \"Medium\", \"Medium\", \"Medium\", \"Medium\", \"Medium\", \"Medium\", \"Medium\", \"Medium\", \"Large\", \"Medium\", \"Medium\", \"Medium\", \"Medium\", \"Medium\", \"Medium\", \"Medium\", \"Medium\", \"Large\", \"Medium\", \"Medium\", \"Small\", \"Medium\", \"Small\", \"Medium\", \"Medium\", \"Small\", \"Large\", \"Medium\", \"Medium\", \"Large\", \"Large\", \"Medium\", \"Large\", \"Medium\", \"Medium\", \"Large\", \"Medium\", \"Large\", \"Large\", \"Large\", \"Medium\", \"Medium\", \"Large\", \"Medium\", \"Medium\", \"Medium\", \"Medium\", \"Large\", \"Large\", \"Medium\", \"Small\", \"Small\", \"Small\", \"Medium\", \"Medium\", \"Medium\", \"Small\", \"Small\", \"Small\", \"Small\", \"Small\", \"Small\", \"Small\", \"Small\", \"Small\", \"Small\", \"Small\", \"Small\", \"Small\", \"Small\", \"Small\", \"Medium\", \"Small\", \"Large\", \"Small\", \"Medium\", \"Small\", \"Medium\", \"Medium\", \"Medium\", \"Medium\", \"Medium\", \"Medium\", \"Medium\", \"Medium\", \"Medium\", \"Medium\", \"Medium\", \"Small\", \"Medium\", \"Medium\", \"Medium\", \"Medium\", \"Medium\", \"Medium\", \"Small\", \"Medium\", \"Medium\", \"Small\", \"Medium\", \"Medium\", \"Medium\", \"Medium\", \"Medium\", \"Medium\", \"Medium\", \"Medium\", \"Medium\", \"Medium\", \"Small\", \"Medium\", \"Medium\", \"Medium\", \"Large\", \"Medium\", \"Medium\", \"Medium\", \"Small\", \"Medium\", \"Large\", \"Small\", \"Medium\", \"Medium\", \"Medium\", \"Medium\", \"Medium\", \"Small\", \"Medium\", \"Small\", \"Medium\", \"Small\", \"Small\", \"Small\", \"Small\", \"Small\", \"Small\", \"Medium\", \"Small\", \"Small\", \"Small\", \"Small\", \"Small\", \"Small\", \"Small\", \"Small\", \"Small\", \"Small\", \"Small\", \"Small\", \"Medium\", \"Small\", \"Small\", \"Small\", \"Small\", \"Small\", \"Small\", \"Medium\", \"Small\", \"Medium\", \"Small\", \"Small\", \"Medium\", \"Medium\", \"Small\", \"Small\", \"Small\", \"Medium\", \"Small\", \"Small\", \"Small\", \"Medium\", \"Medium\", \"Small\", \"Medium\", \"Small\", \"Small\", \"Small\", \"Medium\", \"Small\", \"Small\", \"Small\", \"Small\", \"Small\", \"Small\", \"Small\", \"Small\", \"Small\", \"Small\", \"Small\", \"Small\", \"Small\", \"Small\", \"Small\", \"Small\", \"Small\", \"Small\", \"Small\", \"Small\", \"Medium\", \"Small\", \"Small\", \"Small\", \"Medium\", \"Medium\", \"Small\", \"Medium\", \"Medium\", \"Medium\", \"Large\", \"Medium\", \"Large\", \"Medium\", \"Medium\", \"Medium\", \"Large\", \"Large\", \"Medium\", \"Medium\", \"Medium\", \"Medium\", \"Large\", \"Medium\", \"Medium\", \"Medium\", \"Small\", \"Medium\", \"Medium\", \"Medium\", \"Small\", \"Small\", \"Medium\", \"Medium\", \"Medium\", \"Medium\", \"Medium\", \"Medium\", \"Medium\", \"Medium\", \"Medium\", \"Medium\", \"Medium\", \"Medium\", \"Medium\", \"Medium\", \"Small\", \"Medium\", \"Medium\", \"Medium\", \"Medium\", \"Small\", \"Small\", \"Small\", \"Medium\", \"Medium\", \"Medium\", \"Large\", \"Small\", \"Small\", \"Small\", \"Medium\", \"Medium\", \"Medium\", \"Medium\", \"Medium\", \"Small\", \"Medium\", \"Medium\", \"Small\", \"Medium\", \"Medium\", \"Small\", \"Medium\", \"Medium\", \"Medium\", \"Medium\", \"Medium\", \"Small\", \"Medium\", \"Medium\", \"Medium\", \"Medium\", \"Small\", \"Small\", \"Small\", \"Small\", \"Medium\", \"Small\", \"Small\", \"Medium\", \"Small\", \"Small\", \"Small\", \"Small\", \"Small\", \"Small\", \"Small\", \"Small\", \"Small\", \"Small\", \"Small\", \"Small\", \"Small\", \"Small\", \"Small\", \"Small\", \"Medium\", \"Small\", \"Small\", \"Small\", \"Small\", \"Medium\", \"Small\", \"Medium\", \"Medium\", \"Medium\", \"Medium\", \"Medium\", \"Small\", \"Medium\", \"Small\", \"Medium\", \"Small\", \"Small\", \"Medium\", \"Small\", \"Small\", \"Small\", \"Small\", \"Small\", \"Small\", \"Small\", \"Small\", \"Medium\", \"Small\", \"Small\", \"Medium\", \"Small\", \"Medium\", \"Small\", \"Small\", \"Small\", \"Medium\", \"Small\", \"Small\", \"Small\", \"Medium\", \"Medium\", \"Medium\", \"Medium\", \"Medium\", \"Medium\", \"Medium\", \"Small\", \"Small\", \"Medium\", \"Small\", \"Small\", \"Medium\", \"Medium\", \"Small\", \"Medium\", \"Small\", \"Small\", \"Medium\", \"Medium\", \"Medium\", \"Medium\", \"Medium\", \"Medium\", \"Medium\", \"Medium\", \"Medium\", \"Small\", \"Medium\", \"Medium\", \"Medium\", \"Medium\", \"Medium\", \"Small\", \"Medium\", \"Small\", \"Small\", \"Medium\", \"Medium\", \"Medium\", \"Small\", \"Medium\", \"Medium\", \"Medium\", \"Large\", \"Large\", \"Medium\", \"Medium\", \"Large\", \"Medium\", \"Medium\", \"Medium\", \"Medium\", \"Large\", \"Medium\", \"Medium\", \"Medium\", \"Medium\", \"Medium\", \"Large\", \"Large\", \"Medium\", \"Medium\", \"Medium\", \"Medium\", \"Large\", \"Large\", \"Medium\", \"Medium\", \"Medium\", \"Medium\", \"Medium\", \"Medium\", \"Medium\", \"Small\", \"Medium\", \"Large\", \"Large\", \"Medium\", \"Medium\", \"Medium\", \"Medium\", \"Small\", \"Medium\", \"Large\", \"Small\", \"Medium\", \"Small\", \"Large\", \"Medium\", \"Medium\", \"Large\", \"Large\", \"Medium\", \"Medium\", \"Medium\", \"Small\", \"Medium\", \"Small\", \"Small\", \"Medium\", \"Medium\", \"Medium\", \"Medium\", \"Medium\", \"Small\", \"Medium\", \"Medium\", \"Medium\", \"Medium\", \"Small\", \"Medium\", \"Small\", \"Medium\", \"Small\", \"Medium\", \"Small\", \"Medium\", \"Small\", \"Medium\", \"Small\", \"Small\", \"Medium\", \"Medium\", \"Small\", \"Small\", \"Small\", \"Medium\", \"Small\", \"Small\", \"Medium\", \"Small\", \"Small\", \"Medium\", \"Small\", \"Medium\", \"Medium\", \"Small\", \"Medium\", \"Small\", \"Small\", \"Small\", \"Small\", \"Medium\", \"Medium\", \"Medium\", \"Medium\", \"Medium\", \"Medium\", \"Medium\", \"Small\", \"Small\", \"Small\", \"Small\", \"Medium\", \"Medium\", \"Medium\", \"Small\", \"Medium\", \"Small\", \"Medium\", \"Medium\", \"Medium\", \"Large\", \"Small\", \"Small\", \"Medium\", \"Large\", \"Medium\", \"Small\", \"Medium\", \"Small\", \"Medium\", \"Medium\", \"Medium\", \"Medium\", \"Medium\", \"Medium\", \"Medium\", \"Medium\", \"Medium\", \"Medium\", \"Medium\", \"Large\", \"Medium\", \"Medium\", \"Medium\", \"Medium\", \"Medium\", \"Medium\", \"Medium\", \"Medium\", \"Medium\", \"Medium\", \"Large\", \"Medium\", \"Medium\", \"Medium\", \"Medium\", \"Medium\", \"Medium\", \"Medium\", \"Medium\", \"Medium\", \"Medium\", \"Large\", \"Medium\", \"Medium\", \"Medium\", \"Medium\", \"Medium\", \"Medium\", \"Medium\", \"Medium\", \"Small\", \"Medium\", \"Medium\", \"Small\", \"Large\", \"Medium\", \"Small\", \"Small\", \"Small\", \"Medium\", \"Small\", \"Small\", \"Small\", \"Medium\", \"Small\", \"Small\", \"Small\", \"Small\", \"Small\", \"Small\", \"Small\", \"Small\", \"Small\", \"Small\", \"Small\", \"Small\", \"Small\", \"Small\", \"Medium\", \"Medium\", \"Small\", \"Medium\", \"Small\", \"Medium\", \"Medium\", \"Medium\", \"Medium\", \"Medium\", \"Medium\", \"Small\", \"Small\", \"Medium\", \"Medium\", \"Medium\", \"Medium\", \"Medium\", \"Small\", \"Medium\", \"Medium\", \"Medium\", \"Medium\", \"Medium\", \"Medium\", \"Small\", \"Medium\", \"Large\", \"Medium\", \"Medium\", \"Small\", \"Medium\", \"Medium\", \"Medium\", \"Medium\", \"Medium\", \"Medium\", \"Medium\", \"Medium\", \"Large\", \"Large\", \"Medium\", \"Medium\", \"Medium\", \"Large\", \"Medium\", \"Medium\", \"Medium\", \"Medium\", \"Medium\", \"Small\", \"Large\", \"Medium\", \"Medium\", \"Medium\", \"Small\", \"Small\", \"Medium\", \"Medium\", \"Medium\", \"Small\", \"Medium\", \"Small\", \"Small\", \"Medium\", \"Medium\", \"Medium\", \"Medium\", \"Small\", \"Medium\", \"Medium\", \"Large\", \"Small\", \"Small\", \"Medium\", \"Small\", \"Medium\", \"Medium\", \"Small\", \"Medium\", \"Small\", \"Small\", \"Small\", \"Small\", \"Medium\", \"Medium\", \"Medium\", \"Medium\", \"Small\", \"Medium\", \"Small\", \"Small\", \"Medium\", \"Medium\", \"Medium\", \"Medium\", \"Medium\", \"Medium\", \"Medium\", \"Medium\", \"Small\", \"Medium\", \"Small\", \"Medium\", \"Medium\", \"Large\", \"Medium\", \"Medium\", \"Medium\", \"Medium\", \"Small\", \"Medium\", \"Medium\", \"Medium\", \"Medium\", \"Small\", \"Medium\", \"Medium\", \"Small\", \"Medium\", \"Small\", \"Small\", \"Medium\", \"Medium\", \"Medium\", \"Medium\", \"Small\", \"Medium\", \"Medium\", \"Medium\", \"Small\", \"Small\", \"Small\", \"Small\", \"Small\", \"Small\", \"Small\", \"Small\", \"Small\", \"Small\", \"Small\", \"Small\", \"Small\", \"Small\", \"Small\", \"Small\", \"Small\", \"Small\", \"Small\", \"Medium\", \"Small\", \"Large\", \"Medium\", \"Small\", \"Large\", \"Small\", \"Small\", \"Medium\", \"Medium\", \"Medium\", \"Medium\", \"Medium\", \"Medium\", \"Medium\", \"Medium\", \"Medium\", \"Medium\", \"Medium\", \"Medium\", \"Small\", \"Medium\", \"Medium\", \"Large\", \"Medium\", \"Large\", \"Medium\", \"Medium\", \"Medium\", \"Small\", \"Medium\", \"Medium\", \"Small\", \"Small\", \"Small\", \"Small\", \"Small\", \"Medium\", \"Small\", \"Medium\", \"Small\", \"Small\", \"Small\", \"Small\", \"Small\", \"Small\", \"Small\", \"Small\", \"Medium\", \"Small\", \"Medium\", \"Medium\", \"Medium\", \"Small\", \"Medium\", \"Small\", \"Small\", \"Small\", \"Small\", \"Medium\", \"Small\", \"Small\", \"Medium\", \"Small\", \"Small\", \"Medium\", \"Small\", \"Small\", \"Small\", \"Small\", \"Small\", \"Small\", \"Small\", \"Small\", \"Medium\", \"Small\", \"Medium\", \"Small\", \"Medium\", \"Small\", \"Small\", \"Small\", \"Small\", \"Small\", \"Small\", \"Small\", \"Small\", \"Small\", \"Small\", \"Small\", \"Small\", \"Small\", \"Small\", \"Small\", \"Small\", \"Small\", \"Small\", \"Medium\", \"Small\", \"Small\", \"Small\", \"Small\", \"Small\", \"Small\", \"Small\", \"Small\", \"Medium\", \"Medium\", \"Medium\", \"Medium\", \"Medium\", \"Medium\", \"Small\", \"Medium\", \"Small\", \"Small\", \"Small\", \"Small\", \"Medium\", \"Small\", \"Medium\", \"Medium\", \"Small\", \"Medium\", \"Small\", \"Small\", \"Medium\", \"Medium\", \"Medium\", \"Medium\", \"Medium\", \"Small\", \"Small\", \"Small\", \"Small\", \"Small\", \"Small\", \"Small\", \"Small\", \"Small\", \"Small\", \"Small\", \"Small\", \"Small\", \"Small\", \"Small\", \"Small\", \"Small\", \"Small\", \"Small\", \"Small\", \"Small\", \"Medium\", \"Small\", \"Small\", \"Small\", \"Medium\", \"Medium\", \"Medium\", \"Medium\", \"Small\", \"Medium\", \"Small\", \"Small\", \"Medium\", \"Small\", \"Small\", \"Medium\", \"Medium\", \"Small\", \"Medium\", \"Small\", \"Small\", \"Medium\", \"Small\", \"Medium\", \"Medium\", \"Medium\", \"Small\", \"Small\", \"Small\", \"Small\", \"Small\", \"Small\", \"Small\", \"Small\", \"Small\", \"Small\", \"Small\", \"Small\", \"Small\", \"Small\", \"Small\", \"Small\", \"Small\", \"Medium\", \"Small\", \"Large\", \"Small\", \"Small\", \"Large\", \"Small\", \"Small\", \"Medium\", \"Small\", \"Medium\", \"Medium\", \"Small\", \"Small\", \"Small\", \"Medium\", \"Small\", \"Small\", \"Small\", \"Medium\", \"Small\", \"Small\", \"Small\", \"Small\", \"Small\", \"Small\", \"Small\", \"Medium\", \"Medium\", \"Medium\", \"Small\", \"Medium\", \"Medium\", \"Small\", \"Medium\", \"Medium\", \"Medium\", \"Medium\", \"Medium\", \"Medium\", \"Medium\", \"Medium\", \"Medium\", \"Medium\", \"Medium\", \"Medium\", \"Medium\", \"Medium\", \"Small\", \"Medium\", \"Small\", \"Medium\", \"Medium\", \"Medium\", \"Small\", \"Small\", \"Medium\", \"Small\", \"Medium\", \"Medium\", \"Small\", \"Small\", \"Small\", \"Small\", \"Small\", \"Small\", \"Small\", \"Small\", \"Small\", \"Small\", \"Small\", \"Small\", \"Small\", \"Small\", \"Small\", \"Small\", \"Small\", \"Medium\", \"Small\", \"Small\", \"Small\", \"Small\", \"Small\", \"Medium\", \"Small\", \"Medium\", \"Small\", \"Medium\", \"Medium\", \"Medium\", \"Medium\", \"Small\", \"Medium\", \"Medium\", \"Medium\", \"Medium\", \"Medium\", \"Medium\", \"Medium\", \"Medium\", \"Small\", \"Medium\", \"Medium\", \"Medium\", \"Medium\", \"Medium\", \"Medium\", \"Medium\", \"Medium\", \"Small\", \"Large\", \"Medium\", \"Small\", \"Small\", \"Small\", \"Small\", \"Small\", \"Small\", \"Small\", \"Medium\", \"Small\", \"Small\", \"Small\", \"Medium\", \"Small\", \"Medium\", \"Small\", \"Small\", \"Small\", \"Small\", \"Medium\", \"Medium\", \"Small\", \"Small\", \"Small\", \"Small\", \"Small\", \"Medium\", \"Small\", \"Small\", \"Small\", \"Small\", \"Small\", \"Medium\", \"Medium\", \"Medium\", \"Medium\", \"Medium\", \"Medium\", \"Medium\", \"Small\", \"Medium\", \"Small\", \"Small\", \"Medium\", \"Small\", \"Medium\", \"Small\", \"Large\", \"Medium\", \"Small\", \"Small\", \"Small\", \"Small\", \"Small\", \"Small\", \"Small\", \"Small\", \"Small\", \"Small\", \"Small\", \"Small\", \"Small\", \"Small\", \"Small\", \"Small\", \"Small\", \"Small\", \"Small\", \"Medium\", \"Small\", \"Small\", \"Small\", \"Medium\", \"Medium\", \"Small\", \"Small\", \"Small\", \"Medium\", \"Small\", \"Small\", \"Small\", \"Small\", \"Small\", \"Small\", \"Small\", \"Medium\", \"Medium\", \"Small\", \"Small\", \"Small\", \"Small\", \"Small\", \"Small\", \"Small\", \"Small\", \"Small\", \"Medium\", \"Small\", \"Small\", \"Small\", \"Small\", \"Small\", \"Small\", \"Medium\", \"Small\", \"Medium\", \"Small\", \"Small\", \"Small\", \"Medium\", \"Medium\", \"Small\", \"Medium\", \"Small\", \"Medium\", \"Medium\", \"Medium\", \"Medium\", \"Medium\", \"Small\", \"Small\", \"Medium\", \"Small\", \"Medium\", \"Medium\", \"Small\", \"Small\", \"Small\", \"Small\", \"Small\", \"Small\", \"Small\", \"Small\", \"Small\", \"Small\", \"Small\", \"Small\", \"Small\", \"Small\", \"Small\", \"Small\", \"Small\", \"Small\", \"Small\", \"Small\", \"Small\", \"Small\", \"Medium\", \"Medium\", \"Medium\", \"Small\", \"Small\", \"Medium\", \"Medium\", \"Medium\", \"Medium\", \"Small\", \"Small\", \"Medium\", \"Small\", \"Medium\", \"Small\", \"Medium\", \"Medium\", \"Medium\", \"Small\", \"Small\", \"Medium\", \"Medium\", \"Small\", \"Small\", \"Medium\", \"Large\", \"Medium\", \"Small\", \"Medium\", \"Small\", \"Medium\", \"Small\", \"Medium\", \"Small\", \"Small\", \"Small\", \"Medium\", \"Small\", \"Medium\", \"Small\", \"Medium\", \"Small\", \"Medium\", \"Small\", \"Small\", \"Medium\", \"Small\", \"Medium\", \"Small\", \"Medium\", \"Medium\", \"Medium\", \"Small\", \"Medium\", \"Small\", \"Small\", \"Small\", \"Small\", \"Medium\", \"Small\", \"Small\", \"Small\", \"Small\", \"Small\", \"Small\", \"Small\", \"Small\", \"Small\", \"Small\", \"Small\", \"Small\", \"Small\", \"Small\", \"Medium\", \"Small\", \"Small\", \"Small\", \"Small\", \"Small\", \"Small\", \"Small\", \"Small\", \"Small\", \"Small\", \"Small\", \"Small\", \"Small\", \"Small\", \"Small\", \"Small\", \"Medium\", \"Small\", \"Medium\", \"Small\", \"Small\", \"Small\", \"Small\", \"Medium\", \"Small\", \"Small\", \"Small\", \"Medium\", \"Medium\", \"Small\", \"Small\", \"Small\", \"Small\", \"Medium\", \"Medium\", \"Medium\", \"Medium\", \"Small\", \"Medium\", \"Medium\", \"Medium\", \"Medium\", \"Medium\", \"Small\", \"Medium\", \"Medium\", \"Medium\", \"Small\", \"Medium\", \"Small\", \"Small\", \"Small\", \"Small\", \"Medium\", \"Medium\", \"Small\", \"Medium\", \"Medium\", \"Medium\", \"Small\", \"Small\", \"Small\", \"Small\", \"Medium\", \"Small\", \"Small\", \"Medium\", \"Small\", \"Medium\", \"Medium\", \"Small\", \"Small\", \"Small\", \"Small\", \"Small\", \"Small\", \"Small\", \"Small\", \"Medium\", \"Medium\", \"Medium\", \"Medium\", \"Medium\", \"Medium\", \"Medium\", \"Small\", \"Medium\", \"Medium\", \"Medium\", \"Medium\", \"Medium\", \"Medium\", \"Medium\", \"Medium\", \"Medium\", \"Small\", \"Medium\", \"Medium\", \"Large\", \"Medium\", \"Medium\", \"Medium\", \"Medium\", \"Medium\", \"Small\", \"Small\", \"Medium\", \"Large\", \"Large\", \"Medium\", \"Small\", \"Medium\", \"Small\", \"Medium\", \"Small\", \"Small\", \"Small\", \"Small\", \"Small\", \"Small\", \"Medium\", \"Small\", \"Medium\", \"Small\", \"Small\", \"Medium\", \"Small\", \"Small\", \"Medium\", \"Small\", \"Medium\", \"Small\", \"Medium\", \"Small\", \"Medium\", \"Small\", \"Small\", \"Small\", \"Small\", \"Small\", \"Small\", \"Small\", \"Small\", \"Small\", \"Small\", \"Small\", \"Small\", \"Small\", \"Small\", \"Small\", \"Small\", \"Small\", \"Medium\", \"Small\", \"Small\", \"Medium\", \"Small\", \"Small\", \"Small\", \"Medium\", \"Small\", \"Medium\", \"Small\", \"Small\", \"Small\", \"Medium\", \"Medium\", \"Small\", \"Medium\", \"Medium\", \"Medium\", \"Medium\", \"Medium\", \"Medium\", \"Medium\", \"Medium\", \"Medium\", \"Medium\", \"Medium\", \"Small\", \"Small\", \"Small\", \"Medium\", \"Medium\", \"Small\", \"Small\", \"Medium\", \"Medium\", \"Small\", \"Medium\", \"Small\", \"Medium\", \"Small\", \"Medium\", \"Medium\", \"Medium\", \"Medium\", \"Medium\", \"Medium\", \"Small\", \"Medium\", \"Medium\", \"Medium\", \"Medium\", \"Medium\", \"Small\", \"Medium\", \"Medium\", \"Medium\", \"Small\", \"Small\", \"Small\", \"Medium\", \"Small\", \"Medium\", \"Small\", \"Small\", \"Medium\", \"Small\", \"Small\", \"Small\", \"Small\", \"Small\", \"Medium\", \"Small\", \"Small\", \"Medium\", \"Medium\", \"Small\", \"Large\", \"Medium\", \"Medium\", \"Medium\", \"Medium\", \"Small\", \"Small\", \"Small\", \"Small\", \"Small\", \"Small\", \"Small\", \"Small\", \"Small\", \"Medium\", \"Small\", \"Medium\", \"Medium\", \"Medium\", \"Medium\", \"Small\", \"Medium\", \"Medium\", \"Medium\", \"Medium\", \"Small\", \"Medium\", \"Medium\", \"Small\", \"Medium\", \"Medium\", \"Medium\", \"Small\", \"Medium\", \"Small\", \"Small\", \"Medium\", \"Medium\", \"Medium\", \"Small\", \"Small\", \"Medium\", \"Medium\", \"Small\", \"Small\", \"Small\", \"Medium\", \"Small\", \"Small\", \"Medium\", \"Medium\", \"Medium\", \"Medium\", \"Small\", \"Small\", \"Medium\", \"Small\", \"Small\", \"Small\", \"Medium\", \"Medium\", \"Medium\", \"Medium\", \"Small\", \"Medium\", \"Medium\", \"Small\", \"Small\", \"Medium\", \"Small\", \"Small\", \"Medium\", \"Small\", \"Medium\", \"Medium\", \"Medium\", \"Medium\", \"Medium\", \"Medium\", \"Medium\", \"Small\", \"Small\", \"Small\", \"Small\", \"Small\", \"Small\", \"Small\", \"Small\", \"Small\", \"Small\", \"Small\", \"Small\", \"Small\", \"Small\", \"Small\", \"Small\", \"Small\", \"Small\", \"Medium\", \"Medium\", \"Small\", \"Small\", \"Medium\", \"Small\", \"Small\", \"Small\", \"Small\", \"Small\", \"Small\", \"Small\", \"Small\", \"Medium\", \"Small\", \"Small\", \"Small\", \"Small\", \"Small\", \"Small\", \"Small\", \"Small\", \"Small\", \"Small\", \"Small\", \"Small\", \"Large\", \"Small\", \"Small\", \"Medium\", \"Small\", \"Small\", \"Small\", \"Small\", \"Small\", \"Medium\", \"Small\", \"Small\", \"Medium\", \"Small\", \"Small\", \"Small\", \"Small\", \"Small\", \"Small\", \"Small\", \"Small\", \"Small\", \"Small\", \"Small\", \"Small\", \"Small\", \"Small\", \"Medium\", \"Small\", \"Medium\", \"Medium\", \"Small\", \"Small\", \"Small\", \"Small\", \"Medium\", \"Small\", \"Small\", \"Small\", \"Small\", \"Small\", \"Small\", \"Medium\", \"Small\", \"Small\", \"Small\", \"Small\", \"Medium\", \"Small\", \"Small\", \"Small\", \"Small\", \"Small\", \"Small\", \"Large\", \"Small\", \"Medium\", \"Medium\", \"Medium\", \"Medium\", \"Small\", \"Small\", \"Small\", \"Small\", \"Small\", \"Small\", \"Small\", \"Small\", \"Small\", \"Small\", \"Medium\", \"Medium\", \"Small\", \"Medium\", \"Small\", \"Medium\", \"Small\", \"Small\", \"Small\", \"Small\", \"Medium\", \"Medium\", \"Medium\", \"Small\", \"Medium\", \"Small\", \"Medium\", \"Small\", \"Small\", \"Medium\", \"Small\", \"Medium\", \"Small\", \"Medium\", \"Medium\", \"Medium\", \"Medium\", \"Small\", \"Medium\", \"Medium\", \"Small\", \"Medium\", \"Medium\", \"Small\", \"Medium\", \"Small\", \"Medium\", \"Medium\", \"Medium\", \"Small\", \"Medium\", \"Small\", \"Small\", \"Small\", \"Small\", \"Small\", \"Small\", \"Small\", \"Small\", \"Small\", \"Small\", \"Small\", \"Small\", \"Small\", \"Small\", \"Small\", \"Small\", \"Small\", \"Small\", \"Small\", \"Medium\", \"Small\", \"Medium\", \"Medium\", \"Small\", \"Small\", \"Small\", \"Medium\", \"Small\", \"Medium\", \"Medium\", \"Medium\", \"Medium\", \"Medium\", \"Medium\", \"Medium\", \"Small\", \"Medium\", \"Medium\", \"Small\", \"Medium\", \"Medium\", \"Medium\", \"Medium\", \"Medium\", \"Medium\", \"Medium\", \"Medium\", \"Small\", \"Medium\", \"Small\", \"Medium\", \"Medium\", \"Medium\", \"Small\", \"Small\", \"Small\", \"Medium\", \"Small\", \"Small\", \"Small\", \"Small\", \"Small\", \"Small\", \"Small\", \"Small\", \"Small\", \"Medium\", \"Small\", \"Small\", \"Small\", \"Small\", \"Small\", \"Medium\", \"Small\", \"Medium\", \"Small\", \"Small\", \"Small\", \"Large\", \"Medium\", \"Small\", \"Medium\", \"Medium\", \"Medium\", \"Small\", \"Medium\", \"Small\", \"Small\", \"Medium\", \"Medium\", \"Small\", \"Medium\", \"Medium\", \"Small\", \"Medium\", \"Medium\", \"Small\", \"Medium\", \"Medium\", \"Medium\", \"Medium\", \"Medium\", \"Medium\", \"Medium\", \"Small\", \"Small\", \"Small\", \"Small\", \"Small\", \"Small\", \"Medium\", \"Small\", \"Small\", \"Small\", \"Small\", \"Small\", \"Small\", \"Small\", \"Small\", \"Small\", \"Medium\", \"Small\", \"Small\", \"Small\", \"Small\", \"Small\", \"Medium\", \"Medium\", \"Small\", \"Small\", \"Small\", \"Medium\", \"Medium\", \"Small\", \"Medium\", \"Medium\", \"Small\", \"Medium\", \"Small\", \"Small\", \"Small\", \"Small\", \"Medium\", \"Small\", \"Small\", \"Medium\", \"Small\", \"Small\", \"Small\", \"Small\", \"Medium\", \"Small\", \"Medium\", \"Large\", \"Medium\", \"Small\", \"Small\", \"Small\", \"Medium\", \"Medium\", \"Medium\", \"Small\", \"Medium\", \"Small\", \"Small\", \"Medium\", \"Medium\", \"Small\", \"Small\", \"Medium\", \"Small\", \"Medium\", \"Small\", \"Medium\", \"Small\", \"Medium\", \"Small\", \"Small\", \"Medium\", \"Medium\", \"Small\", \"Medium\", \"Medium\", \"Small\", \"Small\", \"Small\", \"Small\", \"Small\", \"Medium\", \"Small\", \"Small\", \"Small\", \"Small\", \"Medium\", \"Medium\", \"Small\", \"Small\", \"Medium\", \"Medium\", \"Medium\", \"Medium\", \"Medium\", \"Small\", \"Small\", \"Small\", \"Small\", \"Medium\", \"Medium\", \"Medium\", \"Medium\", \"Small\", \"Medium\", \"Small\", \"Small\", \"Medium\", \"Small\", \"Medium\", \"Small\", \"Medium\", \"Medium\", \"Medium\", \"Small\", \"Medium\", \"Medium\", \"Small\", \"Medium\", \"Small\", \"Medium\", \"Medium\", \"Medium\", \"Small\", \"Medium\", \"Medium\", \"Small\", \"Large\", \"Small\", \"Small\", \"Small\", \"Medium\", \"Small\", \"Small\", \"Medium\", \"Small\", \"Small\", \"Medium\", \"Medium\", \"Small\", \"Small\", \"Small\", \"Medium\", \"Small\", \"Medium\", \"Small\", \"Medium\", \"Medium\", \"Small\", \"Medium\", \"Small\", \"Small\", \"Medium\", \"Small\", \"Small\", \"Medium\", \"Medium\", \"Medium\", \"Medium\", \"Small\", \"Medium\", \"Medium\", \"Small\", \"Small\", \"Medium\", \"Small\", \"Medium\", \"Medium\", \"Medium\", \"Medium\", \"Small\", \"Medium\", \"Medium\", \"Small\", \"Medium\", \"Large\", \"Small\", \"Medium\", \"Medium\", \"Small\", \"Medium\", \"Medium\", \"Medium\", \"Medium\", \"Small\", \"Small\", \"Medium\", \"Medium\", \"Small\", \"Medium\", \"Small\", \"Medium\", \"Medium\", \"Medium\", \"Medium\", \"Medium\", \"Medium\", \"Large\", \"Medium\", \"Medium\", \"Medium\", \"Medium\", \"Small\", \"Large\", \"Small\", \"Small\", \"Medium\", \"Medium\", \"Medium\", \"Small\", \"Medium\", \"Medium\", \"Medium\", \"Small\", \"Small\", \"Small\", \"Small\", \"Small\", \"Medium\", \"Small\", \"Small\", \"Small\", \"Medium\", \"Small\", \"Medium\", \"Medium\", \"Medium\", \"Medium\", \"Medium\", \"Small\", \"Large\", \"Small\", \"Medium\", \"Medium\", \"Medium\", \"Small\", \"Medium\", \"Small\", \"Medium\", \"Medium\", \"Small\", \"Medium\", \"Medium\", \"Medium\", \"Medium\", \"Small\", \"Medium\", \"Small\", \"Medium\", \"Small\", \"Small\", \"Medium\", \"Small\", \"Small\", \"Medium\", \"Medium\", \"Medium\", \"Medium\", \"Small\", \"Medium\", \"Small\", \"Medium\", \"Small\", \"Medium\", \"Small\", \"Small\", \"Medium\", \"Small\", \"Small\", \"Small\", \"Medium\", \"Medium\", \"Small\", \"Medium\", \"Medium\", \"Medium\", \"Medium\", \"Medium\", \"Small\", \"Small\", \"Medium\", \"Small\", \"Medium\", \"Small\", \"Small\", \"Small\", \"Small\", \"Small\", \"Medium\", \"Medium\", \"Medium\", \"Small\", \"Small\", \"Medium\", \"Small\", \"Small\", \"Small\", \"Small\", \"Small\", \"Medium\", \"Small\", \"Small\", \"Medium\", \"Small\", \"Small\", \"Medium\", \"Small\", \"Medium\", \"Medium\", \"Small\", \"Small\", \"Small\", \"Small\", \"Small\", \"Small\", \"Small\", \"Small\", \"Small\", \"Small\", \"Small\", \"Small\", \"Small\", \"Small\", \"Small\", \"Small\", \"Small\", \"Small\", \"Small\", \"Small\", \"Medium\", \"Small\", \"Small\", \"Small\", \"Small\", \"Medium\", \"Small\", \"Small\", \"Small\", \"Small\", \"Small\", \"Small\", \"Small\", \"Medium\", \"Small\", \"Small\", \"Small\", \"Small\", \"Small\", \"Small\", \"Small\", \"Small\", \"Small\", \"Small\", \"Small\", \"Small\", \"Small\", \"Small\", \"Medium\", \"Medium\", \"Small\", \"Medium\", \"Medium\", \"Small\", \"Medium\"], \"legendgroup\": \"\", \"name\": \"\", \"showlegend\": true, \"textinfo\": \"percent+label\", \"textposition\": \"inside\", \"type\": \"pie\", \"values\": [30, 34, 41, 45, 49, 36, 29, 48, 22, 41, 37, 23, 28, 34, 45, 36, 23, 41, 46, 42, 41, 20, 21, 42, 24, 66, 26, 29, 38, 37, 45, 21, 34, 23, 42, 47, 35, 29, 34, 32, 21, 34, 37, 47, 48, 40, 26, 30, 32, 41, 36, 24, 23, 50, 39, 29, 27, 37, 37, 27, 42, 38, 24, 23, 47, 22, 44, 40, 22, 47, 39, 34, 45, 20, 40, 26, 39, 50, 45, 45, 27, 46, 31, 33, 22, 20, 41, 45, 49, 34, 49, 39, 43, 41, 36, 27, 29, 20, 37, 26, 39, 22, 22, 21, 66, 56, 50, 46, 33, 49, 32, 44, 24, 26, 45, 39, 49, 20, 27, 30, 25, 24, 22, 33, 47, 25, 26, 48, 39, 34, 32, 64, 19, 42, 31, 22, 26, 20, 21, 33, 28, 26, 31, 48, 50, 28, 26, 32, 44, 30, 38, 40, 46, 26, 27, 43, 35, 37, 37, 27, 38, 33, 42, 42, 48, 41, 30, 27, 21, 20, 41, 27, 28, 24, 44, 50, 21, 33, 33, 31, 41, 45, 33, 45, 26, 12, 41, 33, 46, 33, 20, 44, 33, 21, 47, 46, 32, 42, 44, 35, 41, 46, 31, 38, 42, 33, 48, 42, 32, 34, 33, 36, 27, 21, 21, 38, 30, 49, 43, 41, 38, 28, 43, 25, 38, 41, 28, 25, 41, 39, 21, 27, 33, 29, 49, 49, 20, 39, 40, 49, 21, 50, 20, 49, 38, 35, 40, 28, 25, 36, 43, 32, 46, 48, 43, 49, 24, 26, 30, 24, 55, 22, 49, 44, 66, 21, 34, 43, 46, 33, 42, 34, 47, 33, 24, 26, 30, 43, 25, 27, 27, 24, 34, 46, 27, 33, 47, 49, 40, 37, 47, 45, 37, 48, 31, 46, 47, 28, 40, 20, 39, 25, 29, 22, 22, 47, 45, 29, 24, 35, 46, 44, 34, 35, 25, 10, 29, 39, 42, 46, 49, 27, 50, 43, 38, 20, 27, 49, 27, 39, 24, 45, 20, 36, 24, 49, 26, 49, 34, 34, 33, 22, 39, 32, 24, 21, 24, 36, 20, 30, 44, 28, 37, 20, 25, 35, 38, 41, 22, 49, 38, 33, 36, 34, 24, 36, 34, 41, 46, 24, 21, 24, 48, 26, 37, 49, 34, 48, 36, 46, 46, 31, 41, 21, 38, 45, 26, 38, 48, 42, 49, 32, 54, 33, 36, 20, 29, 33, 50, 41, 36, 27, 47, 33, 21, 21, 41, 40, 28, 23, 23, 25, 24, 39, 55, 46, 50, 47, 97, 32, 35, 49, 38, 32, 34, 36, 48, 21, 21, 34, 46, 32, 29, 41, 43, 24, 41, 46, 32, 22, 29, 42, 39, 27, 48, 29, 27, 54, 26, 34, 25, 23, 28, 35, 44, 22, 42, 29, 32, 41, 26, 21, 34, 41, 37, 37, 41, 46, 40, 43, 30, 35, 36, 61, 38, 39, 33, 32, 31, 50, 48, 43, 25, 28, 36, 27, 25, 40, 34, 50, 38, 37, 43, 43, 46, 42, 50, 44, 27, 35, 51, 41, 48, 42, 49, 30, 45, 48, 32, 46, 48, 33, 31, 20, 29, 27, 24, 37, 25, 41, 27, 21, 22, 32, 25, 42, 25, 37, 26, 44, 47, 43, 42, 42, 29, 40, 38, 38, 21, 24, 36, 23, 20, 32, 29, 44, 44, 36, 49, 34, 59, 37, 36, 43, 21, 32, 38, 43, 42, 32, 42, 31, 49, 45, 49, 41, 45, 36, 39, 27, 25, 41, 39, 28, 25, 33, 34, 24, 30, 42, 21, 34, 29, 24, 44, 21, 33, 30, 26, 41, 26, 32, 43, 48, 44, 45, 37, 39, 76, 37, 38, 43, 48, 26, 38, 20, 22, 45, 45, 20, 47, 46, 23, 33, 29, 44, 41, 20, 37, 29, 55, 22, 31, 49, 61, 39, 38, 31, 36, 25, 48, 35, 21, 47, 38, 41, 24, 37, 33, 49, 29, 24, 47, 24, 25, 30, 22, 27, 34, 36, 34, 48, 34, 24, 46, 45, 39, 43, 29, 20, 46, 27, 44, 43, 49, 40, 30, 50, 23, 26, 27, 42, 47, 49, 38, 20, 25, 25, 41, 28, 50, 32, 42, 24, 27, 26, 38, 42, 23, 21, 28, 33, 25, 28, 46, 30, 38, 40, 45, 27, 42, 36, 29, 39, 45, 47, 49, 46, 48, 46, 35, 43, 26, 22, 34, 50, 48, 41, 36, 29, 33, 46, 38, 20, 22, 27, 56, 38, 25, 33, 42, 33, 38, 31, 20, 44, 26, 27, 46, 47, 37, 31, 24, 31, 50, 35, 30, 29, 27, 40, 31, 6, 45, 22, 45, 43, 46, 39, 31, 41, 44, 45, 37, 35, 28, 30, 30, 25, 29, 26, 41, 34, 35, 34, 50, 41, 22, 35, 44, 47, 19, 34, 29, 49, 30, 21, 50, 47, 24, 27, 33, 35, 31, 25, 27, 31, 45, 27, 27, 42, 21, 34, 42, 15, 29, 46, 30, 30, 42, 46, 25, 32, 30, 40, 28, 23, 29, 34, 37, 20, 32, 34, 42, 38, 30, 23, 22, 39, 55, 36, 26, 31, 34, 41, 23, 48, 22, 21, 22, 40, 50, 29, 43, 24, 22, 43, 20, 25, 36, 24, 21, 30, 32, 21, 26, 35, 26, 46, 37, 27, 23, 39, 27, 38, 27, 40, 24, 44, 37, 20, 39, 44, 22, 43, 27, 26, 25, 49, 29, 41, 55, 27, 23, 31, 46, 47, 31, 46, 37, 28, 37, 49, 24, 30, 50, 31, 46, 47, 46, 37, 33, 31, 48, 41, 42, 41, 32, 10, 35, 28, 46, 20, 30, 48, 28, 39, 24, 28, 31, 45, 24, 49, 32, 43, 37, 24, 35, 41, 26, 34, 49, 28, 40, 37, 31, 41, 21, 40, 46, 44, 46, 41, 32, 46, 28, 49, 21, 32, 34, 21, 21, 31, 21, 25, 28, 43, 22, 37, 28, 30, 44, 25, 43, 30, 20, 26, 40, 31, 22, 23, 30, 49, 31, 29, 37, 38, 29, 23, 26, 38, 48, 40, 45, 44, 21, 35, 29, 21, 22, 26, 41, 47, 31, 43, 23, 28, 49, 24, 33, 22, 32, 40, 43, 24, 32, 20, 24, 48, 44, 28, 24, 33, 41, 23, 46, 48, 25, 22, 41, 34, 32, 21, 20, 47, 39, 29, 45, 28, 26, 50, 48, 25, 40, 43, 22, 47, 36, 40, 27, 29, 20, 42, 25, 36, 21, 23, 37, 48, 25, 33, 27, 27, 20, 30, 48, 32, 34, 27, 39, 47, 22, 55, 60, 35, 28, 38, 21, 41, 22, 29, 50, 29, 49, 35, 48, 23, 48, 42, 47, 36, 22, 40, 23, 32, 21, 41, 25, 26, 24, 48, 26, 21, 45, 36, 21, 32, 30, 36, 33, 35, 37, 41, 20, 45, 38, 43, 49, 27, 46, 38, 25, 46, 22, 40, 46, 39, 38, 30, 42, 43, 29, 33, 32, 28, 41, 33, 36, 26, 34, 26, 38, 33, 33, 46, 26, 25, 45, 50, 36, 21, 29, 21, 42, 37, 25, 36, 22, 23, 32, 28, 27, 49, 41, 49, 30, 40, 23, 49, 25, 37, 55, 23, 24, 43, 50, 47, 34, 31, 28, 36, 48, 39, 45, 35, 45, 46, 37, 31, 33, 31, 27, 39, 32, 28, 26, 44, 46, 32, 65, 43, 43, 35, 45, 47, 21, 38, 21, 43, 46, 38, 26, 31, 48, 33, 38, 39, 42, 44, 29, 26, 31, 32, 28, 36, 36, 41, 27, 33, 34, 29, 34, 48, 46, 22, 20, 45, 46, 34, 50, 46, 22, 48, 47, 34, 45, 20, 50, 22, 45, 58, 51, 38, 22, 25, 24, 35, 28, 36, 39, 27, 40, 50, 42, 48, 25, 31, 44, 23, 29, 49, 36, 34, 25, 48, 38, 37, 49, 22, 28, 36, 34, 39, 21, 36, 24, 29, 38, 34, 42, 35, 35, 38, 41, 50, 21, 43, 32, 6, 66, 41, 23, 43, 24, 22, 26, 35, 47, 50, 45, 39, 23, 42, 20, 33, 34, 49, 39, 36, 50, 29, 30, 41, 28, 45, 16, 36, 41, 50, 40, 49, 45, 47, 21, 32, 47, 38, 41, 21, 41, 38, 25, 48, 22, 28, 47, 49, 45, 28, 29, 39, 46, 38, 41, 50, 43, 29, 30, 25, 49, 40, 41, 21, 46, 39, 45, 21, 44, 44, 29, 34, 39, 38, 24, 29, 30, 20, 39, 35, 26, 44, 28, 31, 29, 32, 33, 44, 32, 41, 35, 44, 26, 20, 48, 34, 49, 40, 45, 50, 38, 25, 28, 49, 49, 42, 23, 29, 25, 39, 44, 25, 45, 25, 37, 30, 36, 26, 23, 23, 25, 21, 26, 44, 24, 66, 36, 36, 22, 25, 37, 32, 47, 37, 20, 41, 21, 22, 40, 32, 36, 27, 26, 30, 23, 29, 21, 34, 26, 60, 35, 47, 20, 20, 25, 25, 27, 31, 44, 49, 26, 36, 44, 28, 45, 29, 40, 45, 44, 25, 45, 48, 44, 25, 22, 31, 21, 55, 25, 35, 35, 43, 44, 50, 48, 25, 39, 25, 32, 20, 26, 42, 21, 34, 47, 21, 48, 30, 27, 50, 38, 45, 46, 35, 29, 50, 26, 47, 23, 34, 34, 47, 45, 45, 36, 21, 28, 35, 50, 22, 45, 48, 20, 27, 38, 32, 64, 37, 28, 39, 41, 40, 49, 27, 34, 23, 31, 34, 25, 22, 32, 31, 25, 47, 21, 28, 46, 33, 43, 38, 47, 45, 20, 45, 36, 37, 31, 39, 26, 32, 20, 42, 33, 20, 29, 23, 39, 20, 45, 20, 48, 23, 32, 33, 61, 45, 38, 34, 43, 47, 22, 29, 28, 40, 25, 30, 38, 36, 32, 37, 30, 39, 32, 47, 26, 37, 55, 21, 23, 49, 59, 32, 43, 41, 45, 33, 40, 33, 50, 30, 41, 35, 49, 46, 48, 36, 22, 42, 21, 29, 35, 41, 29, 34, 37, 28, 49, 23, 46, 39, 22, 49, 43, 27, 31, 20, 24, 49, 24, 39, 37, 45, 45, 44, 23, 30, 26, 43, 26, 28, 27, 24, 40, 36, 21, 27, 47, 42, 32, 28, 24, 49, 46, 28, 48, 29, 47, 43, 25, 48, 24, 42, 31, 42, 37, 41, 20, 20, 70, 49, 35, 32, 29, 27, 27, 38, 35, 42, 21, 37, 26, 47, 37, 46, 38, 33, 24, 31, 42, 32, 41, 43, 20, 35, 27, 43, 32, 21, 20, 22, 36, 46, 47, 45, 47, 47, 38, 49, 35, 49, 28, 30, 39, 25, 40, 36, 76, 39, 44, 24, 39, 21, 30, 27, 37, 42, 32, 42, 21, 33, 49, 31, 38, 20, 39, 48, 39, 30, 33, 36, 36, 45, 40, 46, 30, 31, 49, 41, 35, 27, 23, 21, 34, 22, 48, 43, 32, 20, 24, 40, 30, 21, 25, 34, 48, 55, 25, 38, 39, 28, 24, 21, 46, 25, 34, 25, 23, 20, 23, 42, 27, 33, 28, 43, 48, 48, 45, 43, 44, 24, 31, 44, 59, 55, 29, 39, 20, 25, 42, 36, 37, 30, 21, 34, 42, 20, 40, 34, 31, 36, 48, 33, 37, 27, 39, 36, 36, 41, 37, 47, 15, 44, 35, 41, 49, 31, 20, 45, 33, 47, 20, 47, 40, 30, 22, 27, 34, 46, 31, 24, 41, 55, 30, 33, 43, 27, 60, 27, 49, 31, 20, 24, 33, 32, 40, 27, 40, 26, 44, 33, 34, 48, 25, 39, 45, 24, 46, 44, 13, 35, 30, 34, 27, 30, 50, 34, 23, 48, 34, 48, 24, 47, 24, 47, 20, 20, 31, 38, 26, 25, 48, 44, 21, 46, 46, 55, 31, 20, 29, 33, 34, 32, 27, 21, 27, 36, 43, 25, 46, 24, 39, 31, 22, 47, 20, 29, 38, 34, 46, 35, 34, 38, 18, 37, 43, 27, 30, 22, 49, 46, 48, 46, 48, 27, 43, 48, 41, 22, 46, 21, 31, 26, 20, 34, 43, 26, 50, 35, 50, 23, 37, 29, 21, 36, 22, 22, 46, 23, 49, 48, 33, 22, 22, 25, 20, 42, 25, 23, 37, 37, 42, 51, 40, 43, 47, 23, 35, 34, 25, 45, 47, 49, 40, 29, 39, 24, 25, 36, 50, 45, 26, 21, 42, 32, 31, 33, 45, 76, 70, 50, 28, 50, 28, 44, 27, 30, 43, 29, 48, 33, 40, 48, 41, 21, 32, 43, 30, 35, 45, 34, 26, 39, 41, 41, 64, 18, 49, 48, 46, 26, 37, 35, 23, 22, 39, 44, 27, 46, 33, 33, 24, 31, 41, 22, 46, 43, 15, 15, 26, 44, 20, 40, 23, 24, 29, 49, 34, 28, 37, 45, 46, 22, 39, 27, 36, 38, 44, 31, 23, 22, 28, 21, 37, 31, 25, 26, 34, 29, 20, 42, 22, 47, 20, 33, 39, 33, 40, 46, 48, 21, 45, 33, 44, 33, 39, 39, 41, 40, 33, 28, 26, 29, 46, 33, 48, 40, 23, 40, 37, 24, 27, 21, 23, 44, 35, 43, 40, 35, 25, 43, 50, 45, 52, 48, 31, 29, 23, 31, 23, 24, 28, 44, 22, 46, 22, 38, 47, 48, 40, 32, 49, 43, 41, 30, 28, 43, 41, 30, 31, 32, 43, 26, 27, 24, 22, 46, 37, 49, 21, 25, 37, 45, 32, 29, 26, 28, 27, 20, 44, 42, 41, 26, 26, 26, 41, 20, 22, 23, 33, 28, 44, 46, 21, 41, 31, 31, 23, 37, 26, 24, 47, 45, 55, 46, 50, 37, 44, 49, 45, 27, 31, 33, 31, 35, 26, 34, 46, 41, 43, 26, 36, 20, 27, 37, 24, 36, 29, 28, 29, 38, 48, 40, 41, 30, 35, 28, 45, 24, 41, 48, 50, 33, 32, 27, 35, 23, 35, 40, 35, 31, 50, 40, 38, 38, 40, 33, 36, 20, 32, 36, 19, 11, 49, 27, 29, 42, 33, 44, 22, 48, 33, 45, 20, 46, 40, 45, 36, 31, 46, 35, 28, 31, 27, 22, 30, 44, 30, 24, 45, 23, 26, 28, 49, 49, 29, 49, 39, 36, 39, 30, 44, 20, 21, 36, 32, 36, 34, 48, 33, 31, 36, 25, 48, 27, 44, 33, 29, 49, 20, 31, 39, 20, 34, 50, 40, 28, 50, 28, 46, 24, 24, 39, 40, 49, 44, 35, 22, 62, 26, 31, 25, 30, 27, 23, 34, 22, 42, 37, 30, 27, 25, 34, 38, 26, 38, 50, 22, 32, 31, 40, 22, 41, 45, 45, 39, 49, 27, 34, 20, 48, 29, 43, 41, 41, 36, 49, 38, 33, 26, 47, 34, 34, 40, 40, 33, 49, 27, 49, 56, 37, 33, 27, 46, 44, 26, 48, 23, 45, 49, 28, 37, 34, 22, 29, 34, 38, 41, 42, 28, 38, 23, 31, 46, 48, 29, 46, 26, 18, 32, 21, 46, 42, 31, 38, 38, 20, 46, 30, 30, 43, 49, 43, 37, 35, 34, 38, 44, 21, 44, 25, 24, 38, 45, 51, 34, 44, 44, 38, 31, 48, 21, 40, 40, 50, 20, 48, 47, 21, 39, 44, 28, 45, 20, 38, 26, 44, 49, 22, 31, 41, 25, 31, 41, 43, 43, 24, 21, 23, 38, 31, 36, 36, 34, 21, 45, 26, 50, 41, 39, 22, 46, 44, 25, 39, 37, 31, 47, 24, 36, 48, 28, 48, 21, 25, 25, 31, 40, 32, 24, 42, 21, 34, 27, 30, 39, 20, 37, 46, 47, 11, 23, 29, 38, 32, 43, 31, 29, 31, 30, 50, 40, 23, 26, 40, 21, 43, 29, 38, 23, 20, 36, 28, 44, 49, 32, 34, 30, 29, 22, 26, 32, 29, 34, 24, 24, 33, 26, 40, 44, 24, 20, 34, 34, 45, 41, 55, 23, 24, 32, 29, 36, 46, 32, 34, 24, 40, 26, 20, 31, 22, 42, 26, 37, 38, 35, 33, 39, 45, 24, 35, 23, 37, 55, 49, 26, 33, 37, 22, 85, 22, 31, 38, 45, 31, 36, 46, 32, 39, 50, 46, 36, 29, 32, 44, 42, 47, 44, 43, 48, 21, 50, 29, 41, 37, 22, 31, 42, 42, 45, 36, 20, 39, 42, 23, 26, 33, 31, 50, 44, 45, 46, 27, 28, 40, 30, 34, 46, 32, 27, 34, 34, 34, 46, 32, 24, 27, 20, 36, 29, 25, 29, 25, 44, 47, 48, 45, 35, 31, 50, 33, 29, 48, 44, 25, 50, 23, 21, 41, 44, 43, 28, 43, 48, 38, 31, 26, 32, 44, 27, 43, 25, 22, 21, 48, 33, 34, 43, 44, 44, 32, 29, 77, 39, 39, 36, 42, 21, 50, 24, 44, 37, 27, 37, 38, 48, 30, 25, 40, 22, 34, 32, 31, 43, 31, 31, 34, 45, 48, 28, 22, 45, 30, 38, 20, 28, 24, 22, 35, 33, 31, 35, 35, 50, 26, 38, 45, 30, 37, 37, 36, 25, 37, 30, 36, 27, 48, 26, 26, 34, 44, 39, 45, 40, 42, 43, 34, 38, 35, 31, 32, 47, 39, 44, 39, 50, 22, 35, 45, 44, 36, 28, 43, 48, 28, 21, 37, 34, 40, 45, 28, 29, 48, 31, 32, 21, 32, 43, 21, 34, 34, 44, 27, 49, 23, 25, 50, 34, 20, 42, 25, 50, 32, 39, 50, 38, 40, 28, 42, 42, 36, 24, 23, 29, 37, 33, 32, 35, 40, 37, 42, 20, 29, 43, 34, 47]}],\n",
              "                        {\"legend\": {\"tracegroupgap\": 0}, \"template\": {\"data\": {\"bar\": [{\"error_x\": {\"color\": \"#2a3f5f\"}, \"error_y\": {\"color\": \"#2a3f5f\"}, \"marker\": {\"line\": {\"color\": \"#E5ECF6\", \"width\": 0.5}}, \"type\": \"bar\"}], \"barpolar\": [{\"marker\": {\"line\": {\"color\": \"#E5ECF6\", \"width\": 0.5}}, \"type\": \"barpolar\"}], \"carpet\": [{\"aaxis\": {\"endlinecolor\": \"#2a3f5f\", \"gridcolor\": \"white\", \"linecolor\": \"white\", \"minorgridcolor\": \"white\", \"startlinecolor\": \"#2a3f5f\"}, \"baxis\": {\"endlinecolor\": \"#2a3f5f\", \"gridcolor\": \"white\", \"linecolor\": \"white\", \"minorgridcolor\": \"white\", \"startlinecolor\": \"#2a3f5f\"}, \"type\": \"carpet\"}], \"choropleth\": [{\"colorbar\": {\"outlinewidth\": 0, \"ticks\": \"\"}, \"type\": \"choropleth\"}], \"contour\": [{\"colorbar\": {\"outlinewidth\": 0, \"ticks\": \"\"}, \"colorscale\": [[0.0, \"#0d0887\"], [0.1111111111111111, \"#46039f\"], [0.2222222222222222, \"#7201a8\"], [0.3333333333333333, \"#9c179e\"], [0.4444444444444444, \"#bd3786\"], [0.5555555555555556, \"#d8576b\"], [0.6666666666666666, \"#ed7953\"], [0.7777777777777778, \"#fb9f3a\"], [0.8888888888888888, \"#fdca26\"], [1.0, \"#f0f921\"]], \"type\": \"contour\"}], \"contourcarpet\": [{\"colorbar\": {\"outlinewidth\": 0, \"ticks\": \"\"}, \"type\": \"contourcarpet\"}], \"heatmap\": [{\"colorbar\": {\"outlinewidth\": 0, \"ticks\": \"\"}, \"colorscale\": [[0.0, \"#0d0887\"], [0.1111111111111111, \"#46039f\"], [0.2222222222222222, \"#7201a8\"], [0.3333333333333333, \"#9c179e\"], [0.4444444444444444, \"#bd3786\"], [0.5555555555555556, \"#d8576b\"], [0.6666666666666666, \"#ed7953\"], [0.7777777777777778, \"#fb9f3a\"], [0.8888888888888888, \"#fdca26\"], [1.0, \"#f0f921\"]], \"type\": \"heatmap\"}], \"heatmapgl\": [{\"colorbar\": {\"outlinewidth\": 0, \"ticks\": \"\"}, \"colorscale\": [[0.0, \"#0d0887\"], [0.1111111111111111, \"#46039f\"], [0.2222222222222222, \"#7201a8\"], [0.3333333333333333, \"#9c179e\"], [0.4444444444444444, \"#bd3786\"], [0.5555555555555556, \"#d8576b\"], [0.6666666666666666, \"#ed7953\"], [0.7777777777777778, \"#fb9f3a\"], [0.8888888888888888, \"#fdca26\"], [1.0, \"#f0f921\"]], \"type\": \"heatmapgl\"}], \"histogram\": [{\"marker\": {\"colorbar\": {\"outlinewidth\": 0, \"ticks\": \"\"}}, \"type\": \"histogram\"}], \"histogram2d\": [{\"colorbar\": {\"outlinewidth\": 0, \"ticks\": \"\"}, \"colorscale\": [[0.0, \"#0d0887\"], [0.1111111111111111, \"#46039f\"], [0.2222222222222222, \"#7201a8\"], [0.3333333333333333, \"#9c179e\"], [0.4444444444444444, \"#bd3786\"], [0.5555555555555556, \"#d8576b\"], [0.6666666666666666, \"#ed7953\"], [0.7777777777777778, \"#fb9f3a\"], [0.8888888888888888, \"#fdca26\"], [1.0, \"#f0f921\"]], \"type\": \"histogram2d\"}], \"histogram2dcontour\": [{\"colorbar\": {\"outlinewidth\": 0, \"ticks\": \"\"}, \"colorscale\": [[0.0, \"#0d0887\"], [0.1111111111111111, \"#46039f\"], [0.2222222222222222, \"#7201a8\"], [0.3333333333333333, \"#9c179e\"], [0.4444444444444444, \"#bd3786\"], [0.5555555555555556, \"#d8576b\"], [0.6666666666666666, \"#ed7953\"], [0.7777777777777778, \"#fb9f3a\"], [0.8888888888888888, \"#fdca26\"], [1.0, \"#f0f921\"]], \"type\": \"histogram2dcontour\"}], \"mesh3d\": [{\"colorbar\": {\"outlinewidth\": 0, \"ticks\": \"\"}, \"type\": \"mesh3d\"}], \"parcoords\": [{\"line\": {\"colorbar\": {\"outlinewidth\": 0, \"ticks\": \"\"}}, \"type\": \"parcoords\"}], \"pie\": [{\"automargin\": true, \"type\": \"pie\"}], \"scatter\": [{\"marker\": {\"colorbar\": {\"outlinewidth\": 0, \"ticks\": \"\"}}, \"type\": \"scatter\"}], \"scatter3d\": [{\"line\": {\"colorbar\": {\"outlinewidth\": 0, \"ticks\": \"\"}}, \"marker\": {\"colorbar\": {\"outlinewidth\": 0, \"ticks\": \"\"}}, \"type\": \"scatter3d\"}], \"scattercarpet\": [{\"marker\": {\"colorbar\": {\"outlinewidth\": 0, \"ticks\": \"\"}}, \"type\": \"scattercarpet\"}], \"scattergeo\": [{\"marker\": {\"colorbar\": {\"outlinewidth\": 0, \"ticks\": \"\"}}, \"type\": \"scattergeo\"}], \"scattergl\": [{\"marker\": {\"colorbar\": {\"outlinewidth\": 0, \"ticks\": \"\"}}, \"type\": \"scattergl\"}], \"scattermapbox\": [{\"marker\": {\"colorbar\": {\"outlinewidth\": 0, \"ticks\": \"\"}}, \"type\": \"scattermapbox\"}], \"scatterpolar\": [{\"marker\": {\"colorbar\": {\"outlinewidth\": 0, \"ticks\": \"\"}}, \"type\": \"scatterpolar\"}], \"scatterpolargl\": [{\"marker\": {\"colorbar\": {\"outlinewidth\": 0, \"ticks\": \"\"}}, \"type\": \"scatterpolargl\"}], \"scatterternary\": [{\"marker\": {\"colorbar\": {\"outlinewidth\": 0, \"ticks\": \"\"}}, \"type\": \"scatterternary\"}], \"surface\": [{\"colorbar\": {\"outlinewidth\": 0, \"ticks\": \"\"}, \"colorscale\": [[0.0, \"#0d0887\"], [0.1111111111111111, \"#46039f\"], [0.2222222222222222, \"#7201a8\"], [0.3333333333333333, \"#9c179e\"], [0.4444444444444444, \"#bd3786\"], [0.5555555555555556, \"#d8576b\"], [0.6666666666666666, \"#ed7953\"], [0.7777777777777778, \"#fb9f3a\"], [0.8888888888888888, \"#fdca26\"], [1.0, \"#f0f921\"]], \"type\": \"surface\"}], \"table\": [{\"cells\": {\"fill\": {\"color\": \"#EBF0F8\"}, \"line\": {\"color\": \"white\"}}, \"header\": {\"fill\": {\"color\": \"#C8D4E3\"}, \"line\": {\"color\": \"white\"}}, \"type\": \"table\"}]}, \"layout\": {\"annotationdefaults\": {\"arrowcolor\": \"#2a3f5f\", \"arrowhead\": 0, \"arrowwidth\": 1}, \"coloraxis\": {\"colorbar\": {\"outlinewidth\": 0, \"ticks\": \"\"}}, \"colorscale\": {\"diverging\": [[0, \"#8e0152\"], [0.1, \"#c51b7d\"], [0.2, \"#de77ae\"], [0.3, \"#f1b6da\"], [0.4, \"#fde0ef\"], [0.5, \"#f7f7f7\"], [0.6, \"#e6f5d0\"], [0.7, \"#b8e186\"], [0.8, \"#7fbc41\"], [0.9, \"#4d9221\"], [1, \"#276419\"]], \"sequential\": [[0.0, \"#0d0887\"], [0.1111111111111111, \"#46039f\"], [0.2222222222222222, \"#7201a8\"], [0.3333333333333333, \"#9c179e\"], [0.4444444444444444, \"#bd3786\"], [0.5555555555555556, \"#d8576b\"], [0.6666666666666666, \"#ed7953\"], [0.7777777777777778, \"#fb9f3a\"], [0.8888888888888888, \"#fdca26\"], [1.0, \"#f0f921\"]], \"sequentialminus\": [[0.0, \"#0d0887\"], [0.1111111111111111, \"#46039f\"], [0.2222222222222222, \"#7201a8\"], [0.3333333333333333, \"#9c179e\"], [0.4444444444444444, \"#bd3786\"], [0.5555555555555556, \"#d8576b\"], [0.6666666666666666, \"#ed7953\"], [0.7777777777777778, \"#fb9f3a\"], [0.8888888888888888, \"#fdca26\"], [1.0, \"#f0f921\"]]}, \"colorway\": [\"#636efa\", \"#EF553B\", \"#00cc96\", \"#ab63fa\", \"#FFA15A\", \"#19d3f3\", \"#FF6692\", \"#B6E880\", \"#FF97FF\", \"#FECB52\"], \"font\": {\"color\": \"#2a3f5f\"}, \"geo\": {\"bgcolor\": \"white\", \"lakecolor\": \"white\", \"landcolor\": \"#E5ECF6\", \"showlakes\": true, \"showland\": true, \"subunitcolor\": \"white\"}, \"hoverlabel\": {\"align\": \"left\"}, \"hovermode\": \"closest\", \"mapbox\": {\"style\": \"light\"}, \"paper_bgcolor\": \"white\", \"plot_bgcolor\": \"#E5ECF6\", \"polar\": {\"angularaxis\": {\"gridcolor\": \"white\", \"linecolor\": \"white\", \"ticks\": \"\"}, \"bgcolor\": \"#E5ECF6\", \"radialaxis\": {\"gridcolor\": \"white\", \"linecolor\": \"white\", \"ticks\": \"\"}}, \"scene\": {\"xaxis\": {\"backgroundcolor\": \"#E5ECF6\", \"gridcolor\": \"white\", \"gridwidth\": 2, \"linecolor\": \"white\", \"showbackground\": true, \"ticks\": \"\", \"zerolinecolor\": \"white\"}, \"yaxis\": {\"backgroundcolor\": \"#E5ECF6\", \"gridcolor\": \"white\", \"gridwidth\": 2, \"linecolor\": \"white\", \"showbackground\": true, \"ticks\": \"\", \"zerolinecolor\": \"white\"}, \"zaxis\": {\"backgroundcolor\": \"#E5ECF6\", \"gridcolor\": \"white\", \"gridwidth\": 2, \"linecolor\": \"white\", \"showbackground\": true, \"ticks\": \"\", \"zerolinecolor\": \"white\"}}, \"shapedefaults\": {\"line\": {\"color\": \"#2a3f5f\"}}, \"ternary\": {\"aaxis\": {\"gridcolor\": \"white\", \"linecolor\": \"white\", \"ticks\": \"\"}, \"baxis\": {\"gridcolor\": \"white\", \"linecolor\": \"white\", \"ticks\": \"\"}, \"bgcolor\": \"#E5ECF6\", \"caxis\": {\"gridcolor\": \"white\", \"linecolor\": \"white\", \"ticks\": \"\"}}, \"title\": {\"x\": 0.05}, \"xaxis\": {\"automargin\": true, \"gridcolor\": \"white\", \"linecolor\": \"white\", \"ticks\": \"\", \"title\": {\"standoff\": 15}, \"zerolinecolor\": \"white\", \"zerolinewidth\": 2}, \"yaxis\": {\"automargin\": true, \"gridcolor\": \"white\", \"linecolor\": \"white\", \"ticks\": \"\", \"title\": {\"standoff\": 15}, \"zerolinecolor\": \"white\", \"zerolinewidth\": 2}}}, \"title\": {\"text\": \"NUMBER OF PRODUCT SOLD BASED ON DEALSIZE\"}},\n",
              "                        {\"responsive\": true}\n",
              "                    ).then(function(){\n",
              "                            \n",
              "var gd = document.getElementById('26f1c5ad-9b71-4063-88e7-572060714bb4');\n",
              "var x = new MutationObserver(function (mutations, observer) {{\n",
              "        var display = window.getComputedStyle(gd).display;\n",
              "        if (!display || display === 'none') {{\n",
              "            console.log([gd, 'removed!']);\n",
              "            Plotly.purge(gd);\n",
              "            observer.disconnect();\n",
              "        }}\n",
              "}});\n",
              "\n",
              "// Listen for the removal of the full notebook cells\n",
              "var notebookContainer = gd.closest('#notebook-container');\n",
              "if (notebookContainer) {{\n",
              "    x.observe(notebookContainer, {childList: true});\n",
              "}}\n",
              "\n",
              "// Listen for the clearing of the current output cell\n",
              "var outputEl = gd.closest('.output');\n",
              "if (outputEl) {{\n",
              "    x.observe(outputEl, {childList: true});\n",
              "}}\n",
              "\n",
              "                        })\n",
              "                };\n",
              "                \n",
              "            </script>\n",
              "        </div>\n",
              "</body>\n",
              "</html>"
            ]
          },
          "metadata": {}
        }
      ]
    },
    {
      "cell_type": "markdown",
      "metadata": {
        "id": "3P1WSMOH0SgD"
      },
      "source": [
        "### Checking what product that sold the most based on DealSize"
      ]
    },
    {
      "cell_type": "markdown",
      "metadata": {
        "id": "JtMxTp8C0XJb"
      },
      "source": [
        "from the table below we can see that Classic Cars still dominated the product sold in every DealSize (large,medium,small)"
      ]
    },
    {
      "cell_type": "code",
      "metadata": {
        "colab": {
          "base_uri": "https://localhost:8080/",
          "height": 708
        },
        "id": "3LJLJXa_IPCr",
        "outputId": "8f832371-0093-4af4-c6b5-6d8e4701faf7"
      },
      "source": [
        "df.groupby(['DEALSIZE','PRODUCTLINE']).agg({'QUANTITYORDERED':'sum'})"
      ],
      "execution_count": null,
      "outputs": [
        {
          "output_type": "execute_result",
          "data": {
            "text/html": [
              "<div>\n",
              "<style scoped>\n",
              "    .dataframe tbody tr th:only-of-type {\n",
              "        vertical-align: middle;\n",
              "    }\n",
              "\n",
              "    .dataframe tbody tr th {\n",
              "        vertical-align: top;\n",
              "    }\n",
              "\n",
              "    .dataframe thead th {\n",
              "        text-align: right;\n",
              "    }\n",
              "</style>\n",
              "<table border=\"1\" class=\"dataframe\">\n",
              "  <thead>\n",
              "    <tr style=\"text-align: right;\">\n",
              "      <th></th>\n",
              "      <th></th>\n",
              "      <th>QUANTITYORDERED</th>\n",
              "    </tr>\n",
              "    <tr>\n",
              "      <th>DEALSIZE</th>\n",
              "      <th>PRODUCTLINE</th>\n",
              "      <th></th>\n",
              "    </tr>\n",
              "  </thead>\n",
              "  <tbody>\n",
              "    <tr>\n",
              "      <th rowspan=\"6\" valign=\"top\">Large</th>\n",
              "      <th>Classic Cars</th>\n",
              "      <td>4506</td>\n",
              "    </tr>\n",
              "    <tr>\n",
              "      <th>Motorcycles</th>\n",
              "      <td>916</td>\n",
              "    </tr>\n",
              "    <tr>\n",
              "      <th>Planes</th>\n",
              "      <td>477</td>\n",
              "    </tr>\n",
              "    <tr>\n",
              "      <th>Trains</th>\n",
              "      <td>45</td>\n",
              "    </tr>\n",
              "    <tr>\n",
              "      <th>Trucks and Buses</th>\n",
              "      <td>358</td>\n",
              "    </tr>\n",
              "    <tr>\n",
              "      <th>Vintage Cars</th>\n",
              "      <td>1112</td>\n",
              "    </tr>\n",
              "    <tr>\n",
              "      <th rowspan=\"7\" valign=\"top\">Medium</th>\n",
              "      <th>Classic Cars</th>\n",
              "      <td>19178</td>\n",
              "    </tr>\n",
              "    <tr>\n",
              "      <th>Motorcycles</th>\n",
              "      <td>5929</td>\n",
              "    </tr>\n",
              "    <tr>\n",
              "      <th>Planes</th>\n",
              "      <td>5250</td>\n",
              "    </tr>\n",
              "    <tr>\n",
              "      <th>Ships</th>\n",
              "      <td>4311</td>\n",
              "    </tr>\n",
              "    <tr>\n",
              "      <th>Trains</th>\n",
              "      <td>1052</td>\n",
              "    </tr>\n",
              "    <tr>\n",
              "      <th>Trucks and Buses</th>\n",
              "      <td>6777</td>\n",
              "    </tr>\n",
              "    <tr>\n",
              "      <th>Vintage Cars</th>\n",
              "      <td>10022</td>\n",
              "    </tr>\n",
              "    <tr>\n",
              "      <th rowspan=\"7\" valign=\"top\">Small</th>\n",
              "      <th>Classic Cars</th>\n",
              "      <td>10308</td>\n",
              "    </tr>\n",
              "    <tr>\n",
              "      <th>Motorcycles</th>\n",
              "      <td>4818</td>\n",
              "    </tr>\n",
              "    <tr>\n",
              "      <th>Planes</th>\n",
              "      <td>5000</td>\n",
              "    </tr>\n",
              "    <tr>\n",
              "      <th>Ships</th>\n",
              "      <td>3816</td>\n",
              "    </tr>\n",
              "    <tr>\n",
              "      <th>Trains</th>\n",
              "      <td>1615</td>\n",
              "    </tr>\n",
              "    <tr>\n",
              "      <th>Trucks and Buses</th>\n",
              "      <td>3642</td>\n",
              "    </tr>\n",
              "    <tr>\n",
              "      <th>Vintage Cars</th>\n",
              "      <td>9935</td>\n",
              "    </tr>\n",
              "  </tbody>\n",
              "</table>\n",
              "</div>"
            ],
            "text/plain": [
              "                           QUANTITYORDERED\n",
              "DEALSIZE PRODUCTLINE                      \n",
              "Large    Classic Cars                 4506\n",
              "         Motorcycles                   916\n",
              "         Planes                        477\n",
              "         Trains                         45\n",
              "         Trucks and Buses              358\n",
              "         Vintage Cars                 1112\n",
              "Medium   Classic Cars                19178\n",
              "         Motorcycles                  5929\n",
              "         Planes                       5250\n",
              "         Ships                        4311\n",
              "         Trains                       1052\n",
              "         Trucks and Buses             6777\n",
              "         Vintage Cars                10022\n",
              "Small    Classic Cars                10308\n",
              "         Motorcycles                  4818\n",
              "         Planes                       5000\n",
              "         Ships                        3816\n",
              "         Trains                       1615\n",
              "         Trucks and Buses             3642\n",
              "         Vintage Cars                 9935"
            ]
          },
          "metadata": {},
          "execution_count": 20
        }
      ]
    },
    {
      "cell_type": "code",
      "metadata": {
        "colab": {
          "base_uri": "https://localhost:8080/",
          "height": 143
        },
        "id": "ENz_hrXQBggK",
        "outputId": "748a4b89-b0f8-4fdf-eff7-b08cdfd98a9a"
      },
      "source": [
        "df_dealsize = df.groupby(['DEALSIZE','PRODUCTLINE']).agg({'QUANTITYORDERED':'sum'})\n",
        "df_dealsize = df_dealsize.query(\"PRODUCTLINE=='Classic Cars'\").sort_values(\"QUANTITYORDERED\", ascending=False)\n",
        "df_dealsize.reset_index(inplace=True)\n",
        "df_dealsize"
      ],
      "execution_count": null,
      "outputs": [
        {
          "output_type": "execute_result",
          "data": {
            "text/html": [
              "<div>\n",
              "<style scoped>\n",
              "    .dataframe tbody tr th:only-of-type {\n",
              "        vertical-align: middle;\n",
              "    }\n",
              "\n",
              "    .dataframe tbody tr th {\n",
              "        vertical-align: top;\n",
              "    }\n",
              "\n",
              "    .dataframe thead th {\n",
              "        text-align: right;\n",
              "    }\n",
              "</style>\n",
              "<table border=\"1\" class=\"dataframe\">\n",
              "  <thead>\n",
              "    <tr style=\"text-align: right;\">\n",
              "      <th></th>\n",
              "      <th>DEALSIZE</th>\n",
              "      <th>PRODUCTLINE</th>\n",
              "      <th>QUANTITYORDERED</th>\n",
              "    </tr>\n",
              "  </thead>\n",
              "  <tbody>\n",
              "    <tr>\n",
              "      <th>0</th>\n",
              "      <td>Medium</td>\n",
              "      <td>Classic Cars</td>\n",
              "      <td>19178</td>\n",
              "    </tr>\n",
              "    <tr>\n",
              "      <th>1</th>\n",
              "      <td>Small</td>\n",
              "      <td>Classic Cars</td>\n",
              "      <td>10308</td>\n",
              "    </tr>\n",
              "    <tr>\n",
              "      <th>2</th>\n",
              "      <td>Large</td>\n",
              "      <td>Classic Cars</td>\n",
              "      <td>4506</td>\n",
              "    </tr>\n",
              "  </tbody>\n",
              "</table>\n",
              "</div>"
            ],
            "text/plain": [
              "  DEALSIZE   PRODUCTLINE  QUANTITYORDERED\n",
              "0   Medium  Classic Cars            19178\n",
              "1    Small  Classic Cars            10308\n",
              "2    Large  Classic Cars             4506"
            ]
          },
          "metadata": {},
          "execution_count": 21
        }
      ]
    },
    {
      "cell_type": "code",
      "metadata": {
        "colab": {
          "base_uri": "https://localhost:8080/",
          "height": 542
        },
        "id": "r0REIFfDKnhR",
        "outputId": "5af9c02d-d3ef-4603-aa98-bbbed2b1b742"
      },
      "source": [
        "fig = px.pie(df_dealsize,'DEALSIZE','QUANTITYORDERED', title=\"NUMBER OF CLASICC CARS SOLD BASED ON DEALSIZE\")\n",
        "fig.update_traces(textposition='inside', textinfo='percent+label')"
      ],
      "execution_count": null,
      "outputs": [
        {
          "output_type": "display_data",
          "data": {
            "text/html": [
              "<html>\n",
              "<head><meta charset=\"utf-8\" /></head>\n",
              "<body>\n",
              "    <div>\n",
              "            <script src=\"https://cdnjs.cloudflare.com/ajax/libs/mathjax/2.7.5/MathJax.js?config=TeX-AMS-MML_SVG\"></script><script type=\"text/javascript\">if (window.MathJax) {MathJax.Hub.Config({SVG: {font: \"STIX-Web\"}});}</script>\n",
              "                <script type=\"text/javascript\">window.PlotlyConfig = {MathJaxConfig: 'local'};</script>\n",
              "        <script src=\"https://cdn.plot.ly/plotly-latest.min.js\"></script>    \n",
              "            <div id=\"35a1ae32-537f-4706-9a9a-25a9b048ce1b\" class=\"plotly-graph-div\" style=\"height:525px; width:100%;\"></div>\n",
              "            <script type=\"text/javascript\">\n",
              "                \n",
              "                    window.PLOTLYENV=window.PLOTLYENV || {};\n",
              "                    \n",
              "                if (document.getElementById(\"35a1ae32-537f-4706-9a9a-25a9b048ce1b\")) {\n",
              "                    Plotly.newPlot(\n",
              "                        '35a1ae32-537f-4706-9a9a-25a9b048ce1b',\n",
              "                        [{\"domain\": {\"x\": [0.0, 1.0], \"y\": [0.0, 1.0]}, \"hoverlabel\": {\"namelength\": 0}, \"hovertemplate\": \"DEALSIZE=%{label}<br>QUANTITYORDERED=%{value}\", \"labels\": [\"Medium\", \"Small\", \"Large\"], \"legendgroup\": \"\", \"name\": \"\", \"showlegend\": true, \"textinfo\": \"percent+label\", \"textposition\": \"inside\", \"type\": \"pie\", \"values\": [19178, 10308, 4506]}],\n",
              "                        {\"legend\": {\"tracegroupgap\": 0}, \"template\": {\"data\": {\"bar\": [{\"error_x\": {\"color\": \"#2a3f5f\"}, \"error_y\": {\"color\": \"#2a3f5f\"}, \"marker\": {\"line\": {\"color\": \"#E5ECF6\", \"width\": 0.5}}, \"type\": \"bar\"}], \"barpolar\": [{\"marker\": {\"line\": {\"color\": \"#E5ECF6\", \"width\": 0.5}}, \"type\": \"barpolar\"}], \"carpet\": [{\"aaxis\": {\"endlinecolor\": \"#2a3f5f\", \"gridcolor\": \"white\", \"linecolor\": \"white\", \"minorgridcolor\": \"white\", \"startlinecolor\": \"#2a3f5f\"}, \"baxis\": {\"endlinecolor\": \"#2a3f5f\", \"gridcolor\": \"white\", \"linecolor\": \"white\", \"minorgridcolor\": \"white\", \"startlinecolor\": \"#2a3f5f\"}, \"type\": \"carpet\"}], \"choropleth\": [{\"colorbar\": {\"outlinewidth\": 0, \"ticks\": \"\"}, \"type\": \"choropleth\"}], \"contour\": [{\"colorbar\": {\"outlinewidth\": 0, \"ticks\": \"\"}, \"colorscale\": [[0.0, \"#0d0887\"], [0.1111111111111111, \"#46039f\"], [0.2222222222222222, \"#7201a8\"], [0.3333333333333333, \"#9c179e\"], [0.4444444444444444, \"#bd3786\"], [0.5555555555555556, \"#d8576b\"], [0.6666666666666666, \"#ed7953\"], [0.7777777777777778, \"#fb9f3a\"], [0.8888888888888888, \"#fdca26\"], [1.0, \"#f0f921\"]], \"type\": \"contour\"}], \"contourcarpet\": [{\"colorbar\": {\"outlinewidth\": 0, \"ticks\": \"\"}, \"type\": \"contourcarpet\"}], \"heatmap\": [{\"colorbar\": {\"outlinewidth\": 0, \"ticks\": \"\"}, \"colorscale\": [[0.0, \"#0d0887\"], [0.1111111111111111, \"#46039f\"], [0.2222222222222222, \"#7201a8\"], [0.3333333333333333, \"#9c179e\"], [0.4444444444444444, \"#bd3786\"], [0.5555555555555556, \"#d8576b\"], [0.6666666666666666, \"#ed7953\"], [0.7777777777777778, \"#fb9f3a\"], [0.8888888888888888, \"#fdca26\"], [1.0, \"#f0f921\"]], \"type\": \"heatmap\"}], \"heatmapgl\": [{\"colorbar\": {\"outlinewidth\": 0, \"ticks\": \"\"}, \"colorscale\": [[0.0, \"#0d0887\"], [0.1111111111111111, \"#46039f\"], [0.2222222222222222, \"#7201a8\"], [0.3333333333333333, \"#9c179e\"], [0.4444444444444444, \"#bd3786\"], [0.5555555555555556, \"#d8576b\"], [0.6666666666666666, \"#ed7953\"], [0.7777777777777778, \"#fb9f3a\"], [0.8888888888888888, \"#fdca26\"], [1.0, \"#f0f921\"]], \"type\": \"heatmapgl\"}], \"histogram\": [{\"marker\": {\"colorbar\": {\"outlinewidth\": 0, \"ticks\": \"\"}}, \"type\": \"histogram\"}], \"histogram2d\": [{\"colorbar\": {\"outlinewidth\": 0, \"ticks\": \"\"}, \"colorscale\": [[0.0, \"#0d0887\"], [0.1111111111111111, \"#46039f\"], [0.2222222222222222, \"#7201a8\"], [0.3333333333333333, \"#9c179e\"], [0.4444444444444444, \"#bd3786\"], [0.5555555555555556, \"#d8576b\"], [0.6666666666666666, \"#ed7953\"], [0.7777777777777778, \"#fb9f3a\"], [0.8888888888888888, \"#fdca26\"], [1.0, \"#f0f921\"]], \"type\": \"histogram2d\"}], \"histogram2dcontour\": [{\"colorbar\": {\"outlinewidth\": 0, \"ticks\": \"\"}, \"colorscale\": [[0.0, \"#0d0887\"], [0.1111111111111111, \"#46039f\"], [0.2222222222222222, \"#7201a8\"], [0.3333333333333333, \"#9c179e\"], [0.4444444444444444, \"#bd3786\"], [0.5555555555555556, \"#d8576b\"], [0.6666666666666666, \"#ed7953\"], [0.7777777777777778, \"#fb9f3a\"], [0.8888888888888888, \"#fdca26\"], [1.0, \"#f0f921\"]], \"type\": \"histogram2dcontour\"}], \"mesh3d\": [{\"colorbar\": {\"outlinewidth\": 0, \"ticks\": \"\"}, \"type\": \"mesh3d\"}], \"parcoords\": [{\"line\": {\"colorbar\": {\"outlinewidth\": 0, \"ticks\": \"\"}}, \"type\": \"parcoords\"}], \"pie\": [{\"automargin\": true, \"type\": \"pie\"}], \"scatter\": [{\"marker\": {\"colorbar\": {\"outlinewidth\": 0, \"ticks\": \"\"}}, \"type\": \"scatter\"}], \"scatter3d\": [{\"line\": {\"colorbar\": {\"outlinewidth\": 0, \"ticks\": \"\"}}, \"marker\": {\"colorbar\": {\"outlinewidth\": 0, \"ticks\": \"\"}}, \"type\": \"scatter3d\"}], \"scattercarpet\": [{\"marker\": {\"colorbar\": {\"outlinewidth\": 0, \"ticks\": \"\"}}, \"type\": \"scattercarpet\"}], \"scattergeo\": [{\"marker\": {\"colorbar\": {\"outlinewidth\": 0, \"ticks\": \"\"}}, \"type\": \"scattergeo\"}], \"scattergl\": [{\"marker\": {\"colorbar\": {\"outlinewidth\": 0, \"ticks\": \"\"}}, \"type\": \"scattergl\"}], \"scattermapbox\": [{\"marker\": {\"colorbar\": {\"outlinewidth\": 0, \"ticks\": \"\"}}, \"type\": \"scattermapbox\"}], \"scatterpolar\": [{\"marker\": {\"colorbar\": {\"outlinewidth\": 0, \"ticks\": \"\"}}, \"type\": \"scatterpolar\"}], \"scatterpolargl\": [{\"marker\": {\"colorbar\": {\"outlinewidth\": 0, \"ticks\": \"\"}}, \"type\": \"scatterpolargl\"}], \"scatterternary\": [{\"marker\": {\"colorbar\": {\"outlinewidth\": 0, \"ticks\": \"\"}}, \"type\": \"scatterternary\"}], \"surface\": [{\"colorbar\": {\"outlinewidth\": 0, \"ticks\": \"\"}, \"colorscale\": [[0.0, \"#0d0887\"], [0.1111111111111111, \"#46039f\"], [0.2222222222222222, \"#7201a8\"], [0.3333333333333333, \"#9c179e\"], [0.4444444444444444, \"#bd3786\"], [0.5555555555555556, \"#d8576b\"], [0.6666666666666666, \"#ed7953\"], [0.7777777777777778, \"#fb9f3a\"], [0.8888888888888888, \"#fdca26\"], [1.0, \"#f0f921\"]], \"type\": \"surface\"}], \"table\": [{\"cells\": {\"fill\": {\"color\": \"#EBF0F8\"}, \"line\": {\"color\": \"white\"}}, \"header\": {\"fill\": {\"color\": \"#C8D4E3\"}, \"line\": {\"color\": \"white\"}}, \"type\": \"table\"}]}, \"layout\": {\"annotationdefaults\": {\"arrowcolor\": \"#2a3f5f\", \"arrowhead\": 0, \"arrowwidth\": 1}, \"coloraxis\": {\"colorbar\": {\"outlinewidth\": 0, \"ticks\": \"\"}}, \"colorscale\": {\"diverging\": [[0, \"#8e0152\"], [0.1, \"#c51b7d\"], [0.2, \"#de77ae\"], [0.3, \"#f1b6da\"], [0.4, \"#fde0ef\"], [0.5, \"#f7f7f7\"], [0.6, \"#e6f5d0\"], [0.7, \"#b8e186\"], [0.8, \"#7fbc41\"], [0.9, \"#4d9221\"], [1, \"#276419\"]], \"sequential\": [[0.0, \"#0d0887\"], [0.1111111111111111, \"#46039f\"], [0.2222222222222222, \"#7201a8\"], [0.3333333333333333, \"#9c179e\"], [0.4444444444444444, \"#bd3786\"], [0.5555555555555556, \"#d8576b\"], [0.6666666666666666, \"#ed7953\"], [0.7777777777777778, \"#fb9f3a\"], [0.8888888888888888, \"#fdca26\"], [1.0, \"#f0f921\"]], \"sequentialminus\": [[0.0, \"#0d0887\"], [0.1111111111111111, \"#46039f\"], [0.2222222222222222, \"#7201a8\"], [0.3333333333333333, \"#9c179e\"], [0.4444444444444444, \"#bd3786\"], [0.5555555555555556, \"#d8576b\"], [0.6666666666666666, \"#ed7953\"], [0.7777777777777778, \"#fb9f3a\"], [0.8888888888888888, \"#fdca26\"], [1.0, \"#f0f921\"]]}, \"colorway\": [\"#636efa\", \"#EF553B\", \"#00cc96\", \"#ab63fa\", \"#FFA15A\", \"#19d3f3\", \"#FF6692\", \"#B6E880\", \"#FF97FF\", \"#FECB52\"], \"font\": {\"color\": \"#2a3f5f\"}, \"geo\": {\"bgcolor\": \"white\", \"lakecolor\": \"white\", \"landcolor\": \"#E5ECF6\", \"showlakes\": true, \"showland\": true, \"subunitcolor\": \"white\"}, \"hoverlabel\": {\"align\": \"left\"}, \"hovermode\": \"closest\", \"mapbox\": {\"style\": \"light\"}, \"paper_bgcolor\": \"white\", \"plot_bgcolor\": \"#E5ECF6\", \"polar\": {\"angularaxis\": {\"gridcolor\": \"white\", \"linecolor\": \"white\", \"ticks\": \"\"}, \"bgcolor\": \"#E5ECF6\", \"radialaxis\": {\"gridcolor\": \"white\", \"linecolor\": \"white\", \"ticks\": \"\"}}, \"scene\": {\"xaxis\": {\"backgroundcolor\": \"#E5ECF6\", \"gridcolor\": \"white\", \"gridwidth\": 2, \"linecolor\": \"white\", \"showbackground\": true, \"ticks\": \"\", \"zerolinecolor\": \"white\"}, \"yaxis\": {\"backgroundcolor\": \"#E5ECF6\", \"gridcolor\": \"white\", \"gridwidth\": 2, \"linecolor\": \"white\", \"showbackground\": true, \"ticks\": \"\", \"zerolinecolor\": \"white\"}, \"zaxis\": {\"backgroundcolor\": \"#E5ECF6\", \"gridcolor\": \"white\", \"gridwidth\": 2, \"linecolor\": \"white\", \"showbackground\": true, \"ticks\": \"\", \"zerolinecolor\": \"white\"}}, \"shapedefaults\": {\"line\": {\"color\": \"#2a3f5f\"}}, \"ternary\": {\"aaxis\": {\"gridcolor\": \"white\", \"linecolor\": \"white\", \"ticks\": \"\"}, \"baxis\": {\"gridcolor\": \"white\", \"linecolor\": \"white\", \"ticks\": \"\"}, \"bgcolor\": \"#E5ECF6\", \"caxis\": {\"gridcolor\": \"white\", \"linecolor\": \"white\", \"ticks\": \"\"}}, \"title\": {\"x\": 0.05}, \"xaxis\": {\"automargin\": true, \"gridcolor\": \"white\", \"linecolor\": \"white\", \"ticks\": \"\", \"title\": {\"standoff\": 15}, \"zerolinecolor\": \"white\", \"zerolinewidth\": 2}, \"yaxis\": {\"automargin\": true, \"gridcolor\": \"white\", \"linecolor\": \"white\", \"ticks\": \"\", \"title\": {\"standoff\": 15}, \"zerolinecolor\": \"white\", \"zerolinewidth\": 2}}}, \"title\": {\"text\": \"NUMBER OF CLASICC CARS SOLD BASED ON DEALSIZE\"}},\n",
              "                        {\"responsive\": true}\n",
              "                    ).then(function(){\n",
              "                            \n",
              "var gd = document.getElementById('35a1ae32-537f-4706-9a9a-25a9b048ce1b');\n",
              "var x = new MutationObserver(function (mutations, observer) {{\n",
              "        var display = window.getComputedStyle(gd).display;\n",
              "        if (!display || display === 'none') {{\n",
              "            console.log([gd, 'removed!']);\n",
              "            Plotly.purge(gd);\n",
              "            observer.disconnect();\n",
              "        }}\n",
              "}});\n",
              "\n",
              "// Listen for the removal of the full notebook cells\n",
              "var notebookContainer = gd.closest('#notebook-container');\n",
              "if (notebookContainer) {{\n",
              "    x.observe(notebookContainer, {childList: true});\n",
              "}}\n",
              "\n",
              "// Listen for the clearing of the current output cell\n",
              "var outputEl = gd.closest('.output');\n",
              "if (outputEl) {{\n",
              "    x.observe(outputEl, {childList: true});\n",
              "}}\n",
              "\n",
              "                        })\n",
              "                };\n",
              "                \n",
              "            </script>\n",
              "        </div>\n",
              "</body>\n",
              "</html>"
            ]
          },
          "metadata": {}
        }
      ]
    },
    {
      "cell_type": "markdown",
      "metadata": {
        "id": "uUPldgO40xSQ"
      },
      "source": [
        "### Total sales based on Product"
      ]
    },
    {
      "cell_type": "code",
      "metadata": {
        "colab": {
          "base_uri": "https://localhost:8080/",
          "height": 269
        },
        "id": "fjIq6jdlHDHN",
        "outputId": "7322a477-fd4f-4efb-82e0-0f322fae36ea"
      },
      "source": [
        "top_salesproduct = df.groupby(['PRODUCTLINE'])[['SALES']].sum().sort_values('SALES', ascending=False)\n",
        "top_salesproduct.reset_index(inplace=True)\n",
        "top_salesproduct"
      ],
      "execution_count": null,
      "outputs": [
        {
          "output_type": "execute_result",
          "data": {
            "text/html": [
              "<div>\n",
              "<style scoped>\n",
              "    .dataframe tbody tr th:only-of-type {\n",
              "        vertical-align: middle;\n",
              "    }\n",
              "\n",
              "    .dataframe tbody tr th {\n",
              "        vertical-align: top;\n",
              "    }\n",
              "\n",
              "    .dataframe thead th {\n",
              "        text-align: right;\n",
              "    }\n",
              "</style>\n",
              "<table border=\"1\" class=\"dataframe\">\n",
              "  <thead>\n",
              "    <tr style=\"text-align: right;\">\n",
              "      <th></th>\n",
              "      <th>PRODUCTLINE</th>\n",
              "      <th>SALES</th>\n",
              "    </tr>\n",
              "  </thead>\n",
              "  <tbody>\n",
              "    <tr>\n",
              "      <th>0</th>\n",
              "      <td>Classic Cars</td>\n",
              "      <td>3919615.66</td>\n",
              "    </tr>\n",
              "    <tr>\n",
              "      <th>1</th>\n",
              "      <td>Vintage Cars</td>\n",
              "      <td>1903150.84</td>\n",
              "    </tr>\n",
              "    <tr>\n",
              "      <th>2</th>\n",
              "      <td>Motorcycles</td>\n",
              "      <td>1166388.34</td>\n",
              "    </tr>\n",
              "    <tr>\n",
              "      <th>3</th>\n",
              "      <td>Trucks and Buses</td>\n",
              "      <td>1127789.84</td>\n",
              "    </tr>\n",
              "    <tr>\n",
              "      <th>4</th>\n",
              "      <td>Planes</td>\n",
              "      <td>975003.57</td>\n",
              "    </tr>\n",
              "    <tr>\n",
              "      <th>5</th>\n",
              "      <td>Ships</td>\n",
              "      <td>714437.13</td>\n",
              "    </tr>\n",
              "    <tr>\n",
              "      <th>6</th>\n",
              "      <td>Trains</td>\n",
              "      <td>226243.47</td>\n",
              "    </tr>\n",
              "  </tbody>\n",
              "</table>\n",
              "</div>"
            ],
            "text/plain": [
              "        PRODUCTLINE       SALES\n",
              "0      Classic Cars  3919615.66\n",
              "1      Vintage Cars  1903150.84\n",
              "2       Motorcycles  1166388.34\n",
              "3  Trucks and Buses  1127789.84\n",
              "4            Planes   975003.57\n",
              "5             Ships   714437.13\n",
              "6            Trains   226243.47"
            ]
          },
          "metadata": {},
          "execution_count": 23
        }
      ]
    },
    {
      "cell_type": "code",
      "metadata": {
        "colab": {
          "base_uri": "https://localhost:8080/",
          "height": 542
        },
        "id": "nuu0z-W92Vwr",
        "outputId": "4abc5ded-26e3-49ac-821a-8fb39de2c912"
      },
      "source": [
        "fig = px.pie(top_salesproduct, 'PRODUCTLINE', 'SALES', title='TOTAL SALES BASE ON PRODUCTLINE')\n",
        "fig.update_traces(textposition='inside', textinfo='percent+label')"
      ],
      "execution_count": null,
      "outputs": [
        {
          "output_type": "display_data",
          "data": {
            "text/html": [
              "<html>\n",
              "<head><meta charset=\"utf-8\" /></head>\n",
              "<body>\n",
              "    <div>\n",
              "            <script src=\"https://cdnjs.cloudflare.com/ajax/libs/mathjax/2.7.5/MathJax.js?config=TeX-AMS-MML_SVG\"></script><script type=\"text/javascript\">if (window.MathJax) {MathJax.Hub.Config({SVG: {font: \"STIX-Web\"}});}</script>\n",
              "                <script type=\"text/javascript\">window.PlotlyConfig = {MathJaxConfig: 'local'};</script>\n",
              "        <script src=\"https://cdn.plot.ly/plotly-latest.min.js\"></script>    \n",
              "            <div id=\"98cfa799-4576-483f-9389-9bdb233bbbcb\" class=\"plotly-graph-div\" style=\"height:525px; width:100%;\"></div>\n",
              "            <script type=\"text/javascript\">\n",
              "                \n",
              "                    window.PLOTLYENV=window.PLOTLYENV || {};\n",
              "                    \n",
              "                if (document.getElementById(\"98cfa799-4576-483f-9389-9bdb233bbbcb\")) {\n",
              "                    Plotly.newPlot(\n",
              "                        '98cfa799-4576-483f-9389-9bdb233bbbcb',\n",
              "                        [{\"domain\": {\"x\": [0.0, 1.0], \"y\": [0.0, 1.0]}, \"hoverlabel\": {\"namelength\": 0}, \"hovertemplate\": \"PRODUCTLINE=%{label}<br>SALES=%{value}\", \"labels\": [\"Classic Cars\", \"Vintage Cars\", \"Motorcycles\", \"Trucks and Buses\", \"Planes\", \"Ships\", \"Trains\"], \"legendgroup\": \"\", \"name\": \"\", \"showlegend\": true, \"textinfo\": \"percent+label\", \"textposition\": \"inside\", \"type\": \"pie\", \"values\": [3919615.659999997, 1903150.8399999992, 1166388.3400000003, 1127789.8399999996, 975003.5700000001, 714437.13, 226243.46999999997]}],\n",
              "                        {\"legend\": {\"tracegroupgap\": 0}, \"template\": {\"data\": {\"bar\": [{\"error_x\": {\"color\": \"#2a3f5f\"}, \"error_y\": {\"color\": \"#2a3f5f\"}, \"marker\": {\"line\": {\"color\": \"#E5ECF6\", \"width\": 0.5}}, \"type\": \"bar\"}], \"barpolar\": [{\"marker\": {\"line\": {\"color\": \"#E5ECF6\", \"width\": 0.5}}, \"type\": \"barpolar\"}], \"carpet\": [{\"aaxis\": {\"endlinecolor\": \"#2a3f5f\", \"gridcolor\": \"white\", \"linecolor\": \"white\", \"minorgridcolor\": \"white\", \"startlinecolor\": \"#2a3f5f\"}, \"baxis\": {\"endlinecolor\": \"#2a3f5f\", \"gridcolor\": \"white\", \"linecolor\": \"white\", \"minorgridcolor\": \"white\", \"startlinecolor\": \"#2a3f5f\"}, \"type\": \"carpet\"}], \"choropleth\": [{\"colorbar\": {\"outlinewidth\": 0, \"ticks\": \"\"}, \"type\": \"choropleth\"}], \"contour\": [{\"colorbar\": {\"outlinewidth\": 0, \"ticks\": \"\"}, \"colorscale\": [[0.0, \"#0d0887\"], [0.1111111111111111, \"#46039f\"], [0.2222222222222222, \"#7201a8\"], [0.3333333333333333, \"#9c179e\"], [0.4444444444444444, \"#bd3786\"], [0.5555555555555556, \"#d8576b\"], [0.6666666666666666, \"#ed7953\"], [0.7777777777777778, \"#fb9f3a\"], [0.8888888888888888, \"#fdca26\"], [1.0, \"#f0f921\"]], \"type\": \"contour\"}], \"contourcarpet\": [{\"colorbar\": {\"outlinewidth\": 0, \"ticks\": \"\"}, \"type\": \"contourcarpet\"}], \"heatmap\": [{\"colorbar\": {\"outlinewidth\": 0, \"ticks\": \"\"}, \"colorscale\": [[0.0, \"#0d0887\"], [0.1111111111111111, \"#46039f\"], [0.2222222222222222, \"#7201a8\"], [0.3333333333333333, \"#9c179e\"], [0.4444444444444444, \"#bd3786\"], [0.5555555555555556, \"#d8576b\"], [0.6666666666666666, \"#ed7953\"], [0.7777777777777778, \"#fb9f3a\"], [0.8888888888888888, \"#fdca26\"], [1.0, \"#f0f921\"]], \"type\": \"heatmap\"}], \"heatmapgl\": [{\"colorbar\": {\"outlinewidth\": 0, \"ticks\": \"\"}, \"colorscale\": [[0.0, \"#0d0887\"], [0.1111111111111111, \"#46039f\"], [0.2222222222222222, \"#7201a8\"], [0.3333333333333333, \"#9c179e\"], [0.4444444444444444, \"#bd3786\"], [0.5555555555555556, \"#d8576b\"], [0.6666666666666666, \"#ed7953\"], [0.7777777777777778, \"#fb9f3a\"], [0.8888888888888888, \"#fdca26\"], [1.0, \"#f0f921\"]], \"type\": \"heatmapgl\"}], \"histogram\": [{\"marker\": {\"colorbar\": {\"outlinewidth\": 0, \"ticks\": \"\"}}, \"type\": \"histogram\"}], \"histogram2d\": [{\"colorbar\": {\"outlinewidth\": 0, \"ticks\": \"\"}, \"colorscale\": [[0.0, \"#0d0887\"], [0.1111111111111111, \"#46039f\"], [0.2222222222222222, \"#7201a8\"], [0.3333333333333333, \"#9c179e\"], [0.4444444444444444, \"#bd3786\"], [0.5555555555555556, \"#d8576b\"], [0.6666666666666666, \"#ed7953\"], [0.7777777777777778, \"#fb9f3a\"], [0.8888888888888888, \"#fdca26\"], [1.0, \"#f0f921\"]], \"type\": \"histogram2d\"}], \"histogram2dcontour\": [{\"colorbar\": {\"outlinewidth\": 0, \"ticks\": \"\"}, \"colorscale\": [[0.0, \"#0d0887\"], [0.1111111111111111, \"#46039f\"], [0.2222222222222222, \"#7201a8\"], [0.3333333333333333, \"#9c179e\"], [0.4444444444444444, \"#bd3786\"], [0.5555555555555556, \"#d8576b\"], [0.6666666666666666, \"#ed7953\"], [0.7777777777777778, \"#fb9f3a\"], [0.8888888888888888, \"#fdca26\"], [1.0, \"#f0f921\"]], \"type\": \"histogram2dcontour\"}], \"mesh3d\": [{\"colorbar\": {\"outlinewidth\": 0, \"ticks\": \"\"}, \"type\": \"mesh3d\"}], \"parcoords\": [{\"line\": {\"colorbar\": {\"outlinewidth\": 0, \"ticks\": \"\"}}, \"type\": \"parcoords\"}], \"pie\": [{\"automargin\": true, \"type\": \"pie\"}], \"scatter\": [{\"marker\": {\"colorbar\": {\"outlinewidth\": 0, \"ticks\": \"\"}}, \"type\": \"scatter\"}], \"scatter3d\": [{\"line\": {\"colorbar\": {\"outlinewidth\": 0, \"ticks\": \"\"}}, \"marker\": {\"colorbar\": {\"outlinewidth\": 0, \"ticks\": \"\"}}, \"type\": \"scatter3d\"}], \"scattercarpet\": [{\"marker\": {\"colorbar\": {\"outlinewidth\": 0, \"ticks\": \"\"}}, \"type\": \"scattercarpet\"}], \"scattergeo\": [{\"marker\": {\"colorbar\": {\"outlinewidth\": 0, \"ticks\": \"\"}}, \"type\": \"scattergeo\"}], \"scattergl\": [{\"marker\": {\"colorbar\": {\"outlinewidth\": 0, \"ticks\": \"\"}}, \"type\": \"scattergl\"}], \"scattermapbox\": [{\"marker\": {\"colorbar\": {\"outlinewidth\": 0, \"ticks\": \"\"}}, \"type\": \"scattermapbox\"}], \"scatterpolar\": [{\"marker\": {\"colorbar\": {\"outlinewidth\": 0, \"ticks\": \"\"}}, \"type\": \"scatterpolar\"}], \"scatterpolargl\": [{\"marker\": {\"colorbar\": {\"outlinewidth\": 0, \"ticks\": \"\"}}, \"type\": \"scatterpolargl\"}], \"scatterternary\": [{\"marker\": {\"colorbar\": {\"outlinewidth\": 0, \"ticks\": \"\"}}, \"type\": \"scatterternary\"}], \"surface\": [{\"colorbar\": {\"outlinewidth\": 0, \"ticks\": \"\"}, \"colorscale\": [[0.0, \"#0d0887\"], [0.1111111111111111, \"#46039f\"], [0.2222222222222222, \"#7201a8\"], [0.3333333333333333, \"#9c179e\"], [0.4444444444444444, \"#bd3786\"], [0.5555555555555556, \"#d8576b\"], [0.6666666666666666, \"#ed7953\"], [0.7777777777777778, \"#fb9f3a\"], [0.8888888888888888, \"#fdca26\"], [1.0, \"#f0f921\"]], \"type\": \"surface\"}], \"table\": [{\"cells\": {\"fill\": {\"color\": \"#EBF0F8\"}, \"line\": {\"color\": \"white\"}}, \"header\": {\"fill\": {\"color\": \"#C8D4E3\"}, \"line\": {\"color\": \"white\"}}, \"type\": \"table\"}]}, \"layout\": {\"annotationdefaults\": {\"arrowcolor\": \"#2a3f5f\", \"arrowhead\": 0, \"arrowwidth\": 1}, \"coloraxis\": {\"colorbar\": {\"outlinewidth\": 0, \"ticks\": \"\"}}, \"colorscale\": {\"diverging\": [[0, \"#8e0152\"], [0.1, \"#c51b7d\"], [0.2, \"#de77ae\"], [0.3, \"#f1b6da\"], [0.4, \"#fde0ef\"], [0.5, \"#f7f7f7\"], [0.6, \"#e6f5d0\"], [0.7, \"#b8e186\"], [0.8, \"#7fbc41\"], [0.9, \"#4d9221\"], [1, \"#276419\"]], \"sequential\": [[0.0, \"#0d0887\"], [0.1111111111111111, \"#46039f\"], [0.2222222222222222, \"#7201a8\"], [0.3333333333333333, \"#9c179e\"], [0.4444444444444444, \"#bd3786\"], [0.5555555555555556, \"#d8576b\"], [0.6666666666666666, \"#ed7953\"], [0.7777777777777778, \"#fb9f3a\"], [0.8888888888888888, \"#fdca26\"], [1.0, \"#f0f921\"]], \"sequentialminus\": [[0.0, \"#0d0887\"], [0.1111111111111111, \"#46039f\"], [0.2222222222222222, \"#7201a8\"], [0.3333333333333333, \"#9c179e\"], [0.4444444444444444, \"#bd3786\"], [0.5555555555555556, \"#d8576b\"], [0.6666666666666666, \"#ed7953\"], [0.7777777777777778, \"#fb9f3a\"], [0.8888888888888888, \"#fdca26\"], [1.0, \"#f0f921\"]]}, \"colorway\": [\"#636efa\", \"#EF553B\", \"#00cc96\", \"#ab63fa\", \"#FFA15A\", \"#19d3f3\", \"#FF6692\", \"#B6E880\", \"#FF97FF\", \"#FECB52\"], \"font\": {\"color\": \"#2a3f5f\"}, \"geo\": {\"bgcolor\": \"white\", \"lakecolor\": \"white\", \"landcolor\": \"#E5ECF6\", \"showlakes\": true, \"showland\": true, \"subunitcolor\": \"white\"}, \"hoverlabel\": {\"align\": \"left\"}, \"hovermode\": \"closest\", \"mapbox\": {\"style\": \"light\"}, \"paper_bgcolor\": \"white\", \"plot_bgcolor\": \"#E5ECF6\", \"polar\": {\"angularaxis\": {\"gridcolor\": \"white\", \"linecolor\": \"white\", \"ticks\": \"\"}, \"bgcolor\": \"#E5ECF6\", \"radialaxis\": {\"gridcolor\": \"white\", \"linecolor\": \"white\", \"ticks\": \"\"}}, \"scene\": {\"xaxis\": {\"backgroundcolor\": \"#E5ECF6\", \"gridcolor\": \"white\", \"gridwidth\": 2, \"linecolor\": \"white\", \"showbackground\": true, \"ticks\": \"\", \"zerolinecolor\": \"white\"}, \"yaxis\": {\"backgroundcolor\": \"#E5ECF6\", \"gridcolor\": \"white\", \"gridwidth\": 2, \"linecolor\": \"white\", \"showbackground\": true, \"ticks\": \"\", \"zerolinecolor\": \"white\"}, \"zaxis\": {\"backgroundcolor\": \"#E5ECF6\", \"gridcolor\": \"white\", \"gridwidth\": 2, \"linecolor\": \"white\", \"showbackground\": true, \"ticks\": \"\", \"zerolinecolor\": \"white\"}}, \"shapedefaults\": {\"line\": {\"color\": \"#2a3f5f\"}}, \"ternary\": {\"aaxis\": {\"gridcolor\": \"white\", \"linecolor\": \"white\", \"ticks\": \"\"}, \"baxis\": {\"gridcolor\": \"white\", \"linecolor\": \"white\", \"ticks\": \"\"}, \"bgcolor\": \"#E5ECF6\", \"caxis\": {\"gridcolor\": \"white\", \"linecolor\": \"white\", \"ticks\": \"\"}}, \"title\": {\"x\": 0.05}, \"xaxis\": {\"automargin\": true, \"gridcolor\": \"white\", \"linecolor\": \"white\", \"ticks\": \"\", \"title\": {\"standoff\": 15}, \"zerolinecolor\": \"white\", \"zerolinewidth\": 2}, \"yaxis\": {\"automargin\": true, \"gridcolor\": \"white\", \"linecolor\": \"white\", \"ticks\": \"\", \"title\": {\"standoff\": 15}, \"zerolinecolor\": \"white\", \"zerolinewidth\": 2}}}, \"title\": {\"text\": \"TOTAL SALES BASE ON PRODUCTLINE\"}},\n",
              "                        {\"responsive\": true}\n",
              "                    ).then(function(){\n",
              "                            \n",
              "var gd = document.getElementById('98cfa799-4576-483f-9389-9bdb233bbbcb');\n",
              "var x = new MutationObserver(function (mutations, observer) {{\n",
              "        var display = window.getComputedStyle(gd).display;\n",
              "        if (!display || display === 'none') {{\n",
              "            console.log([gd, 'removed!']);\n",
              "            Plotly.purge(gd);\n",
              "            observer.disconnect();\n",
              "        }}\n",
              "}});\n",
              "\n",
              "// Listen for the removal of the full notebook cells\n",
              "var notebookContainer = gd.closest('#notebook-container');\n",
              "if (notebookContainer) {{\n",
              "    x.observe(notebookContainer, {childList: true});\n",
              "}}\n",
              "\n",
              "// Listen for the clearing of the current output cell\n",
              "var outputEl = gd.closest('.output');\n",
              "if (outputEl) {{\n",
              "    x.observe(outputEl, {childList: true});\n",
              "}}\n",
              "\n",
              "                        })\n",
              "                };\n",
              "                \n",
              "            </script>\n",
              "        </div>\n",
              "</body>\n",
              "</html>"
            ]
          },
          "metadata": {}
        }
      ]
    },
    {
      "cell_type": "code",
      "metadata": {
        "colab": {
          "base_uri": "https://localhost:8080/",
          "height": 580
        },
        "id": "bTcyoCtSLNxQ",
        "outputId": "92ed54b5-d97c-4b41-9b85-df5561f0ba95"
      },
      "source": [
        "plt.figure(figsize=(20,10))\n",
        "sns.scatterplot(data=top_salesproduct, x='PRODUCTLINE', y='SALES', s=100, color='red')\n",
        "sns.barplot(data=top_salesproduct, x='PRODUCTLINE', y='SALES')\n",
        "sns.lineplot(data=top_salesproduct, x='PRODUCTLINE', y='SALES')\n",
        "plt.xticks(rotation=45, fontsize=13)\n",
        "plt.title(\"TOTAL SALES BASE ON PRODUCTLINE\", fontsize=30, color='red')\n",
        "plt.xlabel('PRODUCT', fontsize=15, color='Red')\n",
        "plt.ylabel('TOTAL SALES', fontsize=15, color='Red')"
      ],
      "execution_count": null,
      "outputs": [
        {
          "output_type": "execute_result",
          "data": {
            "text/plain": [
              "Text(0, 0.5, 'TOTAL SALES')"
            ]
          },
          "metadata": {},
          "execution_count": 25
        },
        {
          "output_type": "display_data",
          "data": {
            "image/png": "[encoded data removed]",
            "text/plain": [
              "<Figure size 1440x720 with 1 Axes>"
            ]
          },
          "metadata": {
            "needs_background": "light"
          }
        }
      ]
    },
    {
      "cell_type": "markdown",
      "metadata": {
        "id": "Cn1-uCVd3T_I"
      },
      "source": [
        "### Total Sales Based on Year"
      ]
    },
    {
      "cell_type": "code",
      "metadata": {
        "colab": {
          "base_uri": "https://localhost:8080/",
          "height": 175
        },
        "id": "1Wm9erodNHvg",
        "outputId": "d19c6356-e09b-434b-df93-4a4e90e0919a"
      },
      "source": [
        "df_year = df.groupby(['YEAR_ID'])[['SALES']].sum().sort_values(\"YEAR_ID\", ascending=True)\n",
        "df_year"
      ],
      "execution_count": null,
      "outputs": [
        {
          "output_type": "execute_result",
          "data": {
            "text/html": [
              "<div>\n",
              "<style scoped>\n",
              "    .dataframe tbody tr th:only-of-type {\n",
              "        vertical-align: middle;\n",
              "    }\n",
              "\n",
              "    .dataframe tbody tr th {\n",
              "        vertical-align: top;\n",
              "    }\n",
              "\n",
              "    .dataframe thead th {\n",
              "        text-align: right;\n",
              "    }\n",
              "</style>\n",
              "<table border=\"1\" class=\"dataframe\">\n",
              "  <thead>\n",
              "    <tr style=\"text-align: right;\">\n",
              "      <th></th>\n",
              "      <th>SALES</th>\n",
              "    </tr>\n",
              "    <tr>\n",
              "      <th>YEAR_ID</th>\n",
              "      <th></th>\n",
              "    </tr>\n",
              "  </thead>\n",
              "  <tbody>\n",
              "    <tr>\n",
              "      <th>2003</th>\n",
              "      <td>3516979.54</td>\n",
              "    </tr>\n",
              "    <tr>\n",
              "      <th>2004</th>\n",
              "      <td>4724162.60</td>\n",
              "    </tr>\n",
              "    <tr>\n",
              "      <th>2005</th>\n",
              "      <td>1791486.71</td>\n",
              "    </tr>\n",
              "  </tbody>\n",
              "</table>\n",
              "</div>"
            ],
            "text/plain": [
              "              SALES\n",
              "YEAR_ID            \n",
              "2003     3516979.54\n",
              "2004     4724162.60\n",
              "2005     1791486.71"
            ]
          },
          "metadata": {},
          "execution_count": 38
        }
      ]
    },
    {
      "cell_type": "code",
      "metadata": {
        "colab": {
          "base_uri": "https://localhost:8080/",
          "height": 667
        },
        "id": "SsCqdg5UUyfk",
        "outputId": "5c421e50-8732-433d-d59b-ad182f846560"
      },
      "source": [
        "plt.figure(figsize=(20,10))\n",
        "sns.scatterplot(data=df_year, x=\"YEAR_ID\", y='SALES', s=100, color='Red')\n",
        "sns.lineplot(data=df_year, x=\"YEAR_ID\", y='SALES')\n",
        "plt.xticks([2003,2004,2005],fontsize=15)\n",
        "plt.yticks(fontsize=15)\n",
        "plt.title('YEARLY SALES', fontsize=35, color='Red')\n",
        "plt.xlabel('YEAR', fontsize=15, color='Red')\n",
        "plt.ylabel('TOTAL SALES', fontsize=15, color='Red')"
      ],
      "execution_count": null,
      "outputs": [
        {
          "output_type": "execute_result",
          "data": {
            "text/plain": [
              "Text(0, 0.5, 'TOTAL SALES')"
            ]
          },
          "metadata": {},
          "execution_count": 39
        },
        {
          "output_type": "display_data",
          "data": {
            "image/png": "[encoded data removed]",
            "text/plain": [
              "<Figure size 1440x720 with 1 Axes>"
            ]
          },
          "metadata": {
            "needs_background": "light"
          }
        }
      ]
    },
    {
      "cell_type": "markdown",
      "metadata": {
        "id": "ZmnWd30_Dq4Z"
      },
      "source": [
        "### Quantity Order Per Year"
      ]
    },
    {
      "cell_type": "code",
      "metadata": {
        "colab": {
          "base_uri": "https://localhost:8080/",
          "height": 143
        },
        "id": "QOaL-DBdC9LJ",
        "outputId": "00d08c6f-40fa-4cfe-f808-666b4afbc60d"
      },
      "source": [
        "quantityperyear = df.groupby(['YEAR_ID'])[['QUANTITYORDERED']].sum().sort_values('YEAR_ID')\n",
        "quantityperyear.reset_index(inplace=True)\n",
        "quantityperyear"
      ],
      "execution_count": null,
      "outputs": [
        {
          "output_type": "execute_result",
          "data": {
            "text/html": [
              "<div>\n",
              "<style scoped>\n",
              "    .dataframe tbody tr th:only-of-type {\n",
              "        vertical-align: middle;\n",
              "    }\n",
              "\n",
              "    .dataframe tbody tr th {\n",
              "        vertical-align: top;\n",
              "    }\n",
              "\n",
              "    .dataframe thead th {\n",
              "        text-align: right;\n",
              "    }\n",
              "</style>\n",
              "<table border=\"1\" class=\"dataframe\">\n",
              "  <thead>\n",
              "    <tr style=\"text-align: right;\">\n",
              "      <th></th>\n",
              "      <th>YEAR_ID</th>\n",
              "      <th>QUANTITYORDERED</th>\n",
              "    </tr>\n",
              "  </thead>\n",
              "  <tbody>\n",
              "    <tr>\n",
              "      <th>0</th>\n",
              "      <td>2003</td>\n",
              "      <td>34612</td>\n",
              "    </tr>\n",
              "    <tr>\n",
              "      <th>1</th>\n",
              "      <td>2004</td>\n",
              "      <td>46824</td>\n",
              "    </tr>\n",
              "    <tr>\n",
              "      <th>2</th>\n",
              "      <td>2005</td>\n",
              "      <td>17631</td>\n",
              "    </tr>\n",
              "  </tbody>\n",
              "</table>\n",
              "</div>"
            ],
            "text/plain": [
              "   YEAR_ID  QUANTITYORDERED\n",
              "0     2003            34612\n",
              "1     2004            46824\n",
              "2     2005            17631"
            ]
          },
          "metadata": {},
          "execution_count": 54
        }
      ]
    },
    {
      "cell_type": "code",
      "metadata": {
        "colab": {
          "base_uri": "https://localhost:8080/",
          "height": 542
        },
        "id": "SVCYoKIIOOiX",
        "outputId": "ea38dd97-6742-4be6-f059-66a1424d9b5b"
      },
      "source": [
        "fig = px.pie(quantityperyear,'YEAR_ID','QUANTITYORDERED', title=\"Quantity Order Per Year\")\n",
        "fig.update_traces(textposition='inside', textinfo='percent+label+value')"
      ],
      "execution_count": null,
      "outputs": [
        {
          "output_type": "display_data",
          "data": {
            "text/html": [
              "<html>\n",
              "<head><meta charset=\"utf-8\" /></head>\n",
              "<body>\n",
              "    <div>\n",
              "            <script src=\"https://cdnjs.cloudflare.com/ajax/libs/mathjax/2.7.5/MathJax.js?config=TeX-AMS-MML_SVG\"></script><script type=\"text/javascript\">if (window.MathJax) {MathJax.Hub.Config({SVG: {font: \"STIX-Web\"}});}</script>\n",
              "                <script type=\"text/javascript\">window.PlotlyConfig = {MathJaxConfig: 'local'};</script>\n",
              "        <script src=\"https://cdn.plot.ly/plotly-latest.min.js\"></script>    \n",
              "            <div id=\"104856fc-6168-47e7-8243-6d8f95981d8e\" class=\"plotly-graph-div\" style=\"height:525px; width:100%;\"></div>\n",
              "            <script type=\"text/javascript\">\n",
              "                \n",
              "                    window.PLOTLYENV=window.PLOTLYENV || {};\n",
              "                    \n",
              "                if (document.getElementById(\"104856fc-6168-47e7-8243-6d8f95981d8e\")) {\n",
              "                    Plotly.newPlot(\n",
              "                        '104856fc-6168-47e7-8243-6d8f95981d8e',\n",
              "                        [{\"domain\": {\"x\": [0.0, 1.0], \"y\": [0.0, 1.0]}, \"hoverlabel\": {\"namelength\": 0}, \"hovertemplate\": \"YEAR_ID=%{label}<br>QUANTITYORDERED=%{value}\", \"labels\": [2003, 2004, 2005], \"legendgroup\": \"\", \"name\": \"\", \"showlegend\": true, \"textinfo\": \"percent+label+value\", \"textposition\": \"inside\", \"type\": \"pie\", \"values\": [34612, 46824, 17631]}],\n",
              "                        {\"legend\": {\"tracegroupgap\": 0}, \"template\": {\"data\": {\"bar\": [{\"error_x\": {\"color\": \"#2a3f5f\"}, \"error_y\": {\"color\": \"#2a3f5f\"}, \"marker\": {\"line\": {\"color\": \"#E5ECF6\", \"width\": 0.5}}, \"type\": \"bar\"}], \"barpolar\": [{\"marker\": {\"line\": {\"color\": \"#E5ECF6\", \"width\": 0.5}}, \"type\": \"barpolar\"}], \"carpet\": [{\"aaxis\": {\"endlinecolor\": \"#2a3f5f\", \"gridcolor\": \"white\", \"linecolor\": \"white\", \"minorgridcolor\": \"white\", \"startlinecolor\": \"#2a3f5f\"}, \"baxis\": {\"endlinecolor\": \"#2a3f5f\", \"gridcolor\": \"white\", \"linecolor\": \"white\", \"minorgridcolor\": \"white\", \"startlinecolor\": \"#2a3f5f\"}, \"type\": \"carpet\"}], \"choropleth\": [{\"colorbar\": {\"outlinewidth\": 0, \"ticks\": \"\"}, \"type\": \"choropleth\"}], \"contour\": [{\"colorbar\": {\"outlinewidth\": 0, \"ticks\": \"\"}, \"colorscale\": [[0.0, \"#0d0887\"], [0.1111111111111111, \"#46039f\"], [0.2222222222222222, \"#7201a8\"], [0.3333333333333333, \"#9c179e\"], [0.4444444444444444, \"#bd3786\"], [0.5555555555555556, \"#d8576b\"], [0.6666666666666666, \"#ed7953\"], [0.7777777777777778, \"#fb9f3a\"], [0.8888888888888888, \"#fdca26\"], [1.0, \"#f0f921\"]], \"type\": \"contour\"}], \"contourcarpet\": [{\"colorbar\": {\"outlinewidth\": 0, \"ticks\": \"\"}, \"type\": \"contourcarpet\"}], \"heatmap\": [{\"colorbar\": {\"outlinewidth\": 0, \"ticks\": \"\"}, \"colorscale\": [[0.0, \"#0d0887\"], [0.1111111111111111, \"#46039f\"], [0.2222222222222222, \"#7201a8\"], [0.3333333333333333, \"#9c179e\"], [0.4444444444444444, \"#bd3786\"], [0.5555555555555556, \"#d8576b\"], [0.6666666666666666, \"#ed7953\"], [0.7777777777777778, \"#fb9f3a\"], [0.8888888888888888, \"#fdca26\"], [1.0, \"#f0f921\"]], \"type\": \"heatmap\"}], \"heatmapgl\": [{\"colorbar\": {\"outlinewidth\": 0, \"ticks\": \"\"}, \"colorscale\": [[0.0, \"#0d0887\"], [0.1111111111111111, \"#46039f\"], [0.2222222222222222, \"#7201a8\"], [0.3333333333333333, \"#9c179e\"], [0.4444444444444444, \"#bd3786\"], [0.5555555555555556, \"#d8576b\"], [0.6666666666666666, \"#ed7953\"], [0.7777777777777778, \"#fb9f3a\"], [0.8888888888888888, \"#fdca26\"], [1.0, \"#f0f921\"]], \"type\": \"heatmapgl\"}], \"histogram\": [{\"marker\": {\"colorbar\": {\"outlinewidth\": 0, \"ticks\": \"\"}}, \"type\": \"histogram\"}], \"histogram2d\": [{\"colorbar\": {\"outlinewidth\": 0, \"ticks\": \"\"}, \"colorscale\": [[0.0, \"#0d0887\"], [0.1111111111111111, \"#46039f\"], [0.2222222222222222, \"#7201a8\"], [0.3333333333333333, \"#9c179e\"], [0.4444444444444444, \"#bd3786\"], [0.5555555555555556, \"#d8576b\"], [0.6666666666666666, \"#ed7953\"], [0.7777777777777778, \"#fb9f3a\"], [0.8888888888888888, \"#fdca26\"], [1.0, \"#f0f921\"]], \"type\": \"histogram2d\"}], \"histogram2dcontour\": [{\"colorbar\": {\"outlinewidth\": 0, \"ticks\": \"\"}, \"colorscale\": [[0.0, \"#0d0887\"], [0.1111111111111111, \"#46039f\"], [0.2222222222222222, \"#7201a8\"], [0.3333333333333333, \"#9c179e\"], [0.4444444444444444, \"#bd3786\"], [0.5555555555555556, \"#d8576b\"], [0.6666666666666666, \"#ed7953\"], [0.7777777777777778, \"#fb9f3a\"], [0.8888888888888888, \"#fdca26\"], [1.0, \"#f0f921\"]], \"type\": \"histogram2dcontour\"}], \"mesh3d\": [{\"colorbar\": {\"outlinewidth\": 0, \"ticks\": \"\"}, \"type\": \"mesh3d\"}], \"parcoords\": [{\"line\": {\"colorbar\": {\"outlinewidth\": 0, \"ticks\": \"\"}}, \"type\": \"parcoords\"}], \"pie\": [{\"automargin\": true, \"type\": \"pie\"}], \"scatter\": [{\"marker\": {\"colorbar\": {\"outlinewidth\": 0, \"ticks\": \"\"}}, \"type\": \"scatter\"}], \"scatter3d\": [{\"line\": {\"colorbar\": {\"outlinewidth\": 0, \"ticks\": \"\"}}, \"marker\": {\"colorbar\": {\"outlinewidth\": 0, \"ticks\": \"\"}}, \"type\": \"scatter3d\"}], \"scattercarpet\": [{\"marker\": {\"colorbar\": {\"outlinewidth\": 0, \"ticks\": \"\"}}, \"type\": \"scattercarpet\"}], \"scattergeo\": [{\"marker\": {\"colorbar\": {\"outlinewidth\": 0, \"ticks\": \"\"}}, \"type\": \"scattergeo\"}], \"scattergl\": [{\"marker\": {\"colorbar\": {\"outlinewidth\": 0, \"ticks\": \"\"}}, \"type\": \"scattergl\"}], \"scattermapbox\": [{\"marker\": {\"colorbar\": {\"outlinewidth\": 0, \"ticks\": \"\"}}, \"type\": \"scattermapbox\"}], \"scatterpolar\": [{\"marker\": {\"colorbar\": {\"outlinewidth\": 0, \"ticks\": \"\"}}, \"type\": \"scatterpolar\"}], \"scatterpolargl\": [{\"marker\": {\"colorbar\": {\"outlinewidth\": 0, \"ticks\": \"\"}}, \"type\": \"scatterpolargl\"}], \"scatterternary\": [{\"marker\": {\"colorbar\": {\"outlinewidth\": 0, \"ticks\": \"\"}}, \"type\": \"scatterternary\"}], \"surface\": [{\"colorbar\": {\"outlinewidth\": 0, \"ticks\": \"\"}, \"colorscale\": [[0.0, \"#0d0887\"], [0.1111111111111111, \"#46039f\"], [0.2222222222222222, \"#7201a8\"], [0.3333333333333333, \"#9c179e\"], [0.4444444444444444, \"#bd3786\"], [0.5555555555555556, \"#d8576b\"], [0.6666666666666666, \"#ed7953\"], [0.7777777777777778, \"#fb9f3a\"], [0.8888888888888888, \"#fdca26\"], [1.0, \"#f0f921\"]], \"type\": \"surface\"}], \"table\": [{\"cells\": {\"fill\": {\"color\": \"#EBF0F8\"}, \"line\": {\"color\": \"white\"}}, \"header\": {\"fill\": {\"color\": \"#C8D4E3\"}, \"line\": {\"color\": \"white\"}}, \"type\": \"table\"}]}, \"layout\": {\"annotationdefaults\": {\"arrowcolor\": \"#2a3f5f\", \"arrowhead\": 0, \"arrowwidth\": 1}, \"coloraxis\": {\"colorbar\": {\"outlinewidth\": 0, \"ticks\": \"\"}}, \"colorscale\": {\"diverging\": [[0, \"#8e0152\"], [0.1, \"#c51b7d\"], [0.2, \"#de77ae\"], [0.3, \"#f1b6da\"], [0.4, \"#fde0ef\"], [0.5, \"#f7f7f7\"], [0.6, \"#e6f5d0\"], [0.7, \"#b8e186\"], [0.8, \"#7fbc41\"], [0.9, \"#4d9221\"], [1, \"#276419\"]], \"sequential\": [[0.0, \"#0d0887\"], [0.1111111111111111, \"#46039f\"], [0.2222222222222222, \"#7201a8\"], [0.3333333333333333, \"#9c179e\"], [0.4444444444444444, \"#bd3786\"], [0.5555555555555556, \"#d8576b\"], [0.6666666666666666, \"#ed7953\"], [0.7777777777777778, \"#fb9f3a\"], [0.8888888888888888, \"#fdca26\"], [1.0, \"#f0f921\"]], \"sequentialminus\": [[0.0, \"#0d0887\"], [0.1111111111111111, \"#46039f\"], [0.2222222222222222, \"#7201a8\"], [0.3333333333333333, \"#9c179e\"], [0.4444444444444444, \"#bd3786\"], [0.5555555555555556, \"#d8576b\"], [0.6666666666666666, \"#ed7953\"], [0.7777777777777778, \"#fb9f3a\"], [0.8888888888888888, \"#fdca26\"], [1.0, \"#f0f921\"]]}, \"colorway\": [\"#636efa\", \"#EF553B\", \"#00cc96\", \"#ab63fa\", \"#FFA15A\", \"#19d3f3\", \"#FF6692\", \"#B6E880\", \"#FF97FF\", \"#FECB52\"], \"font\": {\"color\": \"#2a3f5f\"}, \"geo\": {\"bgcolor\": \"white\", \"lakecolor\": \"white\", \"landcolor\": \"#E5ECF6\", \"showlakes\": true, \"showland\": true, \"subunitcolor\": \"white\"}, \"hoverlabel\": {\"align\": \"left\"}, \"hovermode\": \"closest\", \"mapbox\": {\"style\": \"light\"}, \"paper_bgcolor\": \"white\", \"plot_bgcolor\": \"#E5ECF6\", \"polar\": {\"angularaxis\": {\"gridcolor\": \"white\", \"linecolor\": \"white\", \"ticks\": \"\"}, \"bgcolor\": \"#E5ECF6\", \"radialaxis\": {\"gridcolor\": \"white\", \"linecolor\": \"white\", \"ticks\": \"\"}}, \"scene\": {\"xaxis\": {\"backgroundcolor\": \"#E5ECF6\", \"gridcolor\": \"white\", \"gridwidth\": 2, \"linecolor\": \"white\", \"showbackground\": true, \"ticks\": \"\", \"zerolinecolor\": \"white\"}, \"yaxis\": {\"backgroundcolor\": \"#E5ECF6\", \"gridcolor\": \"white\", \"gridwidth\": 2, \"linecolor\": \"white\", \"showbackground\": true, \"ticks\": \"\", \"zerolinecolor\": \"white\"}, \"zaxis\": {\"backgroundcolor\": \"#E5ECF6\", \"gridcolor\": \"white\", \"gridwidth\": 2, \"linecolor\": \"white\", \"showbackground\": true, \"ticks\": \"\", \"zerolinecolor\": \"white\"}}, \"shapedefaults\": {\"line\": {\"color\": \"#2a3f5f\"}}, \"ternary\": {\"aaxis\": {\"gridcolor\": \"white\", \"linecolor\": \"white\", \"ticks\": \"\"}, \"baxis\": {\"gridcolor\": \"white\", \"linecolor\": \"white\", \"ticks\": \"\"}, \"bgcolor\": \"#E5ECF6\", \"caxis\": {\"gridcolor\": \"white\", \"linecolor\": \"white\", \"ticks\": \"\"}}, \"title\": {\"x\": 0.05}, \"xaxis\": {\"automargin\": true, \"gridcolor\": \"white\", \"linecolor\": \"white\", \"ticks\": \"\", \"title\": {\"standoff\": 15}, \"zerolinecolor\": \"white\", \"zerolinewidth\": 2}, \"yaxis\": {\"automargin\": true, \"gridcolor\": \"white\", \"linecolor\": \"white\", \"ticks\": \"\", \"title\": {\"standoff\": 15}, \"zerolinecolor\": \"white\", \"zerolinewidth\": 2}}}, \"title\": {\"text\": \"Quantity Order Per Year\"}},\n",
              "                        {\"responsive\": true}\n",
              "                    ).then(function(){\n",
              "                            \n",
              "var gd = document.getElementById('104856fc-6168-47e7-8243-6d8f95981d8e');\n",
              "var x = new MutationObserver(function (mutations, observer) {{\n",
              "        var display = window.getComputedStyle(gd).display;\n",
              "        if (!display || display === 'none') {{\n",
              "            console.log([gd, 'removed!']);\n",
              "            Plotly.purge(gd);\n",
              "            observer.disconnect();\n",
              "        }}\n",
              "}});\n",
              "\n",
              "// Listen for the removal of the full notebook cells\n",
              "var notebookContainer = gd.closest('#notebook-container');\n",
              "if (notebookContainer) {{\n",
              "    x.observe(notebookContainer, {childList: true});\n",
              "}}\n",
              "\n",
              "// Listen for the clearing of the current output cell\n",
              "var outputEl = gd.closest('.output');\n",
              "if (outputEl) {{\n",
              "    x.observe(outputEl, {childList: true});\n",
              "}}\n",
              "\n",
              "                        })\n",
              "                };\n",
              "                \n",
              "            </script>\n",
              "        </div>\n",
              "</body>\n",
              "</html>"
            ]
          },
          "metadata": {}
        }
      ]
    },
    {
      "cell_type": "code",
      "metadata": {
        "colab": {
          "base_uri": "https://localhost:8080/",
          "height": 514
        },
        "id": "z4SgxieND91Z",
        "outputId": "e7282ed8-631a-49e2-ac18-6dc4e91a90ac"
      },
      "source": [
        "plt.figure(figsize=(20,10))\n",
        "sns.scatterplot(data=quantityperyear, x=\"YEAR_ID\", y='QUANTITYORDERED', s=100, color='Red')\n",
        "sns.lineplot(data=quantityperyear, x=\"YEAR_ID\", y='QUANTITYORDERED')\n",
        "plt.xticks([2003,2004,2005],fontsize=15)\n",
        "plt.yticks(fontsize=15)\n",
        "plt.title('Quantity Ordered Product Per Year', fontsize=35, color='Red')\n",
        "plt.xlabel('YEAR', fontsize=15, color='Red')\n",
        "plt.ylabel('TOTAL PRODUCT SOLD', fontsize=15, color='Red')"
      ],
      "execution_count": null,
      "outputs": [
        {
          "output_type": "execute_result",
          "data": {
            "text/plain": [
              "Text(0, 0.5, 'TOTAL PRODUCT SOLD')"
            ]
          },
          "metadata": {},
          "execution_count": 70
        },
        {
          "output_type": "display_data",
          "data": {
            "image/png": "[encoded data removed]",
            "text/plain": [
              "<Figure size 1440x720 with 1 Axes>"
            ]
          },
          "metadata": {
            "needs_background": "light"
          }
        }
      ]
    },
    {
      "cell_type": "markdown",
      "metadata": {
        "id": "PVjCaGqF8DiG"
      },
      "source": [
        "### Monthly Sales"
      ]
    },
    {
      "cell_type": "code",
      "metadata": {
        "colab": {
          "base_uri": "https://localhost:8080/",
          "height": 457
        },
        "id": "VnSPSQxYBQTP",
        "outputId": "71647726-ae63-455f-c6c4-1518c689093f"
      },
      "source": [
        "sales2003 = df.groupby(['YEAR_ID','MONTH_ID'])[['SALES']].sum()\n",
        "sales2003 = sales2003.query(\"YEAR_ID=='2003'\")\n",
        "sales2003"
      ],
      "execution_count": null,
      "outputs": [
        {
          "output_type": "execute_result",
          "data": {
            "text/html": [
              "<div>\n",
              "<style scoped>\n",
              "    .dataframe tbody tr th:only-of-type {\n",
              "        vertical-align: middle;\n",
              "    }\n",
              "\n",
              "    .dataframe tbody tr th {\n",
              "        vertical-align: top;\n",
              "    }\n",
              "\n",
              "    .dataframe thead th {\n",
              "        text-align: right;\n",
              "    }\n",
              "</style>\n",
              "<table border=\"1\" class=\"dataframe\">\n",
              "  <thead>\n",
              "    <tr style=\"text-align: right;\">\n",
              "      <th></th>\n",
              "      <th></th>\n",
              "      <th>SALES</th>\n",
              "    </tr>\n",
              "    <tr>\n",
              "      <th>YEAR_ID</th>\n",
              "      <th>MONTH_ID</th>\n",
              "      <th></th>\n",
              "    </tr>\n",
              "  </thead>\n",
              "  <tbody>\n",
              "    <tr>\n",
              "      <th rowspan=\"12\" valign=\"top\">2003</th>\n",
              "      <th>1</th>\n",
              "      <td>129753.60</td>\n",
              "    </tr>\n",
              "    <tr>\n",
              "      <th>2</th>\n",
              "      <td>140836.19</td>\n",
              "    </tr>\n",
              "    <tr>\n",
              "      <th>3</th>\n",
              "      <td>174504.90</td>\n",
              "    </tr>\n",
              "    <tr>\n",
              "      <th>4</th>\n",
              "      <td>201609.55</td>\n",
              "    </tr>\n",
              "    <tr>\n",
              "      <th>5</th>\n",
              "      <td>192673.11</td>\n",
              "    </tr>\n",
              "    <tr>\n",
              "      <th>6</th>\n",
              "      <td>168082.56</td>\n",
              "    </tr>\n",
              "    <tr>\n",
              "      <th>7</th>\n",
              "      <td>187731.88</td>\n",
              "    </tr>\n",
              "    <tr>\n",
              "      <th>8</th>\n",
              "      <td>197809.30</td>\n",
              "    </tr>\n",
              "    <tr>\n",
              "      <th>9</th>\n",
              "      <td>263973.36</td>\n",
              "    </tr>\n",
              "    <tr>\n",
              "      <th>10</th>\n",
              "      <td>568290.97</td>\n",
              "    </tr>\n",
              "    <tr>\n",
              "      <th>11</th>\n",
              "      <td>1029837.66</td>\n",
              "    </tr>\n",
              "    <tr>\n",
              "      <th>12</th>\n",
              "      <td>261876.46</td>\n",
              "    </tr>\n",
              "  </tbody>\n",
              "</table>\n",
              "</div>"
            ],
            "text/plain": [
              "                       SALES\n",
              "YEAR_ID MONTH_ID            \n",
              "2003    1          129753.60\n",
              "        2          140836.19\n",
              "        3          174504.90\n",
              "        4          201609.55\n",
              "        5          192673.11\n",
              "        6          168082.56\n",
              "        7          187731.88\n",
              "        8          197809.30\n",
              "        9          263973.36\n",
              "        10         568290.97\n",
              "        11        1029837.66\n",
              "        12         261876.46"
            ]
          },
          "metadata": {},
          "execution_count": 40
        }
      ]
    },
    {
      "cell_type": "code",
      "metadata": {
        "colab": {
          "base_uri": "https://localhost:8080/",
          "height": 457
        },
        "id": "lN2u3kW3K3Fn",
        "outputId": "33669d26-bec4-48c2-9df7-100ca39f61ee"
      },
      "source": [
        "sales2004 = df.groupby(['YEAR_ID','MONTH_ID'])[['SALES']].sum()\n",
        "sales2004 = sales2004.query(\"YEAR_ID=='2004'\")\n",
        "sales2004"
      ],
      "execution_count": null,
      "outputs": [
        {
          "output_type": "execute_result",
          "data": {
            "text/html": [
              "<div>\n",
              "<style scoped>\n",
              "    .dataframe tbody tr th:only-of-type {\n",
              "        vertical-align: middle;\n",
              "    }\n",
              "\n",
              "    .dataframe tbody tr th {\n",
              "        vertical-align: top;\n",
              "    }\n",
              "\n",
              "    .dataframe thead th {\n",
              "        text-align: right;\n",
              "    }\n",
              "</style>\n",
              "<table border=\"1\" class=\"dataframe\">\n",
              "  <thead>\n",
              "    <tr style=\"text-align: right;\">\n",
              "      <th></th>\n",
              "      <th></th>\n",
              "      <th>SALES</th>\n",
              "    </tr>\n",
              "    <tr>\n",
              "      <th>YEAR_ID</th>\n",
              "      <th>MONTH_ID</th>\n",
              "      <th></th>\n",
              "    </tr>\n",
              "  </thead>\n",
              "  <tbody>\n",
              "    <tr>\n",
              "      <th rowspan=\"12\" valign=\"top\">2004</th>\n",
              "      <th>1</th>\n",
              "      <td>316577.42</td>\n",
              "    </tr>\n",
              "    <tr>\n",
              "      <th>2</th>\n",
              "      <td>311419.53</td>\n",
              "    </tr>\n",
              "    <tr>\n",
              "      <th>3</th>\n",
              "      <td>205733.73</td>\n",
              "    </tr>\n",
              "    <tr>\n",
              "      <th>4</th>\n",
              "      <td>206148.12</td>\n",
              "    </tr>\n",
              "    <tr>\n",
              "      <th>5</th>\n",
              "      <td>273438.39</td>\n",
              "    </tr>\n",
              "    <tr>\n",
              "      <th>6</th>\n",
              "      <td>286674.22</td>\n",
              "    </tr>\n",
              "    <tr>\n",
              "      <th>7</th>\n",
              "      <td>327144.09</td>\n",
              "    </tr>\n",
              "    <tr>\n",
              "      <th>8</th>\n",
              "      <td>461501.27</td>\n",
              "    </tr>\n",
              "    <tr>\n",
              "      <th>9</th>\n",
              "      <td>320750.91</td>\n",
              "    </tr>\n",
              "    <tr>\n",
              "      <th>10</th>\n",
              "      <td>552924.25</td>\n",
              "    </tr>\n",
              "    <tr>\n",
              "      <th>11</th>\n",
              "      <td>1089048.01</td>\n",
              "    </tr>\n",
              "    <tr>\n",
              "      <th>12</th>\n",
              "      <td>372802.66</td>\n",
              "    </tr>\n",
              "  </tbody>\n",
              "</table>\n",
              "</div>"
            ],
            "text/plain": [
              "                       SALES\n",
              "YEAR_ID MONTH_ID            \n",
              "2004    1          316577.42\n",
              "        2          311419.53\n",
              "        3          205733.73\n",
              "        4          206148.12\n",
              "        5          273438.39\n",
              "        6          286674.22\n",
              "        7          327144.09\n",
              "        8          461501.27\n",
              "        9          320750.91\n",
              "        10         552924.25\n",
              "        11        1089048.01\n",
              "        12         372802.66"
            ]
          },
          "metadata": {},
          "execution_count": 41
        }
      ]
    },
    {
      "cell_type": "code",
      "metadata": {
        "colab": {
          "base_uri": "https://localhost:8080/",
          "height": 238
        },
        "id": "VKccXshhFGRj",
        "outputId": "4f5f9250-c1da-43e2-991c-41a127989188"
      },
      "source": [
        "sales2005 = df.groupby(['YEAR_ID','MONTH_ID'])[['SALES']].sum()\n",
        "sales2005 = sales2005.query(\"YEAR_ID=='2005' and MONTH_ID==['1','2','3','4','5']\")\n",
        "sales2005"
      ],
      "execution_count": null,
      "outputs": [
        {
          "output_type": "execute_result",
          "data": {
            "text/html": [
              "<div>\n",
              "<style scoped>\n",
              "    .dataframe tbody tr th:only-of-type {\n",
              "        vertical-align: middle;\n",
              "    }\n",
              "\n",
              "    .dataframe tbody tr th {\n",
              "        vertical-align: top;\n",
              "    }\n",
              "\n",
              "    .dataframe thead th {\n",
              "        text-align: right;\n",
              "    }\n",
              "</style>\n",
              "<table border=\"1\" class=\"dataframe\">\n",
              "  <thead>\n",
              "    <tr style=\"text-align: right;\">\n",
              "      <th></th>\n",
              "      <th></th>\n",
              "      <th>SALES</th>\n",
              "    </tr>\n",
              "    <tr>\n",
              "      <th>YEAR_ID</th>\n",
              "      <th>MONTH_ID</th>\n",
              "      <th></th>\n",
              "    </tr>\n",
              "  </thead>\n",
              "  <tbody>\n",
              "    <tr>\n",
              "      <th rowspan=\"5\" valign=\"top\">2005</th>\n",
              "      <th>1</th>\n",
              "      <td>339543.42</td>\n",
              "    </tr>\n",
              "    <tr>\n",
              "      <th>2</th>\n",
              "      <td>358186.18</td>\n",
              "    </tr>\n",
              "    <tr>\n",
              "      <th>3</th>\n",
              "      <td>374262.76</td>\n",
              "    </tr>\n",
              "    <tr>\n",
              "      <th>4</th>\n",
              "      <td>261633.29</td>\n",
              "    </tr>\n",
              "    <tr>\n",
              "      <th>5</th>\n",
              "      <td>457861.06</td>\n",
              "    </tr>\n",
              "  </tbody>\n",
              "</table>\n",
              "</div>"
            ],
            "text/plain": [
              "                      SALES\n",
              "YEAR_ID MONTH_ID           \n",
              "2005    1         339543.42\n",
              "        2         358186.18\n",
              "        3         374262.76\n",
              "        4         261633.29\n",
              "        5         457861.06"
            ]
          },
          "metadata": {},
          "execution_count": 42
        }
      ]
    },
    {
      "cell_type": "code",
      "metadata": {
        "colab": {
          "base_uri": "https://localhost:8080/",
          "height": 667
        },
        "id": "k2Sc_uExBIxW",
        "outputId": "4ee90bff-b128-4038-fffe-4ea83a077556"
      },
      "source": [
        "plt.figure(figsize=(20,10))\n",
        "sns.lineplot(data=sales2003, x=\"MONTH_ID\", y='SALES', color='Red', label=2003)\n",
        "sns.lineplot(data=sales2004, x=\"MONTH_ID\", y='SALES', color='Yellow', label=2004)\n",
        "sns.lineplot(data=sales2005, x=\"MONTH_ID\", y='SALES', color='Blue', label= 2005)\n",
        "sns.scatterplot(data=sales2003, x=\"MONTH_ID\", y='SALES', s=100, color='Black')\n",
        "sns.scatterplot(data=sales2004, x=\"MONTH_ID\", y='SALES', s=100, color='Black')\n",
        "sns.scatterplot(data=sales2005, x=\"MONTH_ID\", y='SALES', s=100, color='Black')\n",
        "\n",
        "ticks = [1, 2, 3, 4, 5, 6, 7, 8, 9, 10, 11, 12]\n",
        "labell = ['Jan', 'Feb', 'Mar', 'Apr', 'Mei', 'Jun', 'Jul', 'Aug', 'Sep', 'Oct', 'Nov', 'Dec']\n",
        "\n",
        "plt.xticks(ticks, labell,fontsize=15)\n",
        "plt.title('MONTHLY SALES', fontsize=35, color='Red')\n",
        "plt.xlabel('MONTH', fontsize=15, color='Red')\n",
        "plt.ylabel('TOTAL SALES', fontsize=15, color='Red')\n",
        "plt.legend()"
      ],
      "execution_count": null,
      "outputs": [
        {
          "output_type": "execute_result",
          "data": {
            "text/plain": [
              "<matplotlib.legend.Legend at 0x7f4fe98b2b10>"
            ]
          },
          "metadata": {},
          "execution_count": 87
        },
        {
          "output_type": "display_data",
          "data": {
            "image/png": "[encoded data removed]",
            "text/plain": [
              "<Figure size 1440x720 with 1 Axes>"
            ]
          },
          "metadata": {
            "needs_background": "light"
          }
        }
      ]
    },
    {
      "cell_type": "markdown",
      "metadata": {
        "id": "dh0UIkbv3g4h"
      },
      "source": [
        "### Average Monthly Sales"
      ]
    },
    {
      "cell_type": "code",
      "metadata": {
        "colab": {
          "base_uri": "https://localhost:8080/",
          "height": 362
        },
        "id": "r76NE8A7Qx9A",
        "outputId": "cd78c6fa-ce96-4c32-c634-8b751767d0e5"
      },
      "source": [
        "avg_sales = df.groupby(['YEAR_ID','MONTH_ID'])[['SALES','QUANTITYORDERED']].median()\n",
        "avg_sales.reset_index(inplace=True)\n",
        "avg_sales.sort_values('SALES', ascending=False).head(10)"
      ],
      "execution_count": null,
      "outputs": [
        {
          "output_type": "execute_result",
          "data": {
            "text/html": [
              "<div>\n",
              "<style scoped>\n",
              "    .dataframe tbody tr th:only-of-type {\n",
              "        vertical-align: middle;\n",
              "    }\n",
              "\n",
              "    .dataframe tbody tr th {\n",
              "        vertical-align: top;\n",
              "    }\n",
              "\n",
              "    .dataframe thead th {\n",
              "        text-align: right;\n",
              "    }\n",
              "</style>\n",
              "<table border=\"1\" class=\"dataframe\">\n",
              "  <thead>\n",
              "    <tr style=\"text-align: right;\">\n",
              "      <th></th>\n",
              "      <th>YEAR_ID</th>\n",
              "      <th>MONTH_ID</th>\n",
              "      <th>SALES</th>\n",
              "      <th>QUANTITYORDERED</th>\n",
              "    </tr>\n",
              "  </thead>\n",
              "  <tbody>\n",
              "    <tr>\n",
              "      <th>27</th>\n",
              "      <td>2005</td>\n",
              "      <td>4</td>\n",
              "      <td>3941.000</td>\n",
              "      <td>46.5</td>\n",
              "    </tr>\n",
              "    <tr>\n",
              "      <th>11</th>\n",
              "      <td>2003</td>\n",
              "      <td>12</td>\n",
              "      <td>3506.550</td>\n",
              "      <td>35.5</td>\n",
              "    </tr>\n",
              "    <tr>\n",
              "      <th>25</th>\n",
              "      <td>2005</td>\n",
              "      <td>2</td>\n",
              "      <td>3441.820</td>\n",
              "      <td>35.0</td>\n",
              "    </tr>\n",
              "    <tr>\n",
              "      <th>14</th>\n",
              "      <td>2004</td>\n",
              "      <td>3</td>\n",
              "      <td>3428.795</td>\n",
              "      <td>34.0</td>\n",
              "    </tr>\n",
              "    <tr>\n",
              "      <th>5</th>\n",
              "      <td>2003</td>\n",
              "      <td>6</td>\n",
              "      <td>3408.990</td>\n",
              "      <td>39.5</td>\n",
              "    </tr>\n",
              "    <tr>\n",
              "      <th>6</th>\n",
              "      <td>2003</td>\n",
              "      <td>7</td>\n",
              "      <td>3408.885</td>\n",
              "      <td>32.5</td>\n",
              "    </tr>\n",
              "    <tr>\n",
              "      <th>0</th>\n",
              "      <td>2003</td>\n",
              "      <td>1</td>\n",
              "      <td>3394.980</td>\n",
              "      <td>35.0</td>\n",
              "    </tr>\n",
              "    <tr>\n",
              "      <th>28</th>\n",
              "      <td>2005</td>\n",
              "      <td>5</td>\n",
              "      <td>3386.840</td>\n",
              "      <td>36.0</td>\n",
              "    </tr>\n",
              "    <tr>\n",
              "      <th>9</th>\n",
              "      <td>2003</td>\n",
              "      <td>10</td>\n",
              "      <td>3364.210</td>\n",
              "      <td>35.0</td>\n",
              "    </tr>\n",
              "    <tr>\n",
              "      <th>17</th>\n",
              "      <td>2004</td>\n",
              "      <td>6</td>\n",
              "      <td>3236.100</td>\n",
              "      <td>34.0</td>\n",
              "    </tr>\n",
              "  </tbody>\n",
              "</table>\n",
              "</div>"
            ],
            "text/plain": [
              "    YEAR_ID  MONTH_ID     SALES  QUANTITYORDERED\n",
              "27     2005         4  3941.000             46.5\n",
              "11     2003        12  3506.550             35.5\n",
              "25     2005         2  3441.820             35.0\n",
              "14     2004         3  3428.795             34.0\n",
              "5      2003         6  3408.990             39.5\n",
              "6      2003         7  3408.885             32.5\n",
              "0      2003         1  3394.980             35.0\n",
              "28     2005         5  3386.840             36.0\n",
              "9      2003        10  3364.210             35.0\n",
              "17     2004         6  3236.100             34.0"
            ]
          },
          "metadata": {},
          "execution_count": 109
        }
      ]
    },
    {
      "cell_type": "code",
      "metadata": {
        "id": "0T2g2M1fbY7D"
      },
      "source": [
        "avg2003 = avg_sales[avg_sales['YEAR_ID']==2003]\n",
        "avg2004 = avg_sales[avg_sales['YEAR_ID']==2004]\n",
        "avg2005 = avg_sales[avg_sales['YEAR_ID']==2005]"
      ],
      "execution_count": null,
      "outputs": []
    },
    {
      "cell_type": "code",
      "metadata": {
        "colab": {
          "base_uri": "https://localhost:8080/",
          "height": 317
        },
        "id": "A4Z9t_bwYnh6",
        "outputId": "2937168d-a009-45c4-c2ac-7bd0d2492c3f"
      },
      "source": [
        "plt.figure(figsize=(20,10))\n",
        "fig, ax1 = plt.subplots() # initializes figure and plots\n",
        "\n",
        "ax2 = ax1.twinx() # applies twinx to ax2, which is the second y axis. \n",
        "\n",
        "sns.lineplot(data=avg2003, x=\"MONTH_ID\", y='SALES', color='Red', label=2003)\n",
        "sns.lineplot(data=avg2004, x=\"MONTH_ID\", y='SALES', color='Yellow', label=2004)\n",
        "sns.lineplot(data=avg2005, x=\"MONTH_ID\", y='SALES', color='Blue', label=2005)\n",
        "sns.scatterplot(data=avg2003, x=\"MONTH_ID\", y='SALES', s=100, color='Black')\n",
        "sns.scatterplot(data=avg2004, x=\"MONTH_ID\", y='SALES', s=100, color='Black')\n",
        "sns.scatterplot(data=avg2005, x=\"MONTH_ID\", y='SALES', s=100, color='Black', ax = ax2)\n",
        "\n",
        "ticks = [1, 2, 3, 4, 5, 6, 7, 8, 9, 10, 11, 12]\n",
        "labell = ['Jan', 'Feb', 'Mar', 'Apr', 'Mei', 'Jun', 'Jul', 'Aug', 'Sep', 'Oct', 'Nov', 'Dec']\n",
        "\n",
        "plt.title('AVERAGE MONTHLY SALES', fontsize=20, color='Red')\n",
        "ax1.set_xlabel('X data')\n",
        "ax1.set_ylabel('SALES', color='g')\n",
        "plt.xticks(ticks, labell,fontsize=15)\n",
        "ax2.set_ylabel('QUANTITY ORDERED', color='b')\n",
        "\n",
        "plt.show(); # shows the plot. "
      ],
      "execution_count": null,
      "outputs": [
        {
          "output_type": "display_data",
          "data": {
            "text/plain": [
              "<Figure size 1440x720 with 0 Axes>"
            ]
          },
          "metadata": {}
        },
        {
          "output_type": "display_data",
          "data": {
            "image/png": "[encoded data removed]",
            "text/plain": [
              "<Figure size 432x288 with 2 Axes>"
            ]
          },
          "metadata": {
            "needs_background": "light"
          }
        }
      ]
    },
    {
      "cell_type": "markdown",
      "metadata": {
        "id": "6-IoO5XW3qvL"
      },
      "source": [
        "### Average Monthly Quantity Ordered"
      ]
    },
    {
      "cell_type": "code",
      "metadata": {
        "colab": {
          "base_uri": "https://localhost:8080/",
          "height": 528
        },
        "id": "-Erkk38qkLYE",
        "outputId": "e26c9da1-0be5-4a66-e611-03730c66039e"
      },
      "source": [
        "plt.figure(figsize=(20,10))\n",
        "sns.lineplot(data=avg2003, x=\"MONTH_ID\", y='QUANTITYORDERED', color='Red', label=2003)\n",
        "sns.lineplot(data=avg2004, x=\"MONTH_ID\", y='QUANTITYORDERED', color='Yellow', label=2004)\n",
        "sns.lineplot(data=avg2005, x=\"MONTH_ID\", y='QUANTITYORDERED', color='Blue', label=2005)\n",
        "sns.scatterplot(data=avg2003, x=\"MONTH_ID\", y='QUANTITYORDERED', s=100, color='Black')\n",
        "sns.scatterplot(data=avg2004, x=\"MONTH_ID\", y='QUANTITYORDERED', s=100, color='Black')\n",
        "sns.scatterplot(data=avg2005, x=\"MONTH_ID\", y='QUANTITYORDERED', s=100, color='Black')\n",
        "\n",
        "ticks = [1, 2, 3, 4, 5, 6, 7, 8, 9, 10, 11, 12]\n",
        "labell = ['Jan', 'Feb', 'Mar', 'Apr', 'Mei', 'Jun', 'Jul', 'Aug', 'Sep', 'Oct', 'Nov', 'Dec']\n",
        "\n",
        "plt.xticks(ticks, labell,fontsize=15)\n",
        "plt.title('AVERAGE MONTHLY QUANTITY ORDERED ', fontsize=35, color='Red')\n",
        "plt.xlabel('MONTH', fontsize=15, color='Red')\n",
        "plt.ylabel('TOTAL SALES', fontsize=15, color='Red')\n",
        "plt.legend()"
      ],
      "execution_count": null,
      "outputs": [
        {
          "output_type": "execute_result",
          "data": {
            "text/plain": [
              "<matplotlib.legend.Legend at 0x7f4ff92d12d0>"
            ]
          },
          "metadata": {},
          "execution_count": 36
        },
        {
          "output_type": "display_data",
          "data": {
            "image/png": "[encoded data removed]",
            "text/plain": [
              "<Figure size 1440x720 with 1 Axes>"
            ]
          },
          "metadata": {
            "needs_background": "light"
          }
        }
      ]
    },
    {
      "cell_type": "markdown",
      "metadata": {
        "id": "t83kSPGO1rQy"
      },
      "source": [
        "### Top 10 Customer"
      ]
    },
    {
      "cell_type": "code",
      "metadata": {
        "colab": {
          "base_uri": "https://localhost:8080/",
          "height": 363
        },
        "id": "Ua6aiUnmI6YQ",
        "outputId": "6daf0e74-8d08-4c31-eca4-63a4c7ecc6f1"
      },
      "source": [
        "top_customer10 = df.groupby(['CUSTOMERNAME'])[['SALES']].sum().sort_values('SALES', ascending=False).head(10)\n",
        "top_customer10.reset_index(inplace = True) \n",
        "top_customer10"
      ],
      "execution_count": null,
      "outputs": [
        {
          "output_type": "execute_result",
          "data": {
            "text/html": [
              "<div>\n",
              "<style scoped>\n",
              "    .dataframe tbody tr th:only-of-type {\n",
              "        vertical-align: middle;\n",
              "    }\n",
              "\n",
              "    .dataframe tbody tr th {\n",
              "        vertical-align: top;\n",
              "    }\n",
              "\n",
              "    .dataframe thead th {\n",
              "        text-align: right;\n",
              "    }\n",
              "</style>\n",
              "<table border=\"1\" class=\"dataframe\">\n",
              "  <thead>\n",
              "    <tr style=\"text-align: right;\">\n",
              "      <th></th>\n",
              "      <th>CUSTOMERNAME</th>\n",
              "      <th>SALES</th>\n",
              "    </tr>\n",
              "  </thead>\n",
              "  <tbody>\n",
              "    <tr>\n",
              "      <th>0</th>\n",
              "      <td>Euro Shopping Channel</td>\n",
              "      <td>912294.11</td>\n",
              "    </tr>\n",
              "    <tr>\n",
              "      <th>1</th>\n",
              "      <td>Mini Gifts Distributors Ltd.</td>\n",
              "      <td>654858.06</td>\n",
              "    </tr>\n",
              "    <tr>\n",
              "      <th>2</th>\n",
              "      <td>Australian Collectors, Co.</td>\n",
              "      <td>200995.41</td>\n",
              "    </tr>\n",
              "    <tr>\n",
              "      <th>3</th>\n",
              "      <td>Muscle Machine Inc</td>\n",
              "      <td>197736.94</td>\n",
              "    </tr>\n",
              "    <tr>\n",
              "      <th>4</th>\n",
              "      <td>La Rochelle Gifts</td>\n",
              "      <td>180124.90</td>\n",
              "    </tr>\n",
              "    <tr>\n",
              "      <th>5</th>\n",
              "      <td>Dragon Souveniers, Ltd.</td>\n",
              "      <td>172989.68</td>\n",
              "    </tr>\n",
              "    <tr>\n",
              "      <th>6</th>\n",
              "      <td>Land of Toys Inc.</td>\n",
              "      <td>164069.44</td>\n",
              "    </tr>\n",
              "    <tr>\n",
              "      <th>7</th>\n",
              "      <td>The Sharp Gifts Warehouse</td>\n",
              "      <td>160010.27</td>\n",
              "    </tr>\n",
              "    <tr>\n",
              "      <th>8</th>\n",
              "      <td>AV Stores, Co.</td>\n",
              "      <td>157807.81</td>\n",
              "    </tr>\n",
              "    <tr>\n",
              "      <th>9</th>\n",
              "      <td>Anna's Decorations, Ltd</td>\n",
              "      <td>153996.13</td>\n",
              "    </tr>\n",
              "  </tbody>\n",
              "</table>\n",
              "</div>"
            ],
            "text/plain": [
              "                   CUSTOMERNAME      SALES\n",
              "0         Euro Shopping Channel  912294.11\n",
              "1  Mini Gifts Distributors Ltd.  654858.06\n",
              "2    Australian Collectors, Co.  200995.41\n",
              "3            Muscle Machine Inc  197736.94\n",
              "4             La Rochelle Gifts  180124.90\n",
              "5       Dragon Souveniers, Ltd.  172989.68\n",
              "6             Land of Toys Inc.  164069.44\n",
              "7     The Sharp Gifts Warehouse  160010.27\n",
              "8                AV Stores, Co.  157807.81\n",
              "9       Anna's Decorations, Ltd  153996.13"
            ]
          },
          "metadata": {},
          "execution_count": 27
        }
      ]
    },
    {
      "cell_type": "code",
      "metadata": {
        "colab": {
          "base_uri": "https://localhost:8080/",
          "height": 581
        },
        "id": "DxWcEiItKyRK",
        "outputId": "f0c58567-a3c2-474b-aa78-896868ab8746"
      },
      "source": [
        "plt.figure(figsize=(20,10))\n",
        "sns.barplot(data=top_customer10, x='CUSTOMERNAME', y='SALES')\n",
        "plt.xticks(rotation=45)\n",
        "plt.title(\"TOP 10 CUSTOMER\", fontsize=30, color=\"blue\")\n",
        "plt.xlabel(\"CUSTOMER\", fontsize=15, color=\"blue\")\n",
        "plt.ylabel(\"TOTAL SALES\", fontsize=15, color=\"blue\")"
      ],
      "execution_count": null,
      "outputs": [
        {
          "output_type": "execute_result",
          "data": {
            "text/plain": [
              "Text(0, 0.5, 'TOTAL SALES')"
            ]
          },
          "metadata": {},
          "execution_count": 28
        },
        {
          "output_type": "display_data",
          "data": {
            "image/png": "[encoded data removed]",
            "text/plain": [
              "<Figure size 1440x720 with 1 Axes>"
            ]
          },
          "metadata": {
            "needs_background": "light"
          }
        }
      ]
    },
    {
      "cell_type": "markdown",
      "metadata": {
        "id": "UEy_JiME22WK"
      },
      "source": [
        "From the graph above, we can see that Euro Shopping Channel the top 1 customer that spend much money for shopping here. So, now we try to see product that they bought"
      ]
    },
    {
      "cell_type": "code",
      "metadata": {
        "colab": {
          "base_uri": "https://localhost:8080/",
          "height": 614
        },
        "id": "3AJLnVFvJM8L",
        "outputId": "a8a5ce9d-8267-4ce5-919b-b342809ce613"
      },
      "source": [
        "loyal_customer = df.groupby(['CUSTOMERNAME','DEALSIZE', 'PRODUCTLINE']).agg({'QUANTITYORDERED':'sum'})\n",
        "loyal_customer = loyal_customer.query(\"CUSTOMERNAME=='Euro Shopping Channel'\")\n",
        "loyal_customer.reset_index(inplace = True) \n",
        "loyal_customer"
      ],
      "execution_count": null,
      "outputs": [
        {
          "output_type": "execute_result",
          "data": {
            "text/html": [
              "<div>\n",
              "<style scoped>\n",
              "    .dataframe tbody tr th:only-of-type {\n",
              "        vertical-align: middle;\n",
              "    }\n",
              "\n",
              "    .dataframe tbody tr th {\n",
              "        vertical-align: top;\n",
              "    }\n",
              "\n",
              "    .dataframe thead th {\n",
              "        text-align: right;\n",
              "    }\n",
              "</style>\n",
              "<table border=\"1\" class=\"dataframe\">\n",
              "  <thead>\n",
              "    <tr style=\"text-align: right;\">\n",
              "      <th></th>\n",
              "      <th>CUSTOMERNAME</th>\n",
              "      <th>DEALSIZE</th>\n",
              "      <th>PRODUCTLINE</th>\n",
              "      <th>QUANTITYORDERED</th>\n",
              "    </tr>\n",
              "  </thead>\n",
              "  <tbody>\n",
              "    <tr>\n",
              "      <th>0</th>\n",
              "      <td>Euro Shopping Channel</td>\n",
              "      <td>Large</td>\n",
              "      <td>Classic Cars</td>\n",
              "      <td>243</td>\n",
              "    </tr>\n",
              "    <tr>\n",
              "      <th>1</th>\n",
              "      <td>Euro Shopping Channel</td>\n",
              "      <td>Large</td>\n",
              "      <td>Motorcycles</td>\n",
              "      <td>122</td>\n",
              "    </tr>\n",
              "    <tr>\n",
              "      <th>2</th>\n",
              "      <td>Euro Shopping Channel</td>\n",
              "      <td>Large</td>\n",
              "      <td>Trucks and Buses</td>\n",
              "      <td>173</td>\n",
              "    </tr>\n",
              "    <tr>\n",
              "      <th>3</th>\n",
              "      <td>Euro Shopping Channel</td>\n",
              "      <td>Large</td>\n",
              "      <td>Vintage Cars</td>\n",
              "      <td>40</td>\n",
              "    </tr>\n",
              "    <tr>\n",
              "      <th>4</th>\n",
              "      <td>Euro Shopping Channel</td>\n",
              "      <td>Medium</td>\n",
              "      <td>Classic Cars</td>\n",
              "      <td>2114</td>\n",
              "    </tr>\n",
              "    <tr>\n",
              "      <th>5</th>\n",
              "      <td>Euro Shopping Channel</td>\n",
              "      <td>Medium</td>\n",
              "      <td>Motorcycles</td>\n",
              "      <td>293</td>\n",
              "    </tr>\n",
              "    <tr>\n",
              "      <th>6</th>\n",
              "      <td>Euro Shopping Channel</td>\n",
              "      <td>Medium</td>\n",
              "      <td>Planes</td>\n",
              "      <td>561</td>\n",
              "    </tr>\n",
              "    <tr>\n",
              "      <th>7</th>\n",
              "      <td>Euro Shopping Channel</td>\n",
              "      <td>Medium</td>\n",
              "      <td>Ships</td>\n",
              "      <td>424</td>\n",
              "    </tr>\n",
              "    <tr>\n",
              "      <th>8</th>\n",
              "      <td>Euro Shopping Channel</td>\n",
              "      <td>Medium</td>\n",
              "      <td>Trains</td>\n",
              "      <td>228</td>\n",
              "    </tr>\n",
              "    <tr>\n",
              "      <th>9</th>\n",
              "      <td>Euro Shopping Channel</td>\n",
              "      <td>Medium</td>\n",
              "      <td>Trucks and Buses</td>\n",
              "      <td>488</td>\n",
              "    </tr>\n",
              "    <tr>\n",
              "      <th>10</th>\n",
              "      <td>Euro Shopping Channel</td>\n",
              "      <td>Medium</td>\n",
              "      <td>Vintage Cars</td>\n",
              "      <td>956</td>\n",
              "    </tr>\n",
              "    <tr>\n",
              "      <th>11</th>\n",
              "      <td>Euro Shopping Channel</td>\n",
              "      <td>Small</td>\n",
              "      <td>Classic Cars</td>\n",
              "      <td>1459</td>\n",
              "    </tr>\n",
              "    <tr>\n",
              "      <th>12</th>\n",
              "      <td>Euro Shopping Channel</td>\n",
              "      <td>Small</td>\n",
              "      <td>Motorcycles</td>\n",
              "      <td>255</td>\n",
              "    </tr>\n",
              "    <tr>\n",
              "      <th>13</th>\n",
              "      <td>Euro Shopping Channel</td>\n",
              "      <td>Small</td>\n",
              "      <td>Planes</td>\n",
              "      <td>357</td>\n",
              "    </tr>\n",
              "    <tr>\n",
              "      <th>14</th>\n",
              "      <td>Euro Shopping Channel</td>\n",
              "      <td>Small</td>\n",
              "      <td>Ships</td>\n",
              "      <td>395</td>\n",
              "    </tr>\n",
              "    <tr>\n",
              "      <th>15</th>\n",
              "      <td>Euro Shopping Channel</td>\n",
              "      <td>Small</td>\n",
              "      <td>Trains</td>\n",
              "      <td>204</td>\n",
              "    </tr>\n",
              "    <tr>\n",
              "      <th>16</th>\n",
              "      <td>Euro Shopping Channel</td>\n",
              "      <td>Small</td>\n",
              "      <td>Trucks and Buses</td>\n",
              "      <td>415</td>\n",
              "    </tr>\n",
              "    <tr>\n",
              "      <th>17</th>\n",
              "      <td>Euro Shopping Channel</td>\n",
              "      <td>Small</td>\n",
              "      <td>Vintage Cars</td>\n",
              "      <td>600</td>\n",
              "    </tr>\n",
              "  </tbody>\n",
              "</table>\n",
              "</div>"
            ],
            "text/plain": [
              "             CUSTOMERNAME DEALSIZE       PRODUCTLINE  QUANTITYORDERED\n",
              "0   Euro Shopping Channel    Large      Classic Cars              243\n",
              "1   Euro Shopping Channel    Large       Motorcycles              122\n",
              "2   Euro Shopping Channel    Large  Trucks and Buses              173\n",
              "3   Euro Shopping Channel    Large      Vintage Cars               40\n",
              "4   Euro Shopping Channel   Medium      Classic Cars             2114\n",
              "5   Euro Shopping Channel   Medium       Motorcycles              293\n",
              "6   Euro Shopping Channel   Medium            Planes              561\n",
              "7   Euro Shopping Channel   Medium             Ships              424\n",
              "8   Euro Shopping Channel   Medium            Trains              228\n",
              "9   Euro Shopping Channel   Medium  Trucks and Buses              488\n",
              "10  Euro Shopping Channel   Medium      Vintage Cars              956\n",
              "11  Euro Shopping Channel    Small      Classic Cars             1459\n",
              "12  Euro Shopping Channel    Small       Motorcycles              255\n",
              "13  Euro Shopping Channel    Small            Planes              357\n",
              "14  Euro Shopping Channel    Small             Ships              395\n",
              "15  Euro Shopping Channel    Small            Trains              204\n",
              "16  Euro Shopping Channel    Small  Trucks and Buses              415\n",
              "17  Euro Shopping Channel    Small      Vintage Cars              600"
            ]
          },
          "metadata": {},
          "execution_count": 29
        }
      ]
    },
    {
      "cell_type": "code",
      "metadata": {
        "colab": {
          "base_uri": "https://localhost:8080/",
          "height": 715
        },
        "id": "9qA1gLgUMj1f",
        "outputId": "2e7c9ba8-9615-4ad7-f48d-c60296095dae"
      },
      "source": [
        "plt.figure(figsize=(15,10))\n",
        "sns.barplot(data=loyal_customer, x='PRODUCTLINE', y='QUANTITYORDERED')\n",
        "plt.xticks(rotation=45)\n",
        "plt.title(\"Euro Shopping Channel Product Bought Distribution\", fontsize=30, color=\"blue\")\n",
        "plt.xlabel(\"PRODUCT\", fontsize=15, color=\"blue\")\n",
        "plt.ylabel(\"QUANTITY BOUGHT\", fontsize=15, color=\"blue\")"
      ],
      "execution_count": null,
      "outputs": [
        {
          "output_type": "execute_result",
          "data": {
            "text/plain": [
              "Text(0, 0.5, 'QUANTITY BOUGHT')"
            ]
          },
          "metadata": {},
          "execution_count": 30
        },
        {
          "output_type": "display_data",
          "data": {
            "image/png": "[encoded data removed]",
            "text/plain": [
              "<Figure size 1080x720 with 1 Axes>"
            ]
          },
          "metadata": {
            "needs_background": "light"
          }
        }
      ]
    },
    {
      "cell_type": "markdown",
      "metadata": {
        "id": "t-n8ulv65Gc3"
      },
      "source": [
        "### Top 10 Countries"
      ]
    },
    {
      "cell_type": "code",
      "metadata": {
        "colab": {
          "base_uri": "https://localhost:8080/",
          "height": 363
        },
        "id": "2A7EDDbxxehQ",
        "outputId": "568f7ded-1c40-46e0-a7ce-be8d6e2cf5fc"
      },
      "source": [
        "topcountry = df.groupby(['COUNTRY'])[['SALES']].sum().sort_values('SALES', ascending=False).head(10)\n",
        "topcountry.reset_index(inplace=True)\n",
        "topcountry"
      ],
      "execution_count": null,
      "outputs": [
        {
          "output_type": "execute_result",
          "data": {
            "text/html": [
              "<div>\n",
              "<style scoped>\n",
              "    .dataframe tbody tr th:only-of-type {\n",
              "        vertical-align: middle;\n",
              "    }\n",
              "\n",
              "    .dataframe tbody tr th {\n",
              "        vertical-align: top;\n",
              "    }\n",
              "\n",
              "    .dataframe thead th {\n",
              "        text-align: right;\n",
              "    }\n",
              "</style>\n",
              "<table border=\"1\" class=\"dataframe\">\n",
              "  <thead>\n",
              "    <tr style=\"text-align: right;\">\n",
              "      <th></th>\n",
              "      <th>COUNTRY</th>\n",
              "      <th>SALES</th>\n",
              "    </tr>\n",
              "  </thead>\n",
              "  <tbody>\n",
              "    <tr>\n",
              "      <th>0</th>\n",
              "      <td>USA</td>\n",
              "      <td>3627982.83</td>\n",
              "    </tr>\n",
              "    <tr>\n",
              "      <th>1</th>\n",
              "      <td>Spain</td>\n",
              "      <td>1215686.92</td>\n",
              "    </tr>\n",
              "    <tr>\n",
              "      <th>2</th>\n",
              "      <td>France</td>\n",
              "      <td>1110916.52</td>\n",
              "    </tr>\n",
              "    <tr>\n",
              "      <th>3</th>\n",
              "      <td>Australia</td>\n",
              "      <td>630623.10</td>\n",
              "    </tr>\n",
              "    <tr>\n",
              "      <th>4</th>\n",
              "      <td>UK</td>\n",
              "      <td>478880.46</td>\n",
              "    </tr>\n",
              "    <tr>\n",
              "      <th>5</th>\n",
              "      <td>Italy</td>\n",
              "      <td>374674.31</td>\n",
              "    </tr>\n",
              "    <tr>\n",
              "      <th>6</th>\n",
              "      <td>Finland</td>\n",
              "      <td>329581.91</td>\n",
              "    </tr>\n",
              "    <tr>\n",
              "      <th>7</th>\n",
              "      <td>Norway</td>\n",
              "      <td>307463.70</td>\n",
              "    </tr>\n",
              "    <tr>\n",
              "      <th>8</th>\n",
              "      <td>Singapore</td>\n",
              "      <td>288488.41</td>\n",
              "    </tr>\n",
              "    <tr>\n",
              "      <th>9</th>\n",
              "      <td>Denmark</td>\n",
              "      <td>245637.15</td>\n",
              "    </tr>\n",
              "  </tbody>\n",
              "</table>\n",
              "</div>"
            ],
            "text/plain": [
              "     COUNTRY       SALES\n",
              "0        USA  3627982.83\n",
              "1      Spain  1215686.92\n",
              "2     France  1110916.52\n",
              "3  Australia   630623.10\n",
              "4         UK   478880.46\n",
              "5      Italy   374674.31\n",
              "6    Finland   329581.91\n",
              "7     Norway   307463.70\n",
              "8  Singapore   288488.41\n",
              "9    Denmark   245637.15"
            ]
          },
          "metadata": {},
          "execution_count": 44
        }
      ]
    },
    {
      "cell_type": "code",
      "metadata": {
        "colab": {
          "base_uri": "https://localhost:8080/",
          "height": 542
        },
        "id": "DIh97_yKyDC8",
        "outputId": "8d346f27-756f-4fa6-dd1a-b733d342fefd"
      },
      "source": [
        "fig = px.pie(topcountry,\"COUNTRY\",\"SALES\")\n",
        "fig.update_traces(textposition='inside', textinfo='percent+label')"
      ],
      "execution_count": null,
      "outputs": [
        {
          "output_type": "display_data",
          "data": {
            "text/html": [
              "<html>\n",
              "<head><meta charset=\"utf-8\" /></head>\n",
              "<body>\n",
              "    <div>\n",
              "            <script src=\"https://cdnjs.cloudflare.com/ajax/libs/mathjax/2.7.5/MathJax.js?config=TeX-AMS-MML_SVG\"></script><script type=\"text/javascript\">if (window.MathJax) {MathJax.Hub.Config({SVG: {font: \"STIX-Web\"}});}</script>\n",
              "                <script type=\"text/javascript\">window.PlotlyConfig = {MathJaxConfig: 'local'};</script>\n",
              "        <script src=\"https://cdn.plot.ly/plotly-latest.min.js\"></script>    \n",
              "            <div id=\"5d9c6647-3772-4e2b-94b2-00b0d071202e\" class=\"plotly-graph-div\" style=\"height:525px; width:100%;\"></div>\n",
              "            <script type=\"text/javascript\">\n",
              "                \n",
              "                    window.PLOTLYENV=window.PLOTLYENV || {};\n",
              "                    \n",
              "                if (document.getElementById(\"5d9c6647-3772-4e2b-94b2-00b0d071202e\")) {\n",
              "                    Plotly.newPlot(\n",
              "                        '5d9c6647-3772-4e2b-94b2-00b0d071202e',\n",
              "                        [{\"domain\": {\"x\": [0.0, 1.0], \"y\": [0.0, 1.0]}, \"hoverlabel\": {\"namelength\": 0}, \"hovertemplate\": \"COUNTRY=%{label}<br>SALES=%{value}\", \"labels\": [\"USA\", \"Spain\", \"France\", \"Australia\", \"UK\", \"Italy\", \"Finland\", \"Norway\", \"Singapore\", \"Denmark\"], \"legendgroup\": \"\", \"name\": \"\", \"showlegend\": true, \"textinfo\": \"percent+label\", \"textposition\": \"inside\", \"type\": \"pie\", \"values\": [3627982.83, 1215686.9200000009, 1110916.5199999993, 630623.1000000001, 478880.4600000001, 374674.30999999976, 329581.9100000001, 307463.7000000001, 288488.41000000003, 245637.15]}],\n",
              "                        {\"legend\": {\"tracegroupgap\": 0}, \"margin\": {\"t\": 60}, \"template\": {\"data\": {\"bar\": [{\"error_x\": {\"color\": \"#2a3f5f\"}, \"error_y\": {\"color\": \"#2a3f5f\"}, \"marker\": {\"line\": {\"color\": \"#E5ECF6\", \"width\": 0.5}}, \"type\": \"bar\"}], \"barpolar\": [{\"marker\": {\"line\": {\"color\": \"#E5ECF6\", \"width\": 0.5}}, \"type\": \"barpolar\"}], \"carpet\": [{\"aaxis\": {\"endlinecolor\": \"#2a3f5f\", \"gridcolor\": \"white\", \"linecolor\": \"white\", \"minorgridcolor\": \"white\", \"startlinecolor\": \"#2a3f5f\"}, \"baxis\": {\"endlinecolor\": \"#2a3f5f\", \"gridcolor\": \"white\", \"linecolor\": \"white\", \"minorgridcolor\": \"white\", \"startlinecolor\": \"#2a3f5f\"}, \"type\": \"carpet\"}], \"choropleth\": [{\"colorbar\": {\"outlinewidth\": 0, \"ticks\": \"\"}, \"type\": \"choropleth\"}], \"contour\": [{\"colorbar\": {\"outlinewidth\": 0, \"ticks\": \"\"}, \"colorscale\": [[0.0, \"#0d0887\"], [0.1111111111111111, \"#46039f\"], [0.2222222222222222, \"#7201a8\"], [0.3333333333333333, \"#9c179e\"], [0.4444444444444444, \"#bd3786\"], [0.5555555555555556, \"#d8576b\"], [0.6666666666666666, \"#ed7953\"], [0.7777777777777778, \"#fb9f3a\"], [0.8888888888888888, \"#fdca26\"], [1.0, \"#f0f921\"]], \"type\": \"contour\"}], \"contourcarpet\": [{\"colorbar\": {\"outlinewidth\": 0, \"ticks\": \"\"}, \"type\": \"contourcarpet\"}], \"heatmap\": [{\"colorbar\": {\"outlinewidth\": 0, \"ticks\": \"\"}, \"colorscale\": [[0.0, \"#0d0887\"], [0.1111111111111111, \"#46039f\"], [0.2222222222222222, \"#7201a8\"], [0.3333333333333333, \"#9c179e\"], [0.4444444444444444, \"#bd3786\"], [0.5555555555555556, \"#d8576b\"], [0.6666666666666666, \"#ed7953\"], [0.7777777777777778, \"#fb9f3a\"], [0.8888888888888888, \"#fdca26\"], [1.0, \"#f0f921\"]], \"type\": \"heatmap\"}], \"heatmapgl\": [{\"colorbar\": {\"outlinewidth\": 0, \"ticks\": \"\"}, \"colorscale\": [[0.0, \"#0d0887\"], [0.1111111111111111, \"#46039f\"], [0.2222222222222222, \"#7201a8\"], [0.3333333333333333, \"#9c179e\"], [0.4444444444444444, \"#bd3786\"], [0.5555555555555556, \"#d8576b\"], [0.6666666666666666, \"#ed7953\"], [0.7777777777777778, \"#fb9f3a\"], [0.8888888888888888, \"#fdca26\"], [1.0, \"#f0f921\"]], \"type\": \"heatmapgl\"}], \"histogram\": [{\"marker\": {\"colorbar\": {\"outlinewidth\": 0, \"ticks\": \"\"}}, \"type\": \"histogram\"}], \"histogram2d\": [{\"colorbar\": {\"outlinewidth\": 0, \"ticks\": \"\"}, \"colorscale\": [[0.0, \"#0d0887\"], [0.1111111111111111, \"#46039f\"], [0.2222222222222222, \"#7201a8\"], [0.3333333333333333, \"#9c179e\"], [0.4444444444444444, \"#bd3786\"], [0.5555555555555556, \"#d8576b\"], [0.6666666666666666, \"#ed7953\"], [0.7777777777777778, \"#fb9f3a\"], [0.8888888888888888, \"#fdca26\"], [1.0, \"#f0f921\"]], \"type\": \"histogram2d\"}], \"histogram2dcontour\": [{\"colorbar\": {\"outlinewidth\": 0, \"ticks\": \"\"}, \"colorscale\": [[0.0, \"#0d0887\"], [0.1111111111111111, \"#46039f\"], [0.2222222222222222, \"#7201a8\"], [0.3333333333333333, \"#9c179e\"], [0.4444444444444444, \"#bd3786\"], [0.5555555555555556, \"#d8576b\"], [0.6666666666666666, \"#ed7953\"], [0.7777777777777778, \"#fb9f3a\"], [0.8888888888888888, \"#fdca26\"], [1.0, \"#f0f921\"]], \"type\": \"histogram2dcontour\"}], \"mesh3d\": [{\"colorbar\": {\"outlinewidth\": 0, \"ticks\": \"\"}, \"type\": \"mesh3d\"}], \"parcoords\": [{\"line\": {\"colorbar\": {\"outlinewidth\": 0, \"ticks\": \"\"}}, \"type\": \"parcoords\"}], \"pie\": [{\"automargin\": true, \"type\": \"pie\"}], \"scatter\": [{\"marker\": {\"colorbar\": {\"outlinewidth\": 0, \"ticks\": \"\"}}, \"type\": \"scatter\"}], \"scatter3d\": [{\"line\": {\"colorbar\": {\"outlinewidth\": 0, \"ticks\": \"\"}}, \"marker\": {\"colorbar\": {\"outlinewidth\": 0, \"ticks\": \"\"}}, \"type\": \"scatter3d\"}], \"scattercarpet\": [{\"marker\": {\"colorbar\": {\"outlinewidth\": 0, \"ticks\": \"\"}}, \"type\": \"scattercarpet\"}], \"scattergeo\": [{\"marker\": {\"colorbar\": {\"outlinewidth\": 0, \"ticks\": \"\"}}, \"type\": \"scattergeo\"}], \"scattergl\": [{\"marker\": {\"colorbar\": {\"outlinewidth\": 0, \"ticks\": \"\"}}, \"type\": \"scattergl\"}], \"scattermapbox\": [{\"marker\": {\"colorbar\": {\"outlinewidth\": 0, \"ticks\": \"\"}}, \"type\": \"scattermapbox\"}], \"scatterpolar\": [{\"marker\": {\"colorbar\": {\"outlinewidth\": 0, \"ticks\": \"\"}}, \"type\": \"scatterpolar\"}], \"scatterpolargl\": [{\"marker\": {\"colorbar\": {\"outlinewidth\": 0, \"ticks\": \"\"}}, \"type\": \"scatterpolargl\"}], \"scatterternary\": [{\"marker\": {\"colorbar\": {\"outlinewidth\": 0, \"ticks\": \"\"}}, \"type\": \"scatterternary\"}], \"surface\": [{\"colorbar\": {\"outlinewidth\": 0, \"ticks\": \"\"}, \"colorscale\": [[0.0, \"#0d0887\"], [0.1111111111111111, \"#46039f\"], [0.2222222222222222, \"#7201a8\"], [0.3333333333333333, \"#9c179e\"], [0.4444444444444444, \"#bd3786\"], [0.5555555555555556, \"#d8576b\"], [0.6666666666666666, \"#ed7953\"], [0.7777777777777778, \"#fb9f3a\"], [0.8888888888888888, \"#fdca26\"], [1.0, \"#f0f921\"]], \"type\": \"surface\"}], \"table\": [{\"cells\": {\"fill\": {\"color\": \"#EBF0F8\"}, \"line\": {\"color\": \"white\"}}, \"header\": {\"fill\": {\"color\": \"#C8D4E3\"}, \"line\": {\"color\": \"white\"}}, \"type\": \"table\"}]}, \"layout\": {\"annotationdefaults\": {\"arrowcolor\": \"#2a3f5f\", \"arrowhead\": 0, \"arrowwidth\": 1}, \"coloraxis\": {\"colorbar\": {\"outlinewidth\": 0, \"ticks\": \"\"}}, \"colorscale\": {\"diverging\": [[0, \"#8e0152\"], [0.1, \"#c51b7d\"], [0.2, \"#de77ae\"], [0.3, \"#f1b6da\"], [0.4, \"#fde0ef\"], [0.5, \"#f7f7f7\"], [0.6, \"#e6f5d0\"], [0.7, \"#b8e186\"], [0.8, \"#7fbc41\"], [0.9, \"#4d9221\"], [1, \"#276419\"]], \"sequential\": [[0.0, \"#0d0887\"], [0.1111111111111111, \"#46039f\"], [0.2222222222222222, \"#7201a8\"], [0.3333333333333333, \"#9c179e\"], [0.4444444444444444, \"#bd3786\"], [0.5555555555555556, \"#d8576b\"], [0.6666666666666666, \"#ed7953\"], [0.7777777777777778, \"#fb9f3a\"], [0.8888888888888888, \"#fdca26\"], [1.0, \"#f0f921\"]], \"sequentialminus\": [[0.0, \"#0d0887\"], [0.1111111111111111, \"#46039f\"], [0.2222222222222222, \"#7201a8\"], [0.3333333333333333, \"#9c179e\"], [0.4444444444444444, \"#bd3786\"], [0.5555555555555556, \"#d8576b\"], [0.6666666666666666, \"#ed7953\"], [0.7777777777777778, \"#fb9f3a\"], [0.8888888888888888, \"#fdca26\"], [1.0, \"#f0f921\"]]}, \"colorway\": [\"#636efa\", \"#EF553B\", \"#00cc96\", \"#ab63fa\", \"#FFA15A\", \"#19d3f3\", \"#FF6692\", \"#B6E880\", \"#FF97FF\", \"#FECB52\"], \"font\": {\"color\": \"#2a3f5f\"}, \"geo\": {\"bgcolor\": \"white\", \"lakecolor\": \"white\", \"landcolor\": \"#E5ECF6\", \"showlakes\": true, \"showland\": true, \"subunitcolor\": \"white\"}, \"hoverlabel\": {\"align\": \"left\"}, \"hovermode\": \"closest\", \"mapbox\": {\"style\": \"light\"}, \"paper_bgcolor\": \"white\", \"plot_bgcolor\": \"#E5ECF6\", \"polar\": {\"angularaxis\": {\"gridcolor\": \"white\", \"linecolor\": \"white\", \"ticks\": \"\"}, \"bgcolor\": \"#E5ECF6\", \"radialaxis\": {\"gridcolor\": \"white\", \"linecolor\": \"white\", \"ticks\": \"\"}}, \"scene\": {\"xaxis\": {\"backgroundcolor\": \"#E5ECF6\", \"gridcolor\": \"white\", \"gridwidth\": 2, \"linecolor\": \"white\", \"showbackground\": true, \"ticks\": \"\", \"zerolinecolor\": \"white\"}, \"yaxis\": {\"backgroundcolor\": \"#E5ECF6\", \"gridcolor\": \"white\", \"gridwidth\": 2, \"linecolor\": \"white\", \"showbackground\": true, \"ticks\": \"\", \"zerolinecolor\": \"white\"}, \"zaxis\": {\"backgroundcolor\": \"#E5ECF6\", \"gridcolor\": \"white\", \"gridwidth\": 2, \"linecolor\": \"white\", \"showbackground\": true, \"ticks\": \"\", \"zerolinecolor\": \"white\"}}, \"shapedefaults\": {\"line\": {\"color\": \"#2a3f5f\"}}, \"ternary\": {\"aaxis\": {\"gridcolor\": \"white\", \"linecolor\": \"white\", \"ticks\": \"\"}, \"baxis\": {\"gridcolor\": \"white\", \"linecolor\": \"white\", \"ticks\": \"\"}, \"bgcolor\": \"#E5ECF6\", \"caxis\": {\"gridcolor\": \"white\", \"linecolor\": \"white\", \"ticks\": \"\"}}, \"title\": {\"x\": 0.05}, \"xaxis\": {\"automargin\": true, \"gridcolor\": \"white\", \"linecolor\": \"white\", \"ticks\": \"\", \"title\": {\"standoff\": 15}, \"zerolinecolor\": \"white\", \"zerolinewidth\": 2}, \"yaxis\": {\"automargin\": true, \"gridcolor\": \"white\", \"linecolor\": \"white\", \"ticks\": \"\", \"title\": {\"standoff\": 15}, \"zerolinecolor\": \"white\", \"zerolinewidth\": 2}}}},\n",
              "                        {\"responsive\": true}\n",
              "                    ).then(function(){\n",
              "                            \n",
              "var gd = document.getElementById('5d9c6647-3772-4e2b-94b2-00b0d071202e');\n",
              "var x = new MutationObserver(function (mutations, observer) {{\n",
              "        var display = window.getComputedStyle(gd).display;\n",
              "        if (!display || display === 'none') {{\n",
              "            console.log([gd, 'removed!']);\n",
              "            Plotly.purge(gd);\n",
              "            observer.disconnect();\n",
              "        }}\n",
              "}});\n",
              "\n",
              "// Listen for the removal of the full notebook cells\n",
              "var notebookContainer = gd.closest('#notebook-container');\n",
              "if (notebookContainer) {{\n",
              "    x.observe(notebookContainer, {childList: true});\n",
              "}}\n",
              "\n",
              "// Listen for the clearing of the current output cell\n",
              "var outputEl = gd.closest('.output');\n",
              "if (outputEl) {{\n",
              "    x.observe(outputEl, {childList: true});\n",
              "}}\n",
              "\n",
              "                        })\n",
              "                };\n",
              "                \n",
              "            </script>\n",
              "        </div>\n",
              "</body>\n",
              "</html>"
            ]
          },
          "metadata": {}
        }
      ]
    },
    {
      "cell_type": "code",
      "metadata": {
        "colab": {
          "base_uri": "https://localhost:8080/",
          "height": 656
        },
        "id": "wBFmiK-ByR_D",
        "outputId": "623473f4-0467-4479-b62b-06bcce0ec713"
      },
      "source": [
        "plt.figure(figsize=(20,10))\n",
        "sns.barplot(data=topcountry,y=\"COUNTRY\",x=\"SALES\")\n",
        "plt.title(\"TOP 10 COUNTRIES\", fontsize=30)\n",
        "plt.xlabel(\"COUNTRY\", fontsize=15)\n",
        "plt.ylabel(\"TOTAL SALES\", fontsize=15)"
      ],
      "execution_count": null,
      "outputs": [
        {
          "output_type": "execute_result",
          "data": {
            "text/plain": [
              "Text(0, 0.5, 'TOTAL SALES')"
            ]
          },
          "metadata": {},
          "execution_count": 46
        },
        {
          "output_type": "display_data",
          "data": {
            "image/png": "[encoded data removed]",
            "text/plain": [
              "<Figure size 1440x720 with 1 Axes>"
            ]
          },
          "metadata": {
            "needs_background": "light"
          }
        }
      ]
    },
    {
      "cell_type": "markdown",
      "metadata": {
        "id": "EnYoYhkw5Oe-"
      },
      "source": [
        "### Top 10 Cities"
      ]
    },
    {
      "cell_type": "code",
      "metadata": {
        "colab": {
          "base_uri": "https://localhost:8080/",
          "height": 363
        },
        "id": "JpkXO8XtODK_",
        "outputId": "16153ab2-9c64-43e0-9125-af48bab27f82"
      },
      "source": [
        "topcity = df.groupby(['CITY'])[['SALES']].sum().sort_values('SALES', ascending=False).head(10)\n",
        "topcity.reset_index(inplace=True)\n",
        "topcity"
      ],
      "execution_count": null,
      "outputs": [
        {
          "output_type": "execute_result",
          "data": {
            "text/html": [
              "<div>\n",
              "<style scoped>\n",
              "    .dataframe tbody tr th:only-of-type {\n",
              "        vertical-align: middle;\n",
              "    }\n",
              "\n",
              "    .dataframe tbody tr th {\n",
              "        vertical-align: top;\n",
              "    }\n",
              "\n",
              "    .dataframe thead th {\n",
              "        text-align: right;\n",
              "    }\n",
              "</style>\n",
              "<table border=\"1\" class=\"dataframe\">\n",
              "  <thead>\n",
              "    <tr style=\"text-align: right;\">\n",
              "      <th></th>\n",
              "      <th>CITY</th>\n",
              "      <th>SALES</th>\n",
              "    </tr>\n",
              "  </thead>\n",
              "  <tbody>\n",
              "    <tr>\n",
              "      <th>0</th>\n",
              "      <td>Madrid</td>\n",
              "      <td>1082551.44</td>\n",
              "    </tr>\n",
              "    <tr>\n",
              "      <th>1</th>\n",
              "      <td>San Rafael</td>\n",
              "      <td>654858.06</td>\n",
              "    </tr>\n",
              "    <tr>\n",
              "      <th>2</th>\n",
              "      <td>NYC</td>\n",
              "      <td>560787.77</td>\n",
              "    </tr>\n",
              "    <tr>\n",
              "      <th>3</th>\n",
              "      <td>Singapore</td>\n",
              "      <td>288488.41</td>\n",
              "    </tr>\n",
              "    <tr>\n",
              "      <th>4</th>\n",
              "      <td>Paris</td>\n",
              "      <td>268944.68</td>\n",
              "    </tr>\n",
              "    <tr>\n",
              "      <th>5</th>\n",
              "      <td>San Francisco</td>\n",
              "      <td>224358.68</td>\n",
              "    </tr>\n",
              "    <tr>\n",
              "      <th>6</th>\n",
              "      <td>New Bedford</td>\n",
              "      <td>207874.86</td>\n",
              "    </tr>\n",
              "    <tr>\n",
              "      <th>7</th>\n",
              "      <td>Nantes</td>\n",
              "      <td>204304.86</td>\n",
              "    </tr>\n",
              "    <tr>\n",
              "      <th>8</th>\n",
              "      <td>Melbourne</td>\n",
              "      <td>200995.41</td>\n",
              "    </tr>\n",
              "    <tr>\n",
              "      <th>9</th>\n",
              "      <td>Brickhaven</td>\n",
              "      <td>165255.20</td>\n",
              "    </tr>\n",
              "  </tbody>\n",
              "</table>\n",
              "</div>"
            ],
            "text/plain": [
              "            CITY       SALES\n",
              "0         Madrid  1082551.44\n",
              "1     San Rafael   654858.06\n",
              "2            NYC   560787.77\n",
              "3      Singapore   288488.41\n",
              "4          Paris   268944.68\n",
              "5  San Francisco   224358.68\n",
              "6    New Bedford   207874.86\n",
              "7         Nantes   204304.86\n",
              "8      Melbourne   200995.41\n",
              "9     Brickhaven   165255.20"
            ]
          },
          "metadata": {},
          "execution_count": 49
        }
      ]
    },
    {
      "cell_type": "code",
      "metadata": {
        "colab": {
          "base_uri": "https://localhost:8080/"
        },
        "id": "dQo7U4mUB3Dn",
        "outputId": "fa34da9f-7b8b-4cb3-b2c1-08972ba2cb64"
      },
      "source": [
        "plt.figure(figsize=(20,10))\n",
        "sns.barplot(data=topcity,y=\"CITY\",x=\"SALES\")\n",
        "plt.title(\"TOP 10 CITIES\", fontsize=30)\n",
        "plt.xlabel(\"CITY\", fontsize=15)\n",
        "plt.ylabel(\"TOTAL SALES\", fontsize=15)"
      ],
      "execution_count": null,
      "outputs": [
        {
          "output_type": "execute_result",
          "data": {
            "text/plain": [
              "Text(0, 0.5, 'TOTAL SALES')"
            ]
          },
          "metadata": {},
          "execution_count": 50
        },
        {
          "output_type": "display_data",
          "data": {
            "image/png": "[encoded data removed]",
            "text/plain": [
              "<Figure size 1440x720 with 1 Axes>"
            ]
          },
          "metadata": {
            "needs_background": "light"
          }
        }
      ]
    },
    {
      "cell_type": "markdown",
      "metadata": {
        "id": "s3SbTdsj5W9C"
      },
      "source": [
        "### Top 10 Cities in USA"
      ]
    },
    {
      "cell_type": "code",
      "metadata": {
        "colab": {
          "base_uri": "https://localhost:8080/",
          "height": 363
        },
        "id": "nMj1F30wNU9B",
        "outputId": "fa1e3c09-7d49-4519-a6be-4de7148d1335"
      },
      "source": [
        "topcityUSA = df.groupby(['COUNTRY','CITY'])[['SALES']].sum()\n",
        "topcityUSA = topcityUSA.query(\"COUNTRY=='USA'\").sort_values('SALES', ascending=False).head(10)\n",
        "topcityUSA.reset_index(inplace=True)\n",
        "topcityUSA"
      ],
      "execution_count": null,
      "outputs": [
        {
          "output_type": "execute_result",
          "data": {
            "text/html": [
              "<div>\n",
              "<style scoped>\n",
              "    .dataframe tbody tr th:only-of-type {\n",
              "        vertical-align: middle;\n",
              "    }\n",
              "\n",
              "    .dataframe tbody tr th {\n",
              "        vertical-align: top;\n",
              "    }\n",
              "\n",
              "    .dataframe thead th {\n",
              "        text-align: right;\n",
              "    }\n",
              "</style>\n",
              "<table border=\"1\" class=\"dataframe\">\n",
              "  <thead>\n",
              "    <tr style=\"text-align: right;\">\n",
              "      <th></th>\n",
              "      <th>COUNTRY</th>\n",
              "      <th>CITY</th>\n",
              "      <th>SALES</th>\n",
              "    </tr>\n",
              "  </thead>\n",
              "  <tbody>\n",
              "    <tr>\n",
              "      <th>0</th>\n",
              "      <td>USA</td>\n",
              "      <td>San Rafael</td>\n",
              "      <td>654858.06</td>\n",
              "    </tr>\n",
              "    <tr>\n",
              "      <th>1</th>\n",
              "      <td>USA</td>\n",
              "      <td>NYC</td>\n",
              "      <td>560787.77</td>\n",
              "    </tr>\n",
              "    <tr>\n",
              "      <th>2</th>\n",
              "      <td>USA</td>\n",
              "      <td>San Francisco</td>\n",
              "      <td>224358.68</td>\n",
              "    </tr>\n",
              "    <tr>\n",
              "      <th>3</th>\n",
              "      <td>USA</td>\n",
              "      <td>New Bedford</td>\n",
              "      <td>207874.86</td>\n",
              "    </tr>\n",
              "    <tr>\n",
              "      <th>4</th>\n",
              "      <td>USA</td>\n",
              "      <td>Brickhaven</td>\n",
              "      <td>165255.20</td>\n",
              "    </tr>\n",
              "    <tr>\n",
              "      <th>5</th>\n",
              "      <td>USA</td>\n",
              "      <td>San Jose</td>\n",
              "      <td>160010.27</td>\n",
              "    </tr>\n",
              "    <tr>\n",
              "      <th>6</th>\n",
              "      <td>USA</td>\n",
              "      <td>Boston</td>\n",
              "      <td>154069.66</td>\n",
              "    </tr>\n",
              "    <tr>\n",
              "      <th>7</th>\n",
              "      <td>USA</td>\n",
              "      <td>Philadelphia</td>\n",
              "      <td>151189.13</td>\n",
              "    </tr>\n",
              "    <tr>\n",
              "      <th>8</th>\n",
              "      <td>USA</td>\n",
              "      <td>Cambridge</td>\n",
              "      <td>139244.00</td>\n",
              "    </tr>\n",
              "    <tr>\n",
              "      <th>9</th>\n",
              "      <td>USA</td>\n",
              "      <td>Nashua</td>\n",
              "      <td>131685.30</td>\n",
              "    </tr>\n",
              "  </tbody>\n",
              "</table>\n",
              "</div>"
            ],
            "text/plain": [
              "  COUNTRY           CITY      SALES\n",
              "0     USA     San Rafael  654858.06\n",
              "1     USA            NYC  560787.77\n",
              "2     USA  San Francisco  224358.68\n",
              "3     USA    New Bedford  207874.86\n",
              "4     USA     Brickhaven  165255.20\n",
              "5     USA       San Jose  160010.27\n",
              "6     USA         Boston  154069.66\n",
              "7     USA   Philadelphia  151189.13\n",
              "8     USA      Cambridge  139244.00\n",
              "9     USA         Nashua  131685.30"
            ]
          },
          "metadata": {},
          "execution_count": 47
        }
      ]
    },
    {
      "cell_type": "code",
      "metadata": {
        "colab": {
          "base_uri": "https://localhost:8080/",
          "height": 656
        },
        "id": "PVKWstP5OqWl",
        "outputId": "99b71739-843c-46df-f9f7-e25b69382cb1"
      },
      "source": [
        "plt.figure(figsize=(20,10))\n",
        "sns.barplot(data=topcityUSA,y=\"CITY\",x=\"SALES\")\n",
        "plt.title(\"TOP 10 CITIES IN USA\", fontsize=30)\n",
        "plt.xlabel(\"CITY\", fontsize=15)\n",
        "plt.ylabel(\"TOTAL SALES\", fontsize=15)"
      ],
      "execution_count": null,
      "outputs": [
        {
          "output_type": "execute_result",
          "data": {
            "text/plain": [
              "Text(0, 0.5, 'TOTAL SALES')"
            ]
          },
          "metadata": {},
          "execution_count": 48
        },
        {
          "output_type": "display_data",
          "data": {
            "image/png": "[encoded data removed]",
            "text/plain": [
              "<Figure size 1440x720 with 1 Axes>"
            ]
          },
          "metadata": {
            "needs_background": "light"
          }
        }
      ]
    },
    {
      "cell_type": "markdown",
      "metadata": {
        "id": "vfzEnDx_iFXb"
      },
      "source": [
        "# **Descriptive Statistics**"
      ]
    },
    {
      "cell_type": "code",
      "metadata": {
        "colab": {
          "base_uri": "https://localhost:8080/",
          "height": 1000
        },
        "id": "6AnbT7RUiQhM",
        "outputId": "b3e8c505-52a7-4a00-bd4e-6f079e6cda18"
      },
      "source": [
        "dfa = df.groupby(['YEAR_ID','MONTH_ID'])[['PRICEEACH']].describe()\n",
        "dfa"
      ],
      "execution_count": null,
      "outputs": [
        {
          "output_type": "execute_result",
          "data": {
            "text/html": [
              "<div>\n",
              "<style scoped>\n",
              "    .dataframe tbody tr th:only-of-type {\n",
              "        vertical-align: middle;\n",
              "    }\n",
              "\n",
              "    .dataframe tbody tr th {\n",
              "        vertical-align: top;\n",
              "    }\n",
              "\n",
              "    .dataframe thead tr th {\n",
              "        text-align: left;\n",
              "    }\n",
              "\n",
              "    .dataframe thead tr:last-of-type th {\n",
              "        text-align: right;\n",
              "    }\n",
              "</style>\n",
              "<table border=\"1\" class=\"dataframe\">\n",
              "  <thead>\n",
              "    <tr>\n",
              "      <th></th>\n",
              "      <th></th>\n",
              "      <th colspan=\"8\" halign=\"left\">PRICEEACH</th>\n",
              "    </tr>\n",
              "    <tr>\n",
              "      <th></th>\n",
              "      <th></th>\n",
              "      <th>count</th>\n",
              "      <th>mean</th>\n",
              "      <th>std</th>\n",
              "      <th>min</th>\n",
              "      <th>25%</th>\n",
              "      <th>50%</th>\n",
              "      <th>75%</th>\n",
              "      <th>max</th>\n",
              "    </tr>\n",
              "    <tr>\n",
              "      <th>YEAR_ID</th>\n",
              "      <th>MONTH_ID</th>\n",
              "      <th></th>\n",
              "      <th></th>\n",
              "      <th></th>\n",
              "      <th></th>\n",
              "      <th></th>\n",
              "      <th></th>\n",
              "      <th></th>\n",
              "      <th></th>\n",
              "    </tr>\n",
              "  </thead>\n",
              "  <tbody>\n",
              "    <tr>\n",
              "      <th rowspan=\"12\" valign=\"top\">2003</th>\n",
              "      <th>1</th>\n",
              "      <td>39.0</td>\n",
              "      <td>82.136154</td>\n",
              "      <td>23.907199</td>\n",
              "      <td>31.20</td>\n",
              "      <td>56.4750</td>\n",
              "      <td>100.000</td>\n",
              "      <td>100.0</td>\n",
              "      <td>100.0</td>\n",
              "    </tr>\n",
              "    <tr>\n",
              "      <th>2</th>\n",
              "      <td>41.0</td>\n",
              "      <td>83.940244</td>\n",
              "      <td>17.236220</td>\n",
              "      <td>40.15</td>\n",
              "      <td>70.8700</td>\n",
              "      <td>88.630</td>\n",
              "      <td>100.0</td>\n",
              "      <td>100.0</td>\n",
              "    </tr>\n",
              "    <tr>\n",
              "      <th>3</th>\n",
              "      <td>50.0</td>\n",
              "      <td>81.733400</td>\n",
              "      <td>22.199183</td>\n",
              "      <td>32.10</td>\n",
              "      <td>65.1900</td>\n",
              "      <td>94.520</td>\n",
              "      <td>100.0</td>\n",
              "      <td>100.0</td>\n",
              "    </tr>\n",
              "    <tr>\n",
              "      <th>4</th>\n",
              "      <td>58.0</td>\n",
              "      <td>84.915690</td>\n",
              "      <td>18.832664</td>\n",
              "      <td>30.06</td>\n",
              "      <td>71.9150</td>\n",
              "      <td>96.070</td>\n",
              "      <td>100.0</td>\n",
              "      <td>100.0</td>\n",
              "    </tr>\n",
              "    <tr>\n",
              "      <th>5</th>\n",
              "      <td>58.0</td>\n",
              "      <td>81.951207</td>\n",
              "      <td>21.257233</td>\n",
              "      <td>30.96</td>\n",
              "      <td>66.5500</td>\n",
              "      <td>92.060</td>\n",
              "      <td>100.0</td>\n",
              "      <td>100.0</td>\n",
              "    </tr>\n",
              "    <tr>\n",
              "      <th>6</th>\n",
              "      <td>46.0</td>\n",
              "      <td>84.333261</td>\n",
              "      <td>18.452985</td>\n",
              "      <td>38.19</td>\n",
              "      <td>69.6625</td>\n",
              "      <td>93.130</td>\n",
              "      <td>100.0</td>\n",
              "      <td>100.0</td>\n",
              "    </tr>\n",
              "    <tr>\n",
              "      <th>7</th>\n",
              "      <td>50.0</td>\n",
              "      <td>86.208200</td>\n",
              "      <td>20.092633</td>\n",
              "      <td>35.87</td>\n",
              "      <td>75.7575</td>\n",
              "      <td>100.000</td>\n",
              "      <td>100.0</td>\n",
              "      <td>100.0</td>\n",
              "    </tr>\n",
              "    <tr>\n",
              "      <th>8</th>\n",
              "      <td>58.0</td>\n",
              "      <td>83.211379</td>\n",
              "      <td>19.812885</td>\n",
              "      <td>35.80</td>\n",
              "      <td>74.6375</td>\n",
              "      <td>86.705</td>\n",
              "      <td>100.0</td>\n",
              "      <td>100.0</td>\n",
              "    </tr>\n",
              "    <tr>\n",
              "      <th>9</th>\n",
              "      <td>76.0</td>\n",
              "      <td>84.306974</td>\n",
              "      <td>20.434665</td>\n",
              "      <td>33.19</td>\n",
              "      <td>65.1500</td>\n",
              "      <td>100.000</td>\n",
              "      <td>100.0</td>\n",
              "      <td>100.0</td>\n",
              "    </tr>\n",
              "    <tr>\n",
              "      <th>10</th>\n",
              "      <td>158.0</td>\n",
              "      <td>84.601646</td>\n",
              "      <td>19.840735</td>\n",
              "      <td>27.22</td>\n",
              "      <td>72.1700</td>\n",
              "      <td>99.265</td>\n",
              "      <td>100.0</td>\n",
              "      <td>100.0</td>\n",
              "    </tr>\n",
              "    <tr>\n",
              "      <th>11</th>\n",
              "      <td>296.0</td>\n",
              "      <td>83.506385</td>\n",
              "      <td>20.547234</td>\n",
              "      <td>28.29</td>\n",
              "      <td>69.1600</td>\n",
              "      <td>95.060</td>\n",
              "      <td>100.0</td>\n",
              "      <td>100.0</td>\n",
              "    </tr>\n",
              "    <tr>\n",
              "      <th>12</th>\n",
              "      <td>70.0</td>\n",
              "      <td>83.929286</td>\n",
              "      <td>21.354780</td>\n",
              "      <td>29.70</td>\n",
              "      <td>70.2775</td>\n",
              "      <td>97.980</td>\n",
              "      <td>100.0</td>\n",
              "      <td>100.0</td>\n",
              "    </tr>\n",
              "    <tr>\n",
              "      <th rowspan=\"12\" valign=\"top\">2004</th>\n",
              "      <th>1</th>\n",
              "      <td>91.0</td>\n",
              "      <td>83.257143</td>\n",
              "      <td>19.897326</td>\n",
              "      <td>34.19</td>\n",
              "      <td>70.6650</td>\n",
              "      <td>89.730</td>\n",
              "      <td>100.0</td>\n",
              "      <td>100.0</td>\n",
              "    </tr>\n",
              "    <tr>\n",
              "      <th>2</th>\n",
              "      <td>86.0</td>\n",
              "      <td>83.985116</td>\n",
              "      <td>19.503065</td>\n",
              "      <td>36.63</td>\n",
              "      <td>68.7325</td>\n",
              "      <td>95.515</td>\n",
              "      <td>100.0</td>\n",
              "      <td>100.0</td>\n",
              "    </tr>\n",
              "    <tr>\n",
              "      <th>3</th>\n",
              "      <td>56.0</td>\n",
              "      <td>83.696250</td>\n",
              "      <td>22.331467</td>\n",
              "      <td>29.21</td>\n",
              "      <td>63.0075</td>\n",
              "      <td>100.000</td>\n",
              "      <td>100.0</td>\n",
              "      <td>100.0</td>\n",
              "    </tr>\n",
              "    <tr>\n",
              "      <th>4</th>\n",
              "      <td>64.0</td>\n",
              "      <td>82.529375</td>\n",
              "      <td>20.755889</td>\n",
              "      <td>29.54</td>\n",
              "      <td>72.6250</td>\n",
              "      <td>91.095</td>\n",
              "      <td>100.0</td>\n",
              "      <td>100.0</td>\n",
              "    </tr>\n",
              "    <tr>\n",
              "      <th>5</th>\n",
              "      <td>74.0</td>\n",
              "      <td>84.904595</td>\n",
              "      <td>18.594509</td>\n",
              "      <td>36.07</td>\n",
              "      <td>69.2950</td>\n",
              "      <td>99.420</td>\n",
              "      <td>100.0</td>\n",
              "      <td>100.0</td>\n",
              "    </tr>\n",
              "    <tr>\n",
              "      <th>6</th>\n",
              "      <td>85.0</td>\n",
              "      <td>82.284471</td>\n",
              "      <td>20.134587</td>\n",
              "      <td>32.59</td>\n",
              "      <td>67.1400</td>\n",
              "      <td>89.290</td>\n",
              "      <td>100.0</td>\n",
              "      <td>100.0</td>\n",
              "    </tr>\n",
              "    <tr>\n",
              "      <th>7</th>\n",
              "      <td>91.0</td>\n",
              "      <td>85.663297</td>\n",
              "      <td>17.769054</td>\n",
              "      <td>40.40</td>\n",
              "      <td>72.4400</td>\n",
              "      <td>96.740</td>\n",
              "      <td>100.0</td>\n",
              "      <td>100.0</td>\n",
              "    </tr>\n",
              "    <tr>\n",
              "      <th>8</th>\n",
              "      <td>133.0</td>\n",
              "      <td>83.818421</td>\n",
              "      <td>20.018454</td>\n",
              "      <td>28.88</td>\n",
              "      <td>69.9600</td>\n",
              "      <td>99.290</td>\n",
              "      <td>100.0</td>\n",
              "      <td>100.0</td>\n",
              "    </tr>\n",
              "    <tr>\n",
              "      <th>9</th>\n",
              "      <td>95.0</td>\n",
              "      <td>82.847895</td>\n",
              "      <td>20.633015</td>\n",
              "      <td>30.06</td>\n",
              "      <td>67.1100</td>\n",
              "      <td>96.340</td>\n",
              "      <td>100.0</td>\n",
              "      <td>100.0</td>\n",
              "    </tr>\n",
              "    <tr>\n",
              "      <th>10</th>\n",
              "      <td>159.0</td>\n",
              "      <td>83.309182</td>\n",
              "      <td>21.227783</td>\n",
              "      <td>29.54</td>\n",
              "      <td>66.2650</td>\n",
              "      <td>95.550</td>\n",
              "      <td>100.0</td>\n",
              "      <td>100.0</td>\n",
              "    </tr>\n",
              "    <tr>\n",
              "      <th>11</th>\n",
              "      <td>301.0</td>\n",
              "      <td>83.961927</td>\n",
              "      <td>19.854764</td>\n",
              "      <td>29.87</td>\n",
              "      <td>69.6300</td>\n",
              "      <td>95.130</td>\n",
              "      <td>100.0</td>\n",
              "      <td>100.0</td>\n",
              "    </tr>\n",
              "    <tr>\n",
              "      <th>12</th>\n",
              "      <td>110.0</td>\n",
              "      <td>82.823000</td>\n",
              "      <td>20.530167</td>\n",
              "      <td>31.86</td>\n",
              "      <td>65.8225</td>\n",
              "      <td>96.495</td>\n",
              "      <td>100.0</td>\n",
              "      <td>100.0</td>\n",
              "    </tr>\n",
              "    <tr>\n",
              "      <th rowspan=\"5\" valign=\"top\">2005</th>\n",
              "      <th>1</th>\n",
              "      <td>99.0</td>\n",
              "      <td>84.162323</td>\n",
              "      <td>20.562201</td>\n",
              "      <td>30.59</td>\n",
              "      <td>65.8150</td>\n",
              "      <td>96.920</td>\n",
              "      <td>100.0</td>\n",
              "      <td>100.0</td>\n",
              "    </tr>\n",
              "    <tr>\n",
              "      <th>2</th>\n",
              "      <td>97.0</td>\n",
              "      <td>84.930103</td>\n",
              "      <td>20.340807</td>\n",
              "      <td>34.91</td>\n",
              "      <td>68.3500</td>\n",
              "      <td>100.000</td>\n",
              "      <td>100.0</td>\n",
              "      <td>100.0</td>\n",
              "    </tr>\n",
              "    <tr>\n",
              "      <th>3</th>\n",
              "      <td>106.0</td>\n",
              "      <td>81.688208</td>\n",
              "      <td>19.853973</td>\n",
              "      <td>36.66</td>\n",
              "      <td>66.5425</td>\n",
              "      <td>87.035</td>\n",
              "      <td>100.0</td>\n",
              "      <td>100.0</td>\n",
              "    </tr>\n",
              "    <tr>\n",
              "      <th>4</th>\n",
              "      <td>56.0</td>\n",
              "      <td>81.362321</td>\n",
              "      <td>20.979080</td>\n",
              "      <td>29.54</td>\n",
              "      <td>71.4975</td>\n",
              "      <td>88.275</td>\n",
              "      <td>100.0</td>\n",
              "      <td>100.0</td>\n",
              "    </tr>\n",
              "    <tr>\n",
              "      <th>5</th>\n",
              "      <td>120.0</td>\n",
              "      <td>84.177500</td>\n",
              "      <td>20.492079</td>\n",
              "      <td>26.88</td>\n",
              "      <td>66.7800</td>\n",
              "      <td>99.125</td>\n",
              "      <td>100.0</td>\n",
              "      <td>100.0</td>\n",
              "    </tr>\n",
              "  </tbody>\n",
              "</table>\n",
              "</div>"
            ],
            "text/plain": [
              "                 PRICEEACH                        ...                       \n",
              "                     count       mean        std  ...      50%    75%    max\n",
              "YEAR_ID MONTH_ID                                  ...                       \n",
              "2003    1             39.0  82.136154  23.907199  ...  100.000  100.0  100.0\n",
              "        2             41.0  83.940244  17.236220  ...   88.630  100.0  100.0\n",
              "        3             50.0  81.733400  22.199183  ...   94.520  100.0  100.0\n",
              "        4             58.0  84.915690  18.832664  ...   96.070  100.0  100.0\n",
              "        5             58.0  81.951207  21.257233  ...   92.060  100.0  100.0\n",
              "        6             46.0  84.333261  18.452985  ...   93.130  100.0  100.0\n",
              "        7             50.0  86.208200  20.092633  ...  100.000  100.0  100.0\n",
              "        8             58.0  83.211379  19.812885  ...   86.705  100.0  100.0\n",
              "        9             76.0  84.306974  20.434665  ...  100.000  100.0  100.0\n",
              "        10           158.0  84.601646  19.840735  ...   99.265  100.0  100.0\n",
              "        11           296.0  83.506385  20.547234  ...   95.060  100.0  100.0\n",
              "        12            70.0  83.929286  21.354780  ...   97.980  100.0  100.0\n",
              "2004    1             91.0  83.257143  19.897326  ...   89.730  100.0  100.0\n",
              "        2             86.0  83.985116  19.503065  ...   95.515  100.0  100.0\n",
              "        3             56.0  83.696250  22.331467  ...  100.000  100.0  100.0\n",
              "        4             64.0  82.529375  20.755889  ...   91.095  100.0  100.0\n",
              "        5             74.0  84.904595  18.594509  ...   99.420  100.0  100.0\n",
              "        6             85.0  82.284471  20.134587  ...   89.290  100.0  100.0\n",
              "        7             91.0  85.663297  17.769054  ...   96.740  100.0  100.0\n",
              "        8            133.0  83.818421  20.018454  ...   99.290  100.0  100.0\n",
              "        9             95.0  82.847895  20.633015  ...   96.340  100.0  100.0\n",
              "        10           159.0  83.309182  21.227783  ...   95.550  100.0  100.0\n",
              "        11           301.0  83.961927  19.854764  ...   95.130  100.0  100.0\n",
              "        12           110.0  82.823000  20.530167  ...   96.495  100.0  100.0\n",
              "2005    1             99.0  84.162323  20.562201  ...   96.920  100.0  100.0\n",
              "        2             97.0  84.930103  20.340807  ...  100.000  100.0  100.0\n",
              "        3            106.0  81.688208  19.853973  ...   87.035  100.0  100.0\n",
              "        4             56.0  81.362321  20.979080  ...   88.275  100.0  100.0\n",
              "        5            120.0  84.177500  20.492079  ...   99.125  100.0  100.0\n",
              "\n",
              "[29 rows x 8 columns]"
            ]
          },
          "metadata": {},
          "execution_count": 135
        }
      ]
    },
    {
      "cell_type": "code",
      "metadata": {
        "colab": {
          "base_uri": "https://localhost:8080/",
          "height": 205
        },
        "id": "_wIg93xtigIy",
        "outputId": "8d9d466d-8db6-4c43-f80f-8112ff9880ba"
      },
      "source": [
        "dfaa = dfa.query(\"YEAR_ID=='2005'\" and \"MONTH_ID=='4'\")\n",
        "dfaa.sort_values('YEAR_ID', ascending=False)"
      ],
      "execution_count": null,
      "outputs": [
        {
          "output_type": "execute_result",
          "data": {
            "text/html": [
              "<div>\n",
              "<style scoped>\n",
              "    .dataframe tbody tr th:only-of-type {\n",
              "        vertical-align: middle;\n",
              "    }\n",
              "\n",
              "    .dataframe tbody tr th {\n",
              "        vertical-align: top;\n",
              "    }\n",
              "\n",
              "    .dataframe thead tr th {\n",
              "        text-align: left;\n",
              "    }\n",
              "\n",
              "    .dataframe thead tr:last-of-type th {\n",
              "        text-align: right;\n",
              "    }\n",
              "</style>\n",
              "<table border=\"1\" class=\"dataframe\">\n",
              "  <thead>\n",
              "    <tr>\n",
              "      <th></th>\n",
              "      <th></th>\n",
              "      <th colspan=\"8\" halign=\"left\">PRICEEACH</th>\n",
              "    </tr>\n",
              "    <tr>\n",
              "      <th></th>\n",
              "      <th></th>\n",
              "      <th>count</th>\n",
              "      <th>mean</th>\n",
              "      <th>std</th>\n",
              "      <th>min</th>\n",
              "      <th>25%</th>\n",
              "      <th>50%</th>\n",
              "      <th>75%</th>\n",
              "      <th>max</th>\n",
              "    </tr>\n",
              "    <tr>\n",
              "      <th>YEAR_ID</th>\n",
              "      <th>MONTH_ID</th>\n",
              "      <th></th>\n",
              "      <th></th>\n",
              "      <th></th>\n",
              "      <th></th>\n",
              "      <th></th>\n",
              "      <th></th>\n",
              "      <th></th>\n",
              "      <th></th>\n",
              "    </tr>\n",
              "  </thead>\n",
              "  <tbody>\n",
              "    <tr>\n",
              "      <th>2005</th>\n",
              "      <th>4</th>\n",
              "      <td>56.0</td>\n",
              "      <td>81.362321</td>\n",
              "      <td>20.979080</td>\n",
              "      <td>29.54</td>\n",
              "      <td>71.4975</td>\n",
              "      <td>88.275</td>\n",
              "      <td>100.0</td>\n",
              "      <td>100.0</td>\n",
              "    </tr>\n",
              "    <tr>\n",
              "      <th>2004</th>\n",
              "      <th>4</th>\n",
              "      <td>64.0</td>\n",
              "      <td>82.529375</td>\n",
              "      <td>20.755889</td>\n",
              "      <td>29.54</td>\n",
              "      <td>72.6250</td>\n",
              "      <td>91.095</td>\n",
              "      <td>100.0</td>\n",
              "      <td>100.0</td>\n",
              "    </tr>\n",
              "    <tr>\n",
              "      <th>2003</th>\n",
              "      <th>4</th>\n",
              "      <td>58.0</td>\n",
              "      <td>84.915690</td>\n",
              "      <td>18.832664</td>\n",
              "      <td>30.06</td>\n",
              "      <td>71.9150</td>\n",
              "      <td>96.070</td>\n",
              "      <td>100.0</td>\n",
              "      <td>100.0</td>\n",
              "    </tr>\n",
              "  </tbody>\n",
              "</table>\n",
              "</div>"
            ],
            "text/plain": [
              "                 PRICEEACH                        ...                      \n",
              "                     count       mean        std  ...     50%    75%    max\n",
              "YEAR_ID MONTH_ID                                  ...                      \n",
              "2005    4             56.0  81.362321  20.979080  ...  88.275  100.0  100.0\n",
              "2004    4             64.0  82.529375  20.755889  ...  91.095  100.0  100.0\n",
              "2003    4             58.0  84.915690  18.832664  ...  96.070  100.0  100.0\n",
              "\n",
              "[3 rows x 8 columns]"
            ]
          },
          "metadata": {},
          "execution_count": 139
        }
      ]
    },
    {
      "cell_type": "code",
      "metadata": {
        "colab": {
          "base_uri": "https://localhost:8080/",
          "height": 205
        },
        "id": "5UIWbKZHkN4Q",
        "outputId": "d044c8cb-5383-417c-83a4-a4c9407e991a"
      },
      "source": [
        "dfaa2 = dfa.query(\"YEAR_ID=='2005'\" and \"MONTH_ID=='5'\")\n",
        "dfaa2.sort_values('YEAR_ID', ascending=False)"
      ],
      "execution_count": null,
      "outputs": [
        {
          "output_type": "execute_result",
          "data": {
            "text/html": [
              "<div>\n",
              "<style scoped>\n",
              "    .dataframe tbody tr th:only-of-type {\n",
              "        vertical-align: middle;\n",
              "    }\n",
              "\n",
              "    .dataframe tbody tr th {\n",
              "        vertical-align: top;\n",
              "    }\n",
              "\n",
              "    .dataframe thead tr th {\n",
              "        text-align: left;\n",
              "    }\n",
              "\n",
              "    .dataframe thead tr:last-of-type th {\n",
              "        text-align: right;\n",
              "    }\n",
              "</style>\n",
              "<table border=\"1\" class=\"dataframe\">\n",
              "  <thead>\n",
              "    <tr>\n",
              "      <th></th>\n",
              "      <th></th>\n",
              "      <th colspan=\"8\" halign=\"left\">PRICEEACH</th>\n",
              "    </tr>\n",
              "    <tr>\n",
              "      <th></th>\n",
              "      <th></th>\n",
              "      <th>count</th>\n",
              "      <th>mean</th>\n",
              "      <th>std</th>\n",
              "      <th>min</th>\n",
              "      <th>25%</th>\n",
              "      <th>50%</th>\n",
              "      <th>75%</th>\n",
              "      <th>max</th>\n",
              "    </tr>\n",
              "    <tr>\n",
              "      <th>YEAR_ID</th>\n",
              "      <th>MONTH_ID</th>\n",
              "      <th></th>\n",
              "      <th></th>\n",
              "      <th></th>\n",
              "      <th></th>\n",
              "      <th></th>\n",
              "      <th></th>\n",
              "      <th></th>\n",
              "      <th></th>\n",
              "    </tr>\n",
              "  </thead>\n",
              "  <tbody>\n",
              "    <tr>\n",
              "      <th>2005</th>\n",
              "      <th>5</th>\n",
              "      <td>120.0</td>\n",
              "      <td>84.177500</td>\n",
              "      <td>20.492079</td>\n",
              "      <td>26.88</td>\n",
              "      <td>66.780</td>\n",
              "      <td>99.125</td>\n",
              "      <td>100.0</td>\n",
              "      <td>100.0</td>\n",
              "    </tr>\n",
              "    <tr>\n",
              "      <th>2004</th>\n",
              "      <th>5</th>\n",
              "      <td>74.0</td>\n",
              "      <td>84.904595</td>\n",
              "      <td>18.594509</td>\n",
              "      <td>36.07</td>\n",
              "      <td>69.295</td>\n",
              "      <td>99.420</td>\n",
              "      <td>100.0</td>\n",
              "      <td>100.0</td>\n",
              "    </tr>\n",
              "    <tr>\n",
              "      <th>2003</th>\n",
              "      <th>5</th>\n",
              "      <td>58.0</td>\n",
              "      <td>81.951207</td>\n",
              "      <td>21.257233</td>\n",
              "      <td>30.96</td>\n",
              "      <td>66.550</td>\n",
              "      <td>92.060</td>\n",
              "      <td>100.0</td>\n",
              "      <td>100.0</td>\n",
              "    </tr>\n",
              "  </tbody>\n",
              "</table>\n",
              "</div>"
            ],
            "text/plain": [
              "                 PRICEEACH                        ...                      \n",
              "                     count       mean        std  ...     50%    75%    max\n",
              "YEAR_ID MONTH_ID                                  ...                      \n",
              "2005    5            120.0  84.177500  20.492079  ...  99.125  100.0  100.0\n",
              "2004    5             74.0  84.904595  18.594509  ...  99.420  100.0  100.0\n",
              "2003    5             58.0  81.951207  21.257233  ...  92.060  100.0  100.0\n",
              "\n",
              "[3 rows x 8 columns]"
            ]
          },
          "metadata": {},
          "execution_count": 142
        }
      ]
    }
  ]
}